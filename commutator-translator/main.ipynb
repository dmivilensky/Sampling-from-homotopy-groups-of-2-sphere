{
 "cells": [
  {
   "cell_type": "code",
   "execution_count": 1,
   "metadata": {},
   "outputs": [],
   "source": [
    "from pathlib import Path\n",
    "freegroup_dimension = 4\n",
    "\n",
    "path = Path('results', 'commutator-translation', f'{freegroup_dimension}-free-group')\n",
    "path.mkdir(parents=True, exist_ok=True)\n",
    "\n",
    "from os import environ\n",
    "environ[\"CUDA_VISIBLE_DEVICES\"] = \"1\"\n",
    "environ[\"CUDA_LAUNCH_BLOCKING\"] = \"1\""
   ]
  },
  {
   "cell_type": "code",
   "execution_count": 2,
   "metadata": {},
   "outputs": [],
   "source": [
    "eos_token = '<s>'\n",
    "pad_token = '<pad>'\n",
    "comma_token = ','\n",
    "left_bracket_token = '['\n",
    "right_bracket_token = ']'"
   ]
  },
  {
   "attachments": {},
   "cell_type": "markdown",
   "metadata": {},
   "source": [
    "# DATA PREPARATION"
   ]
  },
  {
   "attachments": {},
   "cell_type": "markdown",
   "metadata": {},
   "source": [
    "## TOKENIZER"
   ]
  },
  {
   "cell_type": "code",
   "execution_count": 3,
   "metadata": {},
   "outputs": [],
   "source": [
    "\n",
    "from tokenizers import Tokenizer\n",
    "from tokenizers import (\n",
    "    normalizers, pre_tokenizers, models, processors, trainers\n",
    ")\n",
    "from tokenizers.trainers import WordLevelTrainer\n",
    "\n",
    "from itertools import chain\n",
    "\n",
    "tokenizer = Tokenizer(models.WordLevel(\n",
    "    vocab = {str(x): i for i, x in enumerate(chain(range(-freegroup_dimension, 0), range(1, freegroup_dimension + 1)))}\n",
    "))\n",
    "tokenizer.add_tokens([comma_token, left_bracket_token, right_bracket_token])\n",
    "tokenizer.add_special_tokens([eos_token, pad_token])\n",
    "\n",
    "tokenizer.pre_tokenizer = pre_tokenizers.Sequence([\n",
    "    pre_tokenizers.WhitespaceSplit(),\n",
    "])\n",
    "\n",
    "tokenizer.post_processor = processors.TemplateProcessing(\n",
    "    single=f\"$ {eos_token}\",\n",
    "    special_tokens=[\n",
    "        (eos_token, tokenizer.token_to_id(eos_token)),\n",
    "    ]\n",
    ")\n",
    "\n",
    "tokenizer.save(str(path / 'tokenizer.json'))"
   ]
  },
  {
   "attachments": {},
   "cell_type": "markdown",
   "metadata": {},
   "source": [
    "## DATASET"
   ]
  },
  {
   "cell_type": "code",
   "execution_count": 2,
   "metadata": {},
   "outputs": [],
   "source": [
    "from dataclasses import dataclass\n",
    "\n",
    "@dataclass\n",
    "class DatasetConfig:\n",
    "    freegroup_dimension: int\n",
    "    max_commutee_length: int\n",
    "    max_commutator_depth: int\n",
    "    proba_commutator: float\n",
    "    proba_multiplication: float\n",
    "    max_multipliers_number: int\n",
    "    min_total_length: int\n",
    "    max_total_length: int\n"
   ]
  },
  {
   "cell_type": "code",
   "execution_count": 3,
   "metadata": {},
   "outputs": [
    {
     "name": "stderr",
     "output_type": "stream",
     "text": [
      "100%|██████████| 1000/1000 [00:01<00:00, 693.20it/s]\n"
     ]
    }
   ],
   "source": [
    "from freegroup import sampling as smp\n",
    "from freegroup.commutators import (\n",
    "    Commutator, Multiplication,\n",
    "    to_freegroup, normalize, to_tokenizer\n",
    ")\n",
    "\n",
    "from itertools import repeat\n",
    "from random import randint, sample, random, shuffle\n",
    "\n",
    "config = DatasetConfig(\n",
    "    freegroup_dimension = freegroup_dimension,\n",
    "    max_commutee_length = 3,\n",
    "    max_commutator_depth = 7,\n",
    "    proba_commutator = 0.85,\n",
    "    proba_multiplication = 0.5,\n",
    "    max_multipliers_number = 3,\n",
    "    min_total_length = 0,\n",
    "    max_total_length = 250,\n",
    ")\n",
    "\n",
    "from numpy.random import geometric\n",
    "\n",
    "commutee = smp.free_group_bounded(config.freegroup_dimension, random_length_method = lambda : geometric(0.5))\n",
    "\n",
    "\n",
    "def random_commutator(config: DatasetConfig, depth = None):\n",
    "\n",
    "    depth = smp.random_length(config.max_commutator_depth, method=\"almost_uniform\") if depth is None else depth\n",
    "\n",
    "    if depth <= 0:\n",
    "        return next(commutee)\n",
    "\n",
    "    coin = random()\n",
    "    if depth == 1 or coin < config.proba_commutator:\n",
    "        depths = [randint(1, depth), depth]\n",
    "        shuffle(depths)\n",
    "        return Commutator(*[random_commutator(config, d - 1) for d in depths])\n",
    "    coin -= config.proba_commutator\n",
    "    \n",
    "    if coin < config.proba_multiplication:\n",
    "        depths = [randint(2, depth) for _ in range(randint(2, config.max_multipliers_number) - 1)] +\\\n",
    "            [depth]\n",
    "        shuffle(depths)\n",
    "        return Multiplication([random_commutator(config, d - 1) for d in depths])\n",
    "    coin -= config.proba_multiplication\n",
    "\n",
    "\n",
    "def commutators(config):\n",
    "    while True: yield random_commutator(config)\n",
    "        \n",
    "generator = commutators(config)\n",
    "\n",
    "generator = map(lambda x: (to_freegroup(x), x), generator)\n",
    "generator = map(lambda p: tuple(map(normalize, p)), generator)\n",
    "\n",
    "generator = filter(lambda p: not isinstance(p[1], list), generator)\n",
    "generator = filter(lambda p: config.min_total_length < len(p[0]) < config.max_total_length, generator)\n",
    "\n",
    "generator = map(lambda p: tuple(map(to_tokenizer, p)), generator)\n",
    "\n",
    "visualize = list(smp.take_unique(1000, generator, verbose=True))\n"
   ]
  },
  {
   "cell_type": "code",
   "execution_count": 4,
   "metadata": {},
   "outputs": [],
   "source": [
    "from freegroup.commutators import Visitor\n",
    "\n",
    "class FindMultiplication(Visitor):\n",
    "    def visit_word(self, word):\n",
    "        return False\n",
    "\n",
    "    def visit_commutator(self, commutator):\n",
    "        return any(super().visit_commutator(commutator))\n",
    "\n",
    "    def visit_mult(self, mult):\n",
    "        return True\n",
    "    \n",
    "find_multiplication = FindMultiplication()\n",
    "\n",
    "\n",
    "class MaxCommuteeLength(Visitor):\n",
    "    def visit_word(self, word):\n",
    "        return len(word)\n",
    "\n",
    "    def visit_commutator(self, commutator):\n",
    "        return max(super().visit_commutator(commutator))\n",
    "\n",
    "    def visit_mult(self, mult):\n",
    "        return max(super().visit_mult(mult))\n",
    "    \n",
    "max_commutee_length = MaxCommuteeLength()\n",
    "    \n",
    "\n",
    "class CalculateDepth(Visitor):\n",
    "    def visit_word(self, word):\n",
    "        return 0\n",
    "\n",
    "    def visit_commutator(self, commutator):\n",
    "        return max(super().visit_commutator(commutator)) + 1\n",
    "\n",
    "    def visit_mult(self, mult):\n",
    "        return max(super().visit_mult(mult)) + 1\n",
    "\n",
    "calculate_depth = CalculateDepth()"
   ]
  },
  {
   "cell_type": "code",
   "execution_count": 6,
   "metadata": {},
   "outputs": [
    {
     "name": "stdout",
     "output_type": "stream",
     "text": [
      "HISTOGRAM \"THE LENGTH OF A WORD\"\n"
     ]
    },
    {
     "data": {
      "image/png": "[encoded data removed]",
      "text/plain": [
       "<Figure size 640x480 with 1 Axes>"
      ]
     },
     "metadata": {},
     "output_type": "display_data"
    },
    {
     "name": "stdout",
     "output_type": "stream",
     "text": [
      "SCATTER PLOT \"REDUCTION SIZE OF LENGTH\"\n"
     ]
    },
    {
     "data": {
      "image/png": "[encoded data removed]",
      "text/plain": [
       "<Figure size 640x480 with 1 Axes>"
      ]
     },
     "metadata": {},
     "output_type": "display_data"
    },
    {
     "name": "stdout",
     "output_type": "stream",
     "text": [
      "HISTOGRAM \"COMMUTATOR DEPTH\"\n"
     ]
    },
    {
     "data": {
      "image/png": "[encoded data removed]",
      "text/plain": [
       "<Figure size 640x480 with 1 Axes>"
      ]
     },
     "metadata": {},
     "output_type": "display_data"
    },
    {
     "name": "stdout",
     "output_type": "stream",
     "text": [
      "HISTOGRAM \"MAX COMMUTEE LENGTH\"\n"
     ]
    },
    {
     "data": {
      "image/png": "[encoded data removed]",
      "text/plain": [
       "<Figure size 640x480 with 1 Axes>"
      ]
     },
     "metadata": {},
     "output_type": "display_data"
    },
    {
     "name": "stdout",
     "output_type": "stream",
     "text": [
      "THE RATE OF WORDS CONTAINING MULTIPLICATION: 0.53\n"
     ]
    }
   ],
   "source": [
    "from freegroup.commutators import from_tokenizer\n",
    "\n",
    "from matplotlib import pyplot as plt\n",
    "from itertools import islice\n",
    "\n",
    "freegroups = list(map(lambda x: from_tokenizer(x[0]), visualize))\n",
    "commutators = list(map(lambda x: from_tokenizer(x[1]), visualize))\n",
    "\n",
    "print('HISTOGRAM \"THE LENGTH OF A WORD\"')\n",
    "\n",
    "lens = list(map(len, freegroups))\n",
    "plt.hist(lens)\n",
    "plt.show()\n",
    "\n",
    "print('SCATTER PLOT \"REDUCTION SIZE OF LENGTH\"')\n",
    "\n",
    "diffs = list(map(lambda x: len(to_freegroup(x[1])) - len(x[0]), zip(freegroups, commutators)))\n",
    "\n",
    "plt.scatter(lens, diffs)\n",
    "plt.show()\n",
    "\n",
    "print('HISTOGRAM \"COMMUTATOR DEPTH\"')\n",
    "\n",
    "from numpy import arange\n",
    "\n",
    "depths = list(map(calculate_depth, commutators))\n",
    "plt.hist(depths, arange(1, config.max_commutator_depth + 1.5) - 0.5)\n",
    "plt.show()\n",
    "\n",
    "print('HISTOGRAM \"MAX COMMUTEE LENGTH\"')\n",
    "\n",
    "lengths = list(map(max_commutee_length, commutators))\n",
    "plt.hist(lengths, arange(1, 20 + 1.5) - 0.5)\n",
    "plt.show()\n",
    "\n",
    "print(f'THE RATE OF WORDS CONTAINING MULTIPLICATION: {sum(map(find_multiplication, commutators)) / len(commutators)}')"
   ]
  },
  {
   "cell_type": "code",
   "execution_count": 44,
   "metadata": {},
   "outputs": [
    {
     "name": "stderr",
     "output_type": "stream",
     "text": [
      "100%|██████████| 200000/200000 [04:52<00:00, 683.27it/s]\n"
     ]
    }
   ],
   "source": [
    "dataset = list(smp.take_unique(int(2 * 10 ** 5), generator, verbose=True))"
   ]
  },
  {
   "cell_type": "code",
   "execution_count": 45,
   "metadata": {},
   "outputs": [
    {
     "name": "stdout",
     "output_type": "stream",
     "text": [
      "freegroup_dimension=4;max_commutee_length=3;max_commutator_depth=7;proba_commutator=0.85;proba_multiplication=0.5;max_multipliers_number=3;min_total_length=0;max_total_length=250\n"
     ]
    }
   ],
   "source": [
    "from pickle import dump\n",
    "\n",
    "prefix = config.__str__().replace('DatasetConfig', '').replace('(', '').replace(')', '').replace(', ', ';')\n",
    "\n",
    "with open(path / f'{prefix}.pkl', 'wb') as f:\n",
    "    dump(dataset, f)\n",
    "\n",
    "print(prefix)"
   ]
  },
  {
   "attachments": {},
   "cell_type": "markdown",
   "metadata": {},
   "source": [
    "# TRAINING"
   ]
  },
  {
   "cell_type": "code",
   "execution_count": 46,
   "metadata": {},
   "outputs": [],
   "source": [
    "from transformers import PreTrainedTokenizerFast\n",
    "\n",
    "tokenizer = PreTrainedTokenizerFast(\n",
    "    tokenizer_file = str(path / 'tokenizer.json'),\n",
    "    eos_token = eos_token,\n",
    "    pad_token = pad_token\n",
    ")"
   ]
  },
  {
   "cell_type": "code",
   "execution_count": 47,
   "metadata": {},
   "outputs": [],
   "source": [
    "from pickle import load\n",
    "from sklearn.model_selection import train_test_split\n",
    "\n",
    "dataset_path = '...'\n",
    "\n",
    "with open(dataset_path, 'rb') as f:\n",
    "    dataset = load(f)\n",
    "\n",
    "train_dataset, eval_dataset = train_test_split(dataset, test_size=0.01)"
   ]
  },
  {
   "cell_type": "code",
   "execution_count": 48,
   "metadata": {},
   "outputs": [],
   "source": [
    "def preprocess(input):\n",
    "    freegroup_seq, commutator_seq = input\n",
    "    model_inputs = tokenizer(\n",
    "        freegroup_seq,\n",
    "        return_token_type_ids   = False,\n",
    "        return_attention_mask   = False,\n",
    "    )\n",
    "    with tokenizer.as_target_tokenizer():\n",
    "        model_targets = tokenizer(\n",
    "            commutator_seq,\n",
    "        )\n",
    "    \n",
    "    model_inputs['input_ids']   = model_inputs['input_ids']\n",
    "    model_inputs['labels']      = model_targets['input_ids']\n",
    "\n",
    "    return model_inputs\n",
    "\n",
    "\n",
    "train_dataset = list(map(preprocess, train_dataset))\n",
    "eval_dataset = list(map(preprocess, eval_dataset))"
   ]
  },
  {
   "cell_type": "code",
   "execution_count": 49,
   "metadata": {},
   "outputs": [],
   "source": [
    "from transformers import BertConfig, GPT2Config, EncoderDecoderConfig, EncoderDecoderModel\n",
    "\n",
    "encoder_config = BertConfig(\n",
    "    vocab_size              = len(tokenizer),\n",
    "    hidden_size             = 128,\n",
    "    max_position_embeddings = 1024,\n",
    "    num_hidden_layers       = 12,\n",
    "    num_attention_heads     = 8,\n",
    "    intermediate_size       = 4 * 128,\n",
    "    pad_token_id            = tokenizer.pad_token_id,\n",
    ")\n",
    "\n",
    "decoder_config = BertConfig(\n",
    "    vocab_size              = len(tokenizer),\n",
    "    hidden_size             = 128,\n",
    "    max_position_embeddings = 1024,\n",
    "    num_hidden_layers       = 12,\n",
    "    num_attention_heads     = 8,\n",
    "    intermediate_size       = 4 * 128,\n",
    "    pad_token_id            = tokenizer.pad_token_id,\n",
    ")\n",
    "\n",
    "config = EncoderDecoderConfig.from_encoder_decoder_configs(\n",
    "    encoder_config = encoder_config,\n",
    "    decoder_config = decoder_config,\n",
    ")\n",
    "\n",
    "model = EncoderDecoderModel(config=config)\n",
    "model.config.decoder_start_token_id = tokenizer.eos_token_id\n",
    "model.config.pad_token_id           = tokenizer.pad_token_id"
   ]
  },
  {
   "cell_type": "code",
   "execution_count": 50,
   "metadata": {},
   "outputs": [],
   "source": [
    "from evaluate import load, combine\n",
    "\n",
    "metrics = combine([load(\"bleu\"), load(\"rouge\")])\n",
    "\n",
    "\n",
    "from re import finditer\n",
    "\n",
    "def trim_eos_tokens(string):\n",
    "    positions = finditer(eos_token, string)\n",
    "    begin = next(positions).end()\n",
    "    \n",
    "    try:                    end = next(positions).start()\n",
    "    except StopIteration:   end = len(string)\n",
    "\n",
    "    return string[begin:end]\n",
    "\n",
    "\n",
    "from numpy import argmax\n",
    "\n",
    "def compute_metrics(eval_pred):\n",
    "    logits, labels = eval_pred\n",
    "\n",
    "    labels[labels == -100] = tokenizer.convert_tokens_to_ids(pad_token)\n",
    "\n",
    "    predictions = tokenizer.batch_decode(logits, skip_special_tokens=False)\n",
    "    references = tokenizer.batch_decode(labels, skip_special_tokens=False)\n",
    "    references = list(map(lambda x: eos_token + ' ' +  x, references))\n",
    "    \n",
    "    predictions = list(map(trim_eos_tokens, predictions))\n",
    "    references = list(map(trim_eos_tokens, references))\n",
    "\n",
    "    print(predictions[0])\n",
    "    print(references[0])\n",
    "\n",
    "\n",
    "    return metrics.compute(references = references, predictions = predictions)"
   ]
  },
  {
   "cell_type": "code",
   "execution_count": 51,
   "metadata": {},
   "outputs": [],
   "source": [
    "from typing import List\n",
    "import torch\n",
    "\n",
    "def data_collator(batch: List):\n",
    "    def max_length_pad(batch: List):\n",
    "        max_length = max(map(len, batch))\n",
    "        batch = map(lambda x: x + [tokenizer.pad_token_id] * (max_length - len(x)), batch)\n",
    "        batch = map(lambda x: torch.tensor(x, dtype=int), batch)\n",
    "        batch = torch.stack(list(batch))\n",
    "        \n",
    "        attention_mask = torch.ones_like(batch)\n",
    "        attention_mask.masked_fill_(batch == tokenizer.pad_token_id, 0.) \n",
    "        return batch, attention_mask\n",
    "    \n",
    "    input_ids, attention_mask = max_length_pad([x.input_ids for x in batch])\n",
    "    labels, decoder_attention_mask = max_length_pad([x.labels for x in batch])\n",
    "    labels[labels == tokenizer.pad_token_id] = -100\n",
    "    \n",
    "    return {\n",
    "        'input_ids': input_ids,\n",
    "        'attention_mask': attention_mask,\n",
    "        'labels': labels,\n",
    "        'decoder_attention_mask': decoder_attention_mask,\n",
    "    }\n"
   ]
  },
  {
   "cell_type": "code",
   "execution_count": null,
   "metadata": {},
   "outputs": [],
   "source": [
    "from transformers import Seq2SeqTrainingArguments, Seq2SeqTrainer, DefaultDataCollator\n",
    "\n",
    "prefix = 'bert-bert-250'\n",
    "\n",
    "args = Seq2SeqTrainingArguments(\n",
    "    output_dir                  = str(path/prefix),\n",
    "    overwrite_output_dir        = True,\n",
    "\n",
    "    predict_with_generate       = True,\n",
    "    evaluation_strategy         = 'steps',\n",
    "    eval_steps                  = 500,\n",
    "\n",
    "    per_device_train_batch_size = 128,\n",
    "    per_device_eval_batch_size  = 128,\n",
    "    \n",
    "    logging_steps               = 1000,\n",
    "    save_steps                  = 1000,\n",
    "    \n",
    "    num_train_epochs            = 200,\n",
    "\n",
    "    learning_rate               = 8e-5,\n",
    "\n",
    "    generation_max_length       = 128,\n",
    ")\n",
    "\n",
    "trainer = Seq2SeqTrainer(\n",
    "    model           = model,\n",
    "    args            = args,\n",
    "    train_dataset   = train_dataset,\n",
    "    eval_dataset    = eval_dataset,\n",
    "    data_collator   = data_collator,\n",
    "    compute_metrics = compute_metrics,\n",
    ")\n",
    "\n",
    "trainer.train()"
   ]
  },
  {
   "attachments": {},
   "cell_type": "markdown",
   "metadata": {},
   "source": [
    "# REPOSITORY MANAGING"
   ]
  },
  {
   "cell_type": "code",
   "execution_count": 26,
   "metadata": {},
   "outputs": [],
   "source": [
    "from huggingface_hub import Repository\n",
    "\n",
    "repo = Repository('bert2bert-commutator-translator-250')"
   ]
  },
  {
   "cell_type": "code",
   "execution_count": null,
   "metadata": {},
   "outputs": [],
   "source": [
    "model.save_pretrained('bert2bert-commutator-translator-250')\n",
    "tokenizer.save_pretrained('bert2bert-commutator-translator-250')\n",
    "\n",
    "repo.git_add()\n",
    "repo.git_commit('Add model and tokenizer file')\n",
    "repo.git_push()"
   ]
  },
  {
   "attachments": {},
   "cell_type": "markdown",
   "metadata": {},
   "source": [
    "# INFERENCE"
   ]
  },
  {
   "cell_type": "code",
   "execution_count": 3,
   "metadata": {},
   "outputs": [],
   "source": [
    "from transformers import AutoTokenizer, AutoModelForSeq2SeqLM\n",
    "\n",
    "tokenizer = AutoTokenizer.from_pretrained(\n",
    "    \"kibrq/bert2bert-commutator-translator-250\",\n",
    "    eos_token = '</s>',\n",
    "    pad_token = '<pad>',\n",
    ")\n",
    "\n",
    "model = AutoModelForSeq2SeqLM.from_pretrained(\"kibrq/bert2bert-commutator-translator-250\").to('cuda')"
   ]
  },
  {
   "cell_type": "code",
   "execution_count": 6,
   "metadata": {},
   "outputs": [],
   "source": [
    "from torch import tensor\n",
    "from freegroup import tools, sampling as smp\n",
    "from freegroup.commutators import (\n",
    "    to_tokenizer, from_tokenizer\n",
    ")\n",
    "from itertools import repeat\n",
    "from re import finditer\n",
    "from itertools import islice\n",
    "\n",
    "\n",
    "def sampler(word, **generation_kwargs):\n",
    "    def sample():\n",
    "        input_ids = tokenizer(\n",
    "            to_tokenizer(word),\n",
    "        ).input_ids\n",
    "        input_ids = tensor(input_ids, dtype=int, device = model.device)\n",
    "        outputs = model.generate(input_ids.unsqueeze(0), **generation_kwargs)\n",
    "        return tokenizer.batch_decode(outputs)\n",
    "\n",
    "    return sample\n",
    "\n",
    "\n",
    "from re import finditer\n",
    "\n",
    "def trim_eos_tokens(string):\n",
    "    positions = finditer(tokenizer.eos_token, string)\n",
    "    begin = next(positions).end()\n",
    "    \n",
    "    try:                    end = next(positions).start()\n",
    "    except StopIteration:   end = len(string)\n",
    "\n",
    "    return string[begin:end]\n",
    "\n",
    "\n",
    "def try_or(callable, default, *args, **kwargs):\n",
    "    try:\n",
    "        return callable(*args, **kwargs)\n",
    "    except BaseException:\n",
    "        return default\n",
    "\n",
    "def translation(\n",
    "    word,\n",
    "    num_tries = None,\n",
    "    **generation_kwargs,\n",
    "):\n",
    "    g = smp.iterable_from_batches(sampler(\n",
    "        word, **generation_kwargs \n",
    "    ), num_tries)\n",
    "    g = map(trim_eos_tokens, g)\n",
    "    g = map(lambda x: try_or(from_tokenizer, [], x), g)\n",
    "    \n",
    "    return filter(lambda x: normalize(to_freegroup(x)) == word, g)\n"
   ]
  },
  {
   "cell_type": "code",
   "execution_count": 7,
   "metadata": {},
   "outputs": [
    {
     "name": "stdout",
     "output_type": "stream",
     "text": [
      "[[x,y],[x,yz]]\n"
     ]
    }
   ],
   "source": [
    "from freegroup.commutators import (\n",
    "    from_lu, normalize, to_freegroup, to_lu\n",
    ")\n",
    "\n",
    "generation_config = dict(\n",
    "    max_length = 40,\n",
    "    num_beams = 100,\n",
    "    num_return_sequences = 100,\n",
    ")\n",
    "\n",
    "word = normalize(to_freegroup(from_lu('[[x, y], [x, yz]]')))\n",
    "\n",
    "try:\n",
    "    c = next(translation(word, num_tries = 5, **generation_config))\n",
    "    print(to_lu(c))\n",
    "except StopIteration:\n",
    "    print('Failed!')"
   ]
  }
 ],
 "metadata": {
  "kernelspec": {
   "display_name": "Python 3",
   "language": "python",
   "name": "python3"
  },
  "language_info": {
   "codemirror_mode": {
    "name": "ipython",
    "version": 3
   },
   "file_extension": ".py",
   "mimetype": "text/x-python",
   "name": "python",
   "nbconvert_exporter": "python",
   "pygments_lexer": "ipython3",
   "version": "3.8.10"
  },
  "orig_nbformat": 4,
  "vscode": {
   "interpreter": {
    "hash": "31f2aee4e71d21fbe5cf8b01ff0e069b9275f58929596ceb00d14d90e3e16cd6"
   }
  }
 },
 "nbformat": 4,
 "nbformat_minor": 2
}
