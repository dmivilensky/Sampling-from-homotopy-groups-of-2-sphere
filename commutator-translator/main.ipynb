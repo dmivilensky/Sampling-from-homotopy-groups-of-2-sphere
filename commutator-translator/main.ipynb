{
 "cells": [
  {
   "cell_type": "code",
   "execution_count": 1,
   "metadata": {},
   "outputs": [],
   "source": [
    "from pathlib import Path\n",
    "freegroup_dimension = 4\n",
    "\n",
    "path = Path('results', 'commutator-translation', f'{freegroup_dimension}-free-group')\n",
    "path.mkdir(parents=True, exist_ok=True)\n",
    "\n",
    "from os import environ\n",
    "environ[\"CUDA_VISIBLE_DEVICES\"] = \"1\"\n",
    "environ[\"CUDA_LAUNCH_BLOCKING\"] = \"1\"\n",
    "environ[\"WAND_DISABLED\"]        = \"true\"\n",
    "environ[\"WAND_NOTEBOOK_NAME\"]   = \"commutator-translator-long\""
   ]
  },
  {
   "attachments": {},
   "cell_type": "markdown",
   "metadata": {},
   "source": [
    "# DATA PREPARATION"
   ]
  },
  {
   "attachments": {},
   "cell_type": "markdown",
   "metadata": {},
   "source": [
    "## TOKENIZER"
   ]
  },
  {
   "cell_type": "code",
   "execution_count": 2,
   "metadata": {},
   "outputs": [],
   "source": [
    "eos_token = '<s>'\n",
    "pad_token = '<pad>'\n",
    "comma_token = ','\n",
    "# star_token = '<star>'\n",
    "left_bracket_token = '['\n",
    "right_bracket_token = ']'"
   ]
  },
  {
   "cell_type": "code",
   "execution_count": 3,
   "metadata": {},
   "outputs": [],
   "source": [
    "from tokenizers import Tokenizer\n",
    "from tokenizers import (\n",
    "    normalizers, pre_tokenizers, models, processors, trainers\n",
    ")\n",
    "from tokenizers.trainers import WordLevelTrainer\n",
    "\n",
    "from itertools import chain\n",
    "\n",
    "tokenizer = Tokenizer(models.WordLevel(\n",
    "    vocab = {str(x): i for i, x in enumerate(chain(range(-freegroup_dimension, 0), range(1, freegroup_dimension + 1)))}\n",
    "))\n",
    "tokenizer.add_tokens([comma_token, left_bracket_token, right_bracket_token])\n",
    "tokenizer.add_special_tokens([eos_token, pad_token])\n",
    "\n",
    "tokenizer.pre_tokenizer = pre_tokenizers.Sequence([\n",
    "    pre_tokenizers.WhitespaceSplit(),\n",
    "])\n",
    "\n",
    "tokenizer.post_processor = processors.TemplateProcessing(\n",
    "    single=f\"$ {eos_token}\",\n",
    "    special_tokens=[\n",
    "        (eos_token, tokenizer.token_to_id(eos_token)),\n",
    "    ]\n",
    ")\n",
    "\n",
    "tokenizer.save(str(path / 'tokenizer.json'))"
   ]
  },
  {
   "attachments": {},
   "cell_type": "markdown",
   "metadata": {},
   "source": [
    "## COMMUTATOR STRUCTURE"
   ]
  },
  {
   "cell_type": "code",
   "execution_count": 3,
   "metadata": {},
   "outputs": [],
   "source": [
    "from typing import List, Callable\n",
    "from dataclasses import dataclass\n",
    "\n",
    "from freegroup import tools\n",
    "from functools import reduce\n",
    "\n",
    "\n",
    "class Expr:\n",
    "    def __init__(self): pass\n",
    "    \n",
    "@dataclass\n",
    "class Commutator(Expr):\n",
    "    left: Expr\n",
    "    right: Expr\n",
    "\n",
    "@dataclass\n",
    "class Multiplcation(Expr):\n",
    "    children: List[Expr]\n",
    "\n",
    "\n",
    "\n",
    "\n",
    "class Visitor:\n",
    "    def __call__(self, expr):\n",
    "        if isinstance(expr, list): \n",
    "            return self.visit_word(expr)\n",
    "        if isinstance(expr, Commutator):\n",
    "            return self.visit_commutator(expr)\n",
    "        if isinstance(expr, Multiplcation):\n",
    "            return self.visit_mult(expr)\n",
    "        raise ValueError('Unknown expr type')\n",
    "\n",
    "    def visit_word(self, word): pass\n",
    "\n",
    "    def visit_commutator(self, commutator):\n",
    "        return list(map(self, [commutator.left, commutator.right]))\n",
    "\n",
    "    def visit_mult(self, mult):\n",
    "        return list(map(self, mult.children))\n",
    "\n",
    "\n",
    "class Normalize(Visitor):\n",
    "    def visit_word(self, word):\n",
    "        return tools.normalize(word)\n",
    "\n",
    "    @staticmethod\n",
    "    def _trim_commutees(left, right):\n",
    "\n",
    "        '''\n",
    "        [xy, x] = [y, x]\n",
    "        [xy, X] = [y, X]\n",
    "        [xy, Y] = [y, x]\n",
    "        [x, xy] = [x, y]\n",
    "        [X, xy] = [X, y]\n",
    "        [Y, xy] = [x, y]\n",
    "        '''\n",
    "\n",
    "        min_length = min(len(left), len(right))\n",
    "\n",
    "        if min_length == 0:\n",
    "            return left, right\n",
    "        \n",
    "        is_right_min = len(right) == min_length\n",
    "        if not is_right_min:\n",
    "            left, right = right, left\n",
    "\n",
    "        if left[:min_length] == right:\n",
    "            left, right = Normalize._trim_commutees(left[min_length:], right)\n",
    "        if left[:min_length] == tools.reciprocal(right):\n",
    "            left, right = Normalize._trim_commutees(left[min_length:], right)\n",
    "        if left[-min_length:] == tools.reciprocal(right):\n",
    "            left, right = Normalize._trim_commutees(left[-min_length:], left[:-min_length])\n",
    "        \n",
    "        if not is_right_min:\n",
    "            return right, left\n",
    "        return left, right\n",
    "\n",
    "    def visit_commutator(self, commutator):\n",
    "        left, right = super().visit_commutator(commutator)\n",
    "\n",
    "        if isinstance(left, list) and isinstance(right, list):\n",
    "            left, right = Normalize._trim_commutees(left, right)\n",
    "\n",
    "        for child in [left, right]:\n",
    "            if isinstance(child, list) and not child:\n",
    "                return []\n",
    "\n",
    "        return Commutator(left, right)\n",
    "\n",
    "    def visit_mult(self, mult):\n",
    "        children = []\n",
    "        for child in super().visit_mult(mult):\n",
    "            if isinstance(child, Multiplcation):\n",
    "                children.extend(child.children)\n",
    "            elif children and isinstance(children[-1], list) and isinstance(child, list):\n",
    "                merged = tools.multiply(children.pop(), child)\n",
    "                children.append(self.visit_word(merged))\n",
    "            elif isinstance(child, list) and not child:\n",
    "                continue\n",
    "            else:\n",
    "                children.append(child)\n",
    "        if not children:\n",
    "            return []\n",
    "        return Multiplcation(children) if len(children) > 1 else children[0]\n",
    "\n",
    "normalize = Normalize()\n",
    "        \n",
    "\n",
    "class ToFreegroup(Visitor):\n",
    "    def visit_word(self, word):\n",
    "        return word\n",
    "\n",
    "    def visit_commutator(self, commutator):\n",
    "        left, right = super().visit_commutator(commutator)\n",
    "        return tools.commutator(left, right)\n",
    "\n",
    "    def visit_mult(self, mult):\n",
    "        return reduce(tools.multiply, super().visit_mult(mult), [])\n",
    "\n",
    "to_freegroup = ToFreegroup()\n",
    "\n",
    "\n",
    "class MaxCommuteeLength(Visitor):\n",
    "    def visit_word(self, word):\n",
    "        return len(word)\n",
    "\n",
    "    def visit_commutator(self, commutator):\n",
    "        return max(super().visit_commutator(commutator))\n",
    "\n",
    "    def visit_mult(self, mult):\n",
    "        return max(super().visit_mult(mult))\n",
    "\n",
    "class CalculateDepth(Visitor):\n",
    "    def visit_word(self, word):\n",
    "        return 0\n",
    "\n",
    "    def visit_commutator(self, commutator):\n",
    "        return max(*super().visit_commutator(commutator)) + 1\n",
    "    \n",
    "    def visit_mult(self, mult):\n",
    "        return max(super().visit_mult(mult))\n",
    "\n",
    "calculate_depth = CalculateDepth()\n"
   ]
  },
  {
   "cell_type": "code",
   "execution_count": 4,
   "metadata": {},
   "outputs": [],
   "source": [
    "from dataclasses import dataclass, fields\n",
    "\n",
    "\n",
    "@dataclass\n",
    "class ToString(Visitor):\n",
    "\n",
    "    begin_commutator_token: str     = left_bracket_token\n",
    "    end_commutator_token: str       = right_bracket_token\n",
    "    sep_commutator_token: str       = comma_token\n",
    "    begin_word_token: str           = ''\n",
    "    sep_word_token: str             = ' '\n",
    "    end_word_token: str             = ''\n",
    "    letter_fn: Callable[[int], str] = str\n",
    "    begin_multiplication_token      = ''\n",
    "    sep_multiplication_token        = ''\n",
    "    end_multiplication_token        = ''\n",
    "\n",
    "    def visit_word(self, word):\n",
    "        return f'{self.begin_word_token}{self.sep_word_token.join(map(self.letter_fn, word))}{self.end_word_token}'\n",
    "\n",
    "    def visit_commutator(self, commutator):\n",
    "        left, right = super().visit_commutator(commutator)\n",
    "        return f'{self.begin_commutator_token}{left}{self.sep_commutator_token}{right}{self.end_commutator_token}'\n",
    "\n",
    "    def visit_mult(self, mult):\n",
    "        return f'{self.begin_multiplication_token}{self.sep_multiplication_token.join(super().visit_mult(mult))}{self.end_multiplication_token}'\n",
    "\n",
    "\n",
    "import parsec\n",
    "\n",
    "\n",
    "@dataclass\n",
    "class FromString():\n",
    "    begin_commutator_token: str     = left_bracket_token\n",
    "    end_commutator_token: str       = right_bracket_token\n",
    "    sep_commutator_token: str       = comma_token\n",
    "    begin_word_token: str           = None\n",
    "    sep_word_token: str             = None\n",
    "    end_word_token: str             = None\n",
    "    letter_regex: str               = r'(-[0-9]+|[0-9]+)'\n",
    "    letter_fn: Callable[[str], int] = int\n",
    "    begin_multiplication_token: str = None\n",
    "    end_multiplication_token: str   = None\n",
    "    sep_multiplication_token: str   = None\n",
    "\n",
    "    def __post_init__(self):\n",
    "\n",
    "        within_spaces = lambda x: parsec.spaces() >> x << parsec.spaces()\n",
    "        token         = lambda x: within_spaces(parsec.string(x))\n",
    "        \n",
    "        @parsec.generate\n",
    "        def word():\n",
    "            \n",
    "            if not self.begin_word_token is None:\n",
    "                _ = yield token(self.begin_word_token)\n",
    "            \n",
    "            if not self.sep_word_token is None:\n",
    "                raw_word = yield parsec.sepBy1(\n",
    "                    within_spaces(parsec.regex(self.letter_regex)),\n",
    "                    token(self.sep_word_token)\n",
    "                )\n",
    "            else:\n",
    "                raw_word = yield parsec.many1(\n",
    "                    within_spaces(parsec.regex(self.letter_regex))\n",
    "                )\n",
    "            \n",
    "            if not self.end_word_token is None:\n",
    "                _ = yield within_spaces(self.end_word_token)\n",
    "\n",
    "            return list(map(self.letter_fn, raw_word))\n",
    "\n",
    "        @parsec.generate\n",
    "        def commutator():\n",
    "            \n",
    "            if not self.begin_commutator_token is None:\n",
    "                _ = yield token(self.begin_commutator_token)\n",
    "            \n",
    "            left = yield within_spaces(multiplcation)\n",
    "            \n",
    "            if not self.sep_commutator_token is None:\n",
    "                _ = yield token(self.sep_commutator_token)\n",
    "            \n",
    "            right = yield within_spaces(multiplcation)\n",
    "            \n",
    "            if not self.end_commutator_token is None:\n",
    "                _ = yield token(self.end_commutator_token)\n",
    "            \n",
    "            return Commutator(left, right)\n",
    "\n",
    "        @parsec.generate\n",
    "        def multiplcation():\n",
    "            if not self.begin_multiplication_token is None:\n",
    "                _ = yield token(self.begin_multiplication_token)\n",
    "            \n",
    "            multipliers = yield parsec.many1(within_spaces(parsec.try_choice(commutator, word)))\n",
    "            \n",
    "            if not self.end_multiplication_token is None:\n",
    "                _ = yield token(self.end_multiplication_token)\n",
    "\n",
    "            return Multiplcation(multipliers)\n",
    "        \n",
    "        self.parse = multiplcation.parse\n",
    "        self.normalize = Normalize()\n",
    "    \n",
    "    def __call__(self, string: str):\n",
    "        return self.normalize(self.parse(string))\n",
    "\n",
    "def try_or(callable, default, *args, **kwargs):\n",
    "    try:                    return callable(*args, **kwargs)\n",
    "    except BaseException:   return default\n",
    "\n",
    "\n",
    "def _to_lu_repr(number):\n",
    "    letters = 'xyzpqrst'\n",
    "    return letters[abs(number) - 1].upper() if number < 0 else letters[number - 1]\n",
    "\n",
    "def _from_lu_repr(letter):\n",
    "    letters = 'xyzpqrst'\n",
    "    return (-1 if letter.isupper() else 1) * (letters.index(letter.lower()) + 1)\n",
    "\n",
    "to_tokenizer = ToString()\n",
    "from_tokenizer = FromString()\n",
    "\n",
    "to_lu = ToString(letter_fn=_to_lu_repr, sep_commutator_token=f'{comma_token} ', sep_word_token='')\n",
    "from_lu = FromString(letter_regex=r'[a-zA-Z]{1}', letter_fn=_from_lu_repr)\n"
   ]
  },
  {
   "attachments": {},
   "cell_type": "markdown",
   "metadata": {},
   "source": [
    "## DATASET"
   ]
  },
  {
   "cell_type": "code",
   "execution_count": 6,
   "metadata": {},
   "outputs": [],
   "source": [
    "from dataclasses import dataclass\n",
    "\n",
    "@dataclass\n",
    "class DatasetConfig:\n",
    "    freegroup_dimension: int\n",
    "    max_commutee_length: int\n",
    "    max_commutator_depth: int\n",
    "    proba_commutator: float\n",
    "    proba_multiplication: float\n",
    "    max_multipliers_number: int\n",
    "    min_total_length: int\n",
    "    max_total_length: int\n"
   ]
  },
  {
   "cell_type": "code",
   "execution_count": 21,
   "metadata": {},
   "outputs": [
    {
     "name": "stderr",
     "output_type": "stream",
     "text": [
      "100%|██████████| 1000/1000 [00:02<00:00, 427.19it/s]\n"
     ]
    }
   ],
   "source": [
    "from freegroup import sampling as smp\n",
    "\n",
    "from itertools import repeat\n",
    "from random import randint, sample, random, shuffle\n",
    "\n",
    "config = DatasetConfig(\n",
    "    freegroup_dimension = freegroup_dimension,\n",
    "    max_commutee_length = 3,\n",
    "    max_commutator_depth = 6,\n",
    "    proba_commutator = 0.85,\n",
    "    proba_multiplication = 0.5,\n",
    "    max_multipliers_number = 3,\n",
    "    min_total_length = 0,\n",
    "    max_total_length = 120,\n",
    ")\n",
    "\n",
    "from numpy.random import geometric\n",
    "\n",
    "def commutee_fn():\n",
    "    while True: \n",
    "        yield next(smp.free_group_bounded(\n",
    "            config.freegroup_dimension,\n",
    "            geometric(0.5),\n",
    "        ))\n",
    "commutee = commutee_fn()\n",
    "\n",
    "def random_commutator(config: DatasetConfig, depth = None):\n",
    "\n",
    "    depth = smp.random_length(config.max_commutator_depth) if depth is None else depth\n",
    "\n",
    "    if depth <= 0:\n",
    "        return next(commutee)\n",
    "\n",
    "    coin = random()\n",
    "    if depth == 1 or coin < config.proba_commutator:\n",
    "        depths = [randint(1, depth), depth]\n",
    "        shuffle(depths)\n",
    "        return Commutator(*[random_commutator(config, d - 1) for d in depths])\n",
    "    coin -= config.proba_commutator\n",
    "    \n",
    "    if coin < config.proba_multiplication:\n",
    "        depths = [randint(2, depth) for _ in range(randint(2, config.max_multipliers_number) - 1)] +\\\n",
    "            [depth]\n",
    "        shuffle(depths)\n",
    "        return Multiplcation([random_commutator(config, d - 1) for d in depths])\n",
    "    coin -= config.proba_multiplication\n",
    "\n",
    "\n",
    "def commutators(config):\n",
    "    while True: yield random_commutator(config)\n",
    "        \n",
    "generator = commutators(config)\n",
    "\n",
    "generator = map(lambda x: (to_freegroup(x), x), generator)\n",
    "generator = map(lambda p: tuple(map(normalize, p)), generator)\n",
    "\n",
    "generator = filter(lambda p: not isinstance(p[1], list), generator)\n",
    "generator = filter(lambda p: config.min_total_length < len(p[0]) < config.max_total_length, generator)\n",
    "\n",
    "generator = map(lambda p: tuple(map(to_tokenizer, p)), generator)\n",
    "\n",
    "visualize = list(smp.take_unique(1000, generator, verbose=True))\n"
   ]
  },
  {
   "cell_type": "code",
   "execution_count": 16,
   "metadata": {},
   "outputs": [],
   "source": [
    "class FindMultiplication(Visitor):\n",
    "    def visit_word(self, word):\n",
    "        return False\n",
    "\n",
    "    def visit_commutator(self, commutator):\n",
    "        return any(super().visit_commutator(commutator))\n",
    "\n",
    "    def visit_mult(self, mult):\n",
    "        return True\n",
    "\n",
    "class MaxCommuteeLength(Visitor):\n",
    "    def visit_word(self, word):\n",
    "        return len(word)\n",
    "\n",
    "    def visit_commutator(self, commutator):\n",
    "        return max(super().visit_commutator(commutator))\n",
    "\n",
    "    def visit_mult(self, mult):\n",
    "        return max(super().visit_mult(mult))"
   ]
  },
  {
   "cell_type": "code",
   "execution_count": 22,
   "metadata": {},
   "outputs": [
    {
     "name": "stdout",
     "output_type": "stream",
     "text": [
      "HISTORGRAM \"HOW MANY GENERATORS REDUCED\"\n"
     ]
    },
    {
     "data": {
      "image/png": "[encoded data removed]",
      "text/plain": [
       "<Figure size 640x480 with 1 Axes>"
      ]
     },
     "metadata": {},
     "output_type": "display_data"
    },
    {
     "name": "stdout",
     "output_type": "stream",
     "text": [
      "HISTOGRAM \"THE LENGTH OF A WORD\"\n"
     ]
    },
    {
     "data": {
      "image/png": "[encoded data removed]",
      "text/plain": [
       "<Figure size 640x480 with 1 Axes>"
      ]
     },
     "metadata": {},
     "output_type": "display_data"
    },
    {
     "name": "stdout",
     "output_type": "stream",
     "text": [
      "SCATTER PLOT \"REDUCTION SIZE OF LENGTH\"\n"
     ]
    },
    {
     "data": {
      "image/png": "[encoded data removed]",
      "text/plain": [
       "<Figure size 640x480 with 1 Axes>"
      ]
     },
     "metadata": {},
     "output_type": "display_data"
    },
    {
     "name": "stdout",
     "output_type": "stream",
     "text": [
      "HISTOGRAM \"COMMUTATOR DEPTH\"\n"
     ]
    },
    {
     "data": {
      "image/png": "[encoded data removed]",
      "text/plain": [
       "<Figure size 640x480 with 1 Axes>"
      ]
     },
     "metadata": {},
     "output_type": "display_data"
    },
    {
     "name": "stdout",
     "output_type": "stream",
     "text": [
      "HISTOGRAM \"MAX COMMUTEE LENGTH\"\n"
     ]
    },
    {
     "data": {
      "image/png": "[encoded data removed]",
      "text/plain": [
       "<Figure size 640x480 with 1 Axes>"
      ]
     },
     "metadata": {},
     "output_type": "display_data"
    },
    {
     "name": "stdout",
     "output_type": "stream",
     "text": [
      "THE RATE OF WORDS CONTAINING MULTIPLICATION: 0.482\n"
     ]
    }
   ],
   "source": [
    "from matplotlib import pyplot as plt\n",
    "from itertools import islice\n",
    "\n",
    "freegroups = list(map(lambda x: from_tokenizer(x[0]), visualize))\n",
    "commutators = list(map(lambda x: from_tokenizer(x[1]), visualize))\n",
    "\n",
    "print('HISTORGRAM \"HOW MANY GENERATORS REDUCED\"')\n",
    "\n",
    "diffs = list(map(lambda x: len(to_freegroup(x[1])) - len(x[0]), zip(freegroups, commutators)))\n",
    "plt.hist(diffs)\n",
    "plt.show()\n",
    "\n",
    "print('HISTOGRAM \"THE LENGTH OF A WORD\"')\n",
    "\n",
    "lens = list(map(len, freegroups))\n",
    "plt.hist(lens)\n",
    "plt.show()\n",
    "\n",
    "print('SCATTER PLOT \"REDUCTION SIZE OF LENGTH\"')\n",
    "\n",
    "plt.scatter(lens, diffs)\n",
    "plt.show()\n",
    "\n",
    "print('HISTOGRAM \"COMMUTATOR DEPTH\"')\n",
    "\n",
    "from numpy import arange\n",
    "\n",
    "depths = list(map(calculate_depth, commutators))\n",
    "plt.hist(depths, arange(1, 5 + 1.5) - 0.5)\n",
    "plt.show()\n",
    "\n",
    "print('HISTOGRAM \"MAX COMMUTEE LENGTH\"')\n",
    "\n",
    "lengths = list(map(MaxCommuteeLength(), commutators))\n",
    "plt.hist(lengths, arange(1, 20 + 1.5) - 0.5)\n",
    "plt.show()\n",
    "\n",
    "print(f'THE RATE OF WORDS CONTAINING MULTIPLICATION: {sum(map(FindMultiplication(), commutators)) / len(commutators)}')"
   ]
  },
  {
   "cell_type": "code",
   "execution_count": 23,
   "metadata": {},
   "outputs": [
    {
     "name": "stderr",
     "output_type": "stream",
     "text": [
      "100%|██████████| 200000/200000 [08:31<00:00, 391.08it/s]\n"
     ]
    }
   ],
   "source": [
    "dataset = list(smp.take_unique(int(2 * 10 ** 5), generator, verbose=True))"
   ]
  },
  {
   "cell_type": "code",
   "execution_count": 24,
   "metadata": {},
   "outputs": [
    {
     "name": "stdout",
     "output_type": "stream",
     "text": [
      "freegroup_dimension=4;max_commutee_length=3;max_commutator_depth=6;proba_commutator=0.85;proba_multiplication=0.5;max_multipliers_number=3;min_total_length=0;max_total_length=120\n"
     ]
    }
   ],
   "source": [
    "from pickle import dump\n",
    "\n",
    "prefix = config.__str__().replace('DatasetConfig', '').replace('(', '').replace(')', '').replace(', ', ';')\n",
    "\n",
    "with open(path / f'{prefix}.pkl', 'wb') as f:\n",
    "    dump(dataset, f)\n",
    "\n",
    "print(prefix)"
   ]
  },
  {
   "attachments": {},
   "cell_type": "markdown",
   "metadata": {},
   "source": [
    "# TRAINING"
   ]
  },
  {
   "cell_type": "code",
   "execution_count": 3,
   "metadata": {},
   "outputs": [],
   "source": [
    "from transformers import PreTrainedTokenizerFast\n",
    "\n",
    "tokenizer = PreTrainedTokenizerFast(\n",
    "    tokenizer_file = str(path / 'tokenizer.json'),\n",
    "    eos_token = eos_token,\n",
    "    pad_token = pad_token\n",
    ")"
   ]
  },
  {
   "cell_type": "code",
   "execution_count": 4,
   "metadata": {},
   "outputs": [],
   "source": [
    "from pickle import load\n",
    "from sklearn.model_selection import train_test_split\n",
    "\n",
    "dataset_path = '/home/kibrq/sampling-from-normal-closure/results/commutator-translation/4-free-group/freegroup_dimension=4;max_commutee_length=3;max_commutator_depth=6;proba_commutator=0.85;proba_multiplication=0.5;max_multipliers_number=3;min_total_length=0;max_total_length=120.pkl'\n",
    "\n",
    "with open(dataset_path, 'rb') as f:\n",
    "    dataset = load(f)\n",
    "\n",
    "train_dataset, eval_dataset = train_test_split(dataset, test_size=0.01)"
   ]
  },
  {
   "cell_type": "code",
   "execution_count": 5,
   "metadata": {},
   "outputs": [],
   "source": [
    "def preprocess(input):\n",
    "    freegroup_seq, commutator_seq = input\n",
    "    model_inputs = tokenizer(\n",
    "        freegroup_seq,\n",
    "        return_token_type_ids   = False,\n",
    "        return_attention_mask   = False,\n",
    "    )\n",
    "    with tokenizer.as_target_tokenizer():\n",
    "        model_targets = tokenizer(\n",
    "            commutator_seq,\n",
    "        )\n",
    "    \n",
    "    model_inputs['input_ids']   = model_inputs['input_ids']\n",
    "    model_inputs['labels']      = model_targets['input_ids']\n",
    "\n",
    "    return model_inputs\n",
    "\n",
    "\n",
    "train_dataset = list(map(preprocess, train_dataset))\n",
    "eval_dataset = list(map(preprocess, eval_dataset))"
   ]
  },
  {
   "cell_type": "code",
   "execution_count": 6,
   "metadata": {},
   "outputs": [],
   "source": [
    "from transformers import BertConfig, GPT2Config, EncoderDecoderConfig, EncoderDecoderModel\n",
    "\n",
    "encoder_config = BertConfig(\n",
    "    vocab_size              = len(tokenizer),\n",
    "    hidden_size             = 128,\n",
    "    max_position_embeddings = 1024,\n",
    "    num_hidden_layers       = 12,\n",
    "    num_attention_heads     = 8,\n",
    "    intermediate_size       = 4 * 128,\n",
    "    pad_token_id            = tokenizer.pad_token_id,\n",
    ")\n",
    "\n",
    "decoder_config = BertConfig(\n",
    "    vocab_size              = len(tokenizer),\n",
    "    hidden_size             = 128,\n",
    "    max_position_embeddings = 1024,\n",
    "    num_hidden_layers       = 12,\n",
    "    num_attention_heads     = 8,\n",
    "    intermediate_size       = 4 * 128,\n",
    "    pad_token_id            = tokenizer.pad_token_id,\n",
    ")\n",
    "\n",
    "config = EncoderDecoderConfig.from_encoder_decoder_configs(\n",
    "    encoder_config = encoder_config,\n",
    "    decoder_config = decoder_config,\n",
    ")\n",
    "\n",
    "model = EncoderDecoderModel(config=config)\n",
    "model.config.decoder_start_token_id = tokenizer.eos_token_id\n",
    "model.config.pad_token_id           = tokenizer.pad_token_id"
   ]
  },
  {
   "cell_type": "code",
   "execution_count": 7,
   "metadata": {},
   "outputs": [],
   "source": [
    "from evaluate import load, combine\n",
    "\n",
    "metrics = combine([load(\"bleu\"), load(\"rouge\")])\n",
    "\n",
    "\n",
    "from re import finditer\n",
    "\n",
    "def trim_eos_tokens(string):\n",
    "    positions = finditer(eos_token, string)\n",
    "    begin = next(positions).end()\n",
    "    \n",
    "    try:                    end = next(positions).start()\n",
    "    except StopIteration:   end = len(string)\n",
    "\n",
    "    return string[begin:end]\n",
    "\n",
    "\n",
    "from numpy import argmax\n",
    "\n",
    "def compute_metrics(eval_pred):\n",
    "    logits, labels = eval_pred\n",
    "\n",
    "    labels[labels == -100] = tokenizer.convert_tokens_to_ids(pad_token)\n",
    "\n",
    "    predictions = tokenizer.batch_decode(logits, skip_special_tokens=False)\n",
    "    references = tokenizer.batch_decode(labels, skip_special_tokens=False)\n",
    "    references = list(map(lambda x: eos_token + ' ' +  x, references))\n",
    "    \n",
    "    predictions = list(map(trim_eos_tokens, predictions))\n",
    "    references = list(map(trim_eos_tokens, references))\n",
    "\n",
    "    print(predictions[0])\n",
    "    print(references[0])\n",
    "\n",
    "\n",
    "    return metrics.compute(references = references, predictions = predictions)"
   ]
  },
  {
   "cell_type": "code",
   "execution_count": 8,
   "metadata": {},
   "outputs": [],
   "source": [
    "from typing import List\n",
    "import torch\n",
    "\n",
    "def data_collator(batch: List):\n",
    "    def max_length_pad(batch: List):\n",
    "        max_length = max(map(len, batch))\n",
    "        batch = map(lambda x: x + [tokenizer.pad_token_id] * (max_length - len(x)), batch)\n",
    "        batch = map(lambda x: torch.tensor(x, dtype=int), batch)\n",
    "        batch = torch.stack(list(batch))\n",
    "        \n",
    "        attention_mask = torch.ones_like(batch)\n",
    "        attention_mask.masked_fill_(batch == tokenizer.pad_token_id, 0.) \n",
    "        return batch, attention_mask\n",
    "    \n",
    "    input_ids, attention_mask = max_length_pad([x.input_ids for x in batch])\n",
    "    labels, decoder_attention_mask = max_length_pad([x.labels for x in batch])\n",
    "    labels[labels == tokenizer.pad_token_id] = -100\n",
    "    \n",
    "    return {\n",
    "        'input_ids': input_ids,\n",
    "        'attention_mask': attention_mask,\n",
    "        'labels': labels,\n",
    "        'decoder_attention_mask': decoder_attention_mask,\n",
    "    }\n"
   ]
  },
  {
   "cell_type": "code",
   "execution_count": 9,
   "metadata": {},
   "outputs": [
    {
     "name": "stdout",
     "output_type": "stream",
     "text": [
      "huggingface/tokenizers: The current process just got forked, after parallelism has already been used. Disabling parallelism to avoid deadlocks...\n",
      "To disable this warning, you can either:\n",
      "\t- Avoid using `tokenizers` before the fork if possible\n",
      "\t- Explicitly set the environment variable TOKENIZERS_PARALLELISM=(true | false)\n",
      "huggingface/tokenizers: The current process just got forked, after parallelism has already been used. Disabling parallelism to avoid deadlocks...\n",
      "To disable this warning, you can either:\n",
      "\t- Avoid using `tokenizers` before the fork if possible\n",
      "\t- Explicitly set the environment variable TOKENIZERS_PARALLELISM=(true | false)\n"
     ]
    },
    {
     "name": "stderr",
     "output_type": "stream",
     "text": [
      "Loading model from /home/kibrq/sampling-from-normal-closure/results/commutator-translation/4-free-group/bert-bert-long/checkpoint-60000.\n"
     ]
    },
    {
     "name": "stdout",
     "output_type": "stream",
     "text": [
      "huggingface/tokenizers: The current process just got forked, after parallelism has already been used. Disabling parallelism to avoid deadlocks...\n",
      "To disable this warning, you can either:\n",
      "\t- Avoid using `tokenizers` before the fork if possible\n",
      "\t- Explicitly set the environment variable TOKENIZERS_PARALLELISM=(true | false)\n"
     ]
    },
    {
     "name": "stderr",
     "output_type": "stream",
     "text": [
      "/usr/local/lib/python3.8/dist-packages/transformers/optimization.py:306: FutureWarning: This implementation of AdamW is deprecated and will be removed in a future version. Use the PyTorch implementation torch.optim.AdamW instead, or set `no_deprecation_warning=True` to disable this warning\n",
      "  warnings.warn(\n",
      "***** Running training *****\n",
      "  Num examples = 198000\n",
      "  Num Epochs = 200\n",
      "  Instantaneous batch size per device = 128\n",
      "  Total train batch size (w. parallel, distributed & accumulation) = 128\n",
      "  Gradient Accumulation steps = 1\n",
      "  Total optimization steps = 309400\n",
      "  Continuing training from checkpoint, will skip to saved global_step\n",
      "  Continuing training from epoch 38\n",
      "  Continuing training from global step 60000\n",
      "  Will skip the first 38 epochs then the first 1214 batches in the first epoch. If this takes a lot of time, you can add the `--ignore_data_skip` flag to your launch command, but you will resume the training on data already seen by your model.\n"
     ]
    },
    {
     "data": {
      "application/json": {
       "ascii": false,
       "bar_format": null,
       "colour": null,
       "elapsed": 0.02043890953063965,
       "initial": 0,
       "n": 0,
       "ncols": null,
       "nrows": null,
       "postfix": null,
       "prefix": "",
       "rate": null,
       "total": 1214,
       "unit": "it",
       "unit_divisor": 1000,
       "unit_scale": false
      },
      "application/vnd.jupyter.widget-view+json": {
       "model_id": "158ec7d093ca437eb706ebdfcfa6047f",
       "version_major": 2,
       "version_minor": 0
      },
      "text/plain": [
       "  0%|          | 0/1214 [00:00<?, ?it/s]"
      ]
     },
     "metadata": {},
     "output_type": "display_data"
    },
    {
     "name": "stderr",
     "output_type": "stream",
     "text": [
      "Automatic Weights & Biases logging enabled, to disable set os.environ[\"WANDB_DISABLED\"] = \"true\"\n",
      "Failed to detect the name of this notebook, you can set it manually with the WANDB_NOTEBOOK_NAME environment variable to enable code saving.\n",
      "\u001b[34m\u001b[1mwandb\u001b[0m: Currently logged in as: \u001b[33mkibrq\u001b[0m. Use \u001b[1m`wandb login --relogin`\u001b[0m to force relogin\n"
     ]
    },
    {
     "name": "stdout",
     "output_type": "stream",
     "text": [
      "huggingface/tokenizers: The current process just got forked, after parallelism has already been used. Disabling parallelism to avoid deadlocks...\n",
      "To disable this warning, you can either:\n",
      "\t- Avoid using `tokenizers` before the fork if possible\n",
      "\t- Explicitly set the environment variable TOKENIZERS_PARALLELISM=(true | false)\n",
      "huggingface/tokenizers: The current process just got forked, after parallelism has already been used. Disabling parallelism to avoid deadlocks...\n",
      "To disable this warning, you can either:\n",
      "\t- Avoid using `tokenizers` before the fork if possible\n",
      "\t- Explicitly set the environment variable TOKENIZERS_PARALLELISM=(true | false)\n",
      "huggingface/tokenizers: The current process just got forked, after parallelism has already been used. Disabling parallelism to avoid deadlocks...\n",
      "To disable this warning, you can either:\n",
      "\t- Avoid using `tokenizers` before the fork if possible\n",
      "\t- Explicitly set the environment variable TOKENIZERS_PARALLELISM=(true | false)\n",
      "huggingface/tokenizers: The current process just got forked, after parallelism has already been used. Disabling parallelism to avoid deadlocks...\n",
      "To disable this warning, you can either:\n",
      "\t- Avoid using `tokenizers` before the fork if possible\n",
      "\t- Explicitly set the environment variable TOKENIZERS_PARALLELISM=(true | false)\n"
     ]
    },
    {
     "data": {
      "text/html": [
       "wandb version 0.13.9 is available!  To upgrade, please run:\n",
       " $ pip install wandb --upgrade"
      ],
      "text/plain": [
       "<IPython.core.display.HTML object>"
      ]
     },
     "metadata": {},
     "output_type": "display_data"
    },
    {
     "data": {
      "text/html": [
       "Tracking run with wandb version 0.12.21"
      ],
      "text/plain": [
       "<IPython.core.display.HTML object>"
      ]
     },
     "metadata": {},
     "output_type": "display_data"
    },
    {
     "data": {
      "text/html": [
       "Run data is saved locally in <code>/home/kibrq/sampling-from-normal-closure/wandb/run-20230202_112144-12zhwkdg</code>"
      ],
      "text/plain": [
       "<IPython.core.display.HTML object>"
      ]
     },
     "metadata": {},
     "output_type": "display_data"
    },
    {
     "data": {
      "text/html": [
       "Syncing run <strong><a href=\"https://wandb.ai/kibrq/huggingface/runs/12zhwkdg\" target=\"_blank\">results/commutator-translation/4-free-group/bert-bert-long</a></strong> to <a href=\"https://wandb.ai/kibrq/huggingface\" target=\"_blank\">Weights & Biases</a> (<a href=\"https://wandb.me/run\" target=\"_blank\">docs</a>)<br/>"
      ],
      "text/plain": [
       "<IPython.core.display.HTML object>"
      ]
     },
     "metadata": {},
     "output_type": "display_data"
    },
    {
     "name": "stderr",
     "output_type": "stream",
     "text": [
      "/usr/local/lib/python3.8/dist-packages/transformers/models/encoder_decoder/modeling_encoder_decoder.py:533: FutureWarning: Version v4.12.0 introduces a better way to train encoder-decoder models by computing the loss inside the encoder-decoder framework rather than in the decoder itself. You may observe training discrepancies if fine-tuning a model trained with versions anterior to 4.12.0. The decoder_input_ids are now created based on the labels, no need to pass them yourself anymore.\n",
      "  warnings.warn(DEPRECATION_WARNING, FutureWarning)\n"
     ]
    },
    {
     "data": {
      "text/html": [
       "\n",
       "    <div>\n",
       "      \n",
       "      <progress value='80762' max='309400' style='width:300px; height:20px; vertical-align: middle;'></progress>\n",
       "      [ 80762/309400 2:14:11 < 24:37:52, 2.58 it/s, Epoch 52.20/200]\n",
       "    </div>\n",
       "    <table border=\"1\" class=\"dataframe\">\n",
       "  <thead>\n",
       " <tr style=\"text-align: left;\">\n",
       "      <th>Step</th>\n",
       "      <th>Training Loss</th>\n",
       "      <th>Validation Loss</th>\n",
       "      <th>Bleu</th>\n",
       "      <th>Precisions</th>\n",
       "      <th>Brevity Penalty</th>\n",
       "      <th>Length Ratio</th>\n",
       "      <th>Translation Length</th>\n",
       "      <th>Reference Length</th>\n",
       "      <th>Rouge1</th>\n",
       "      <th>Rouge2</th>\n",
       "      <th>Rougel</th>\n",
       "      <th>Rougelsum</th>\n",
       "    </tr>\n",
       "  </thead>\n",
       "  <tbody>\n",
       "    <tr>\n",
       "      <td>60500</td>\n",
       "      <td>0.130800</td>\n",
       "      <td>0.094176</td>\n",
       "      <td>0.889908</td>\n",
       "      <td>[0.9864325765235775, 0.925794446034927, 0.8825478718126798, 0.8489306746564728]</td>\n",
       "      <td>0.978468</td>\n",
       "      <td>0.978697</td>\n",
       "      <td>54395</td>\n",
       "      <td>55579</td>\n",
       "      <td>0.977432</td>\n",
       "      <td>0.936652</td>\n",
       "      <td>0.956911</td>\n",
       "      <td>0.956973</td>\n",
       "    </tr>\n",
       "    <tr>\n",
       "      <td>61000</td>\n",
       "      <td>0.128900</td>\n",
       "      <td>0.093636</td>\n",
       "      <td>0.887356</td>\n",
       "      <td>[0.982575591185299, 0.9201687058287104, 0.874733391263133, 0.8399745044822765]</td>\n",
       "      <td>0.982888</td>\n",
       "      <td>0.983033</td>\n",
       "      <td>54636</td>\n",
       "      <td>55579</td>\n",
       "      <td>0.977974</td>\n",
       "      <td>0.935017</td>\n",
       "      <td>0.956214</td>\n",
       "      <td>0.956210</td>\n",
       "    </tr>\n",
       "    <tr>\n",
       "      <td>61500</td>\n",
       "      <td>0.128900</td>\n",
       "      <td>0.092590</td>\n",
       "      <td>0.889993</td>\n",
       "      <td>[0.9800007285709081, 0.9191334921175003, 0.8732073395937291, 0.8380025356836122]</td>\n",
       "      <td>0.987745</td>\n",
       "      <td>0.987819</td>\n",
       "      <td>54902</td>\n",
       "      <td>55579</td>\n",
       "      <td>0.977542</td>\n",
       "      <td>0.934064</td>\n",
       "      <td>0.955335</td>\n",
       "      <td>0.955344</td>\n",
       "    </tr>\n",
       "    <tr>\n",
       "      <td>62000</td>\n",
       "      <td>0.127000</td>\n",
       "      <td>0.094460</td>\n",
       "      <td>0.888696</td>\n",
       "      <td>[0.9856239429369806, 0.9259867165432476, 0.881181046114771, 0.8460823208529631]</td>\n",
       "      <td>0.978487</td>\n",
       "      <td>0.978715</td>\n",
       "      <td>54396</td>\n",
       "      <td>55579</td>\n",
       "      <td>0.977696</td>\n",
       "      <td>0.935425</td>\n",
       "      <td>0.957515</td>\n",
       "      <td>0.957497</td>\n",
       "    </tr>\n",
       "    <tr>\n",
       "      <td>62500</td>\n",
       "      <td>0.127000</td>\n",
       "      <td>0.093579</td>\n",
       "      <td>0.889971</td>\n",
       "      <td>[0.9808053373193095, 0.9192758092283244, 0.8741029119723156, 0.8389037843590741]</td>\n",
       "      <td>0.986961</td>\n",
       "      <td>0.987045</td>\n",
       "      <td>54859</td>\n",
       "      <td>55579</td>\n",
       "      <td>0.978089</td>\n",
       "      <td>0.936080</td>\n",
       "      <td>0.957127</td>\n",
       "      <td>0.957182</td>\n",
       "    </tr>\n",
       "    <tr>\n",
       "      <td>63000</td>\n",
       "      <td>0.125000</td>\n",
       "      <td>0.093006</td>\n",
       "      <td>0.892108</td>\n",
       "      <td>[0.9817620855849277, 0.9219531605275125, 0.8785843705687727, 0.8445752009184845]</td>\n",
       "      <td>0.985447</td>\n",
       "      <td>0.985552</td>\n",
       "      <td>54776</td>\n",
       "      <td>55579</td>\n",
       "      <td>0.977958</td>\n",
       "      <td>0.936852</td>\n",
       "      <td>0.957566</td>\n",
       "      <td>0.957551</td>\n",
       "    </tr>\n",
       "    <tr>\n",
       "      <td>63500</td>\n",
       "      <td>0.125000</td>\n",
       "      <td>0.091450</td>\n",
       "      <td>0.893761</td>\n",
       "      <td>[0.9815074863676982, 0.9224726969886246, 0.8795860956465288, 0.8460467306944075]</td>\n",
       "      <td>0.986487</td>\n",
       "      <td>0.986578</td>\n",
       "      <td>54833</td>\n",
       "      <td>55579</td>\n",
       "      <td>0.978169</td>\n",
       "      <td>0.938747</td>\n",
       "      <td>0.958323</td>\n",
       "      <td>0.958292</td>\n",
       "    </tr>\n",
       "    <tr>\n",
       "      <td>64000</td>\n",
       "      <td>0.123000</td>\n",
       "      <td>0.092242</td>\n",
       "      <td>0.891501</td>\n",
       "      <td>[0.9848251594457884, 0.925253024883951, 0.8811802863697492, 0.8474590231447162]</td>\n",
       "      <td>0.981570</td>\n",
       "      <td>0.981738</td>\n",
       "      <td>54564</td>\n",
       "      <td>55579</td>\n",
       "      <td>0.978724</td>\n",
       "      <td>0.936863</td>\n",
       "      <td>0.957753</td>\n",
       "      <td>0.957768</td>\n",
       "    </tr>\n",
       "    <tr>\n",
       "      <td>64500</td>\n",
       "      <td>0.123000</td>\n",
       "      <td>0.091637</td>\n",
       "      <td>0.892537</td>\n",
       "      <td>[0.9822603876096191, 0.921114874453632, 0.8773427206041416, 0.8431697680607587]</td>\n",
       "      <td>0.986779</td>\n",
       "      <td>0.986866</td>\n",
       "      <td>54849</td>\n",
       "      <td>55579</td>\n",
       "      <td>0.978735</td>\n",
       "      <td>0.936335</td>\n",
       "      <td>0.958048</td>\n",
       "      <td>0.958131</td>\n",
       "    </tr>\n",
       "    <tr>\n",
       "      <td>65000</td>\n",
       "      <td>0.121100</td>\n",
       "      <td>0.092690</td>\n",
       "      <td>0.890817</td>\n",
       "      <td>[0.9797634212920837, 0.9179981114258735, 0.8733267909715408, 0.83926455566905]</td>\n",
       "      <td>0.988618</td>\n",
       "      <td>0.988683</td>\n",
       "      <td>54950</td>\n",
       "      <td>55579</td>\n",
       "      <td>0.977643</td>\n",
       "      <td>0.934812</td>\n",
       "      <td>0.956060</td>\n",
       "      <td>0.956099</td>\n",
       "    </tr>\n",
       "    <tr>\n",
       "      <td>65500</td>\n",
       "      <td>0.121100</td>\n",
       "      <td>0.090960</td>\n",
       "      <td>0.894117</td>\n",
       "      <td>[0.9813513021307594, 0.9208278208278208, 0.8785307405224907, 0.8452463708852995]</td>\n",
       "      <td>0.987890</td>\n",
       "      <td>0.987963</td>\n",
       "      <td>54910</td>\n",
       "      <td>55579</td>\n",
       "      <td>0.979147</td>\n",
       "      <td>0.936834</td>\n",
       "      <td>0.957699</td>\n",
       "      <td>0.957716</td>\n",
       "    </tr>\n",
       "    <tr>\n",
       "      <td>66000</td>\n",
       "      <td>0.119200</td>\n",
       "      <td>0.090107</td>\n",
       "      <td>0.894762</td>\n",
       "      <td>[0.9842065772377065, 0.9259540679672511, 0.8842485634737278, 0.8517977920769689]</td>\n",
       "      <td>0.983017</td>\n",
       "      <td>0.983159</td>\n",
       "      <td>54643</td>\n",
       "      <td>55579</td>\n",
       "      <td>0.978888</td>\n",
       "      <td>0.939419</td>\n",
       "      <td>0.959099</td>\n",
       "      <td>0.959207</td>\n",
       "    </tr>\n",
       "    <tr>\n",
       "      <td>66500</td>\n",
       "      <td>0.119200</td>\n",
       "      <td>0.090778</td>\n",
       "      <td>0.892758</td>\n",
       "      <td>[0.9818138660142056, 0.921807190099873, 0.8795280398684184, 0.8467816351221112]</td>\n",
       "      <td>0.985283</td>\n",
       "      <td>0.985390</td>\n",
       "      <td>54767</td>\n",
       "      <td>55579</td>\n",
       "      <td>0.977893</td>\n",
       "      <td>0.937119</td>\n",
       "      <td>0.957691</td>\n",
       "      <td>0.957712</td>\n",
       "    </tr>\n",
       "    <tr>\n",
       "      <td>67000</td>\n",
       "      <td>0.116700</td>\n",
       "      <td>0.090847</td>\n",
       "      <td>0.892314</td>\n",
       "      <td>[0.9817643619353895, 0.922602791685632, 0.8799282447563476, 0.8464743063536365]</td>\n",
       "      <td>0.984571</td>\n",
       "      <td>0.984688</td>\n",
       "      <td>54728</td>\n",
       "      <td>55579</td>\n",
       "      <td>0.977130</td>\n",
       "      <td>0.935784</td>\n",
       "      <td>0.956490</td>\n",
       "      <td>0.956454</td>\n",
       "    </tr>\n",
       "    <tr>\n",
       "      <td>67500</td>\n",
       "      <td>0.116700</td>\n",
       "      <td>0.090553</td>\n",
       "      <td>0.894129</td>\n",
       "      <td>[0.9827000365363536, 0.924440652256352, 0.8816909735908554, 0.848420188756668]</td>\n",
       "      <td>0.984790</td>\n",
       "      <td>0.984904</td>\n",
       "      <td>54740</td>\n",
       "      <td>55579</td>\n",
       "      <td>0.978339</td>\n",
       "      <td>0.938882</td>\n",
       "      <td>0.958342</td>\n",
       "      <td>0.958444</td>\n",
       "    </tr>\n",
       "    <tr>\n",
       "      <td>68000</td>\n",
       "      <td>0.115900</td>\n",
       "      <td>0.089467</td>\n",
       "      <td>0.896843</td>\n",
       "      <td>[0.9826676163863167, 0.9265634181942259, 0.8852678659389592, 0.852542407646709]</td>\n",
       "      <td>0.985027</td>\n",
       "      <td>0.985138</td>\n",
       "      <td>54753</td>\n",
       "      <td>55579</td>\n",
       "      <td>0.978220</td>\n",
       "      <td>0.937861</td>\n",
       "      <td>0.958848</td>\n",
       "      <td>0.958935</td>\n",
       "    </tr>\n",
       "    <tr>\n",
       "      <td>68500</td>\n",
       "      <td>0.115900</td>\n",
       "      <td>0.089178</td>\n",
       "      <td>0.894422</td>\n",
       "      <td>[0.9796308779856797, 0.922722029988466, 0.8796942244581131, 0.8464622496778285]</td>\n",
       "      <td>0.987471</td>\n",
       "      <td>0.987549</td>\n",
       "      <td>54887</td>\n",
       "      <td>55579</td>\n",
       "      <td>0.978236</td>\n",
       "      <td>0.937959</td>\n",
       "      <td>0.958578</td>\n",
       "      <td>0.958643</td>\n",
       "    </tr>\n",
       "    <tr>\n",
       "      <td>69000</td>\n",
       "      <td>0.113500</td>\n",
       "      <td>0.089124</td>\n",
       "      <td>0.897104</td>\n",
       "      <td>[0.9831296735363851, 0.9249479462426652, 0.8836710603974031, 0.8513004300634855]</td>\n",
       "      <td>0.986432</td>\n",
       "      <td>0.986524</td>\n",
       "      <td>54830</td>\n",
       "      <td>55579</td>\n",
       "      <td>0.978872</td>\n",
       "      <td>0.938116</td>\n",
       "      <td>0.958816</td>\n",
       "      <td>0.958845</td>\n",
       "    </tr>\n",
       "    <tr>\n",
       "      <td>69500</td>\n",
       "      <td>0.113500</td>\n",
       "      <td>0.088070</td>\n",
       "      <td>0.895947</td>\n",
       "      <td>[0.9827126688572472, 0.9247631678666162, 0.883517132729421, 0.8507380073800738]</td>\n",
       "      <td>0.985520</td>\n",
       "      <td>0.985624</td>\n",
       "      <td>54780</td>\n",
       "      <td>55579</td>\n",
       "      <td>0.978503</td>\n",
       "      <td>0.938530</td>\n",
       "      <td>0.958942</td>\n",
       "      <td>0.959066</td>\n",
       "    </tr>\n",
       "    <tr>\n",
       "      <td>70000</td>\n",
       "      <td>0.112500</td>\n",
       "      <td>0.088211</td>\n",
       "      <td>0.897917</td>\n",
       "      <td>[0.9820878660325443, 0.9249229372718849, 0.8840975648106292, 0.8518177540457047]</td>\n",
       "      <td>0.987326</td>\n",
       "      <td>0.987405</td>\n",
       "      <td>54879</td>\n",
       "      <td>55579</td>\n",
       "      <td>0.978654</td>\n",
       "      <td>0.938700</td>\n",
       "      <td>0.958599</td>\n",
       "      <td>0.958752</td>\n",
       "    </tr>\n",
       "    <tr>\n",
       "      <td>70500</td>\n",
       "      <td>0.112500</td>\n",
       "      <td>0.089801</td>\n",
       "      <td>0.895341</td>\n",
       "      <td>[0.9817144315612922, 0.923352001816393, 0.8808896405254464, 0.8486039466142635]</td>\n",
       "      <td>0.986834</td>\n",
       "      <td>0.986920</td>\n",
       "      <td>54852</td>\n",
       "      <td>55579</td>\n",
       "      <td>0.978252</td>\n",
       "      <td>0.937445</td>\n",
       "      <td>0.958034</td>\n",
       "      <td>0.958072</td>\n",
       "    </tr>\n",
       "    <tr>\n",
       "      <td>71000</td>\n",
       "      <td>0.111000</td>\n",
       "      <td>0.088600</td>\n",
       "      <td>0.896282</td>\n",
       "      <td>[0.983435717419921, 0.9263131926521937, 0.8853952974593656, 0.8534581895843601]</td>\n",
       "      <td>0.983986</td>\n",
       "      <td>0.984113</td>\n",
       "      <td>54696</td>\n",
       "      <td>55579</td>\n",
       "      <td>0.978879</td>\n",
       "      <td>0.939370</td>\n",
       "      <td>0.958588</td>\n",
       "      <td>0.958677</td>\n",
       "    </tr>\n",
       "    <tr>\n",
       "      <td>71500</td>\n",
       "      <td>0.111000</td>\n",
       "      <td>0.087037</td>\n",
       "      <td>0.899189</td>\n",
       "      <td>[0.9840666569215027, 0.9281406463359126, 0.8881682699889607, 0.8575972746675423]</td>\n",
       "      <td>0.984571</td>\n",
       "      <td>0.984688</td>\n",
       "      <td>54728</td>\n",
       "      <td>55579</td>\n",
       "      <td>0.979597</td>\n",
       "      <td>0.939668</td>\n",
       "      <td>0.959384</td>\n",
       "      <td>0.959420</td>\n",
       "    </tr>\n",
       "    <tr>\n",
       "      <td>72000</td>\n",
       "      <td>0.109300</td>\n",
       "      <td>0.088045</td>\n",
       "      <td>0.897846</td>\n",
       "      <td>[0.982590427475338, 0.9271141448615852, 0.8868348443042964, 0.8552318424292162]</td>\n",
       "      <td>0.984790</td>\n",
       "      <td>0.984904</td>\n",
       "      <td>54740</td>\n",
       "      <td>55579</td>\n",
       "      <td>0.978892</td>\n",
       "      <td>0.938896</td>\n",
       "      <td>0.959638</td>\n",
       "      <td>0.959711</td>\n",
       "    </tr>\n",
       "    <tr>\n",
       "      <td>72500</td>\n",
       "      <td>0.109300</td>\n",
       "      <td>0.087619</td>\n",
       "      <td>0.898866</td>\n",
       "      <td>[0.9858618416233244, 0.9301383925176793, 0.8901865465180618, 0.8589210764546128]</td>\n",
       "      <td>0.982303</td>\n",
       "      <td>0.982457</td>\n",
       "      <td>54604</td>\n",
       "      <td>55579</td>\n",
       "      <td>0.979107</td>\n",
       "      <td>0.940055</td>\n",
       "      <td>0.960418</td>\n",
       "      <td>0.960421</td>\n",
       "    </tr>\n",
       "    <tr>\n",
       "      <td>73000</td>\n",
       "      <td>0.107500</td>\n",
       "      <td>0.087343</td>\n",
       "      <td>0.898263</td>\n",
       "      <td>[0.9833914328995638, 0.9270898448599193, 0.8857868520013388, 0.8539279785206288]</td>\n",
       "      <td>0.985721</td>\n",
       "      <td>0.985822</td>\n",
       "      <td>54791</td>\n",
       "      <td>55579</td>\n",
       "      <td>0.979610</td>\n",
       "      <td>0.940159</td>\n",
       "      <td>0.959996</td>\n",
       "      <td>0.960013</td>\n",
       "    </tr>\n",
       "    <tr>\n",
       "      <td>73500</td>\n",
       "      <td>0.107500</td>\n",
       "      <td>0.085051</td>\n",
       "      <td>0.897643</td>\n",
       "      <td>[0.9853264051522248, 0.9285741415982984, 0.8877132027795326, 0.8552285432423545]</td>\n",
       "      <td>0.983254</td>\n",
       "      <td>0.983393</td>\n",
       "      <td>54656</td>\n",
       "      <td>55579</td>\n",
       "      <td>0.979728</td>\n",
       "      <td>0.939682</td>\n",
       "      <td>0.960301</td>\n",
       "      <td>0.960310</td>\n",
       "    </tr>\n",
       "    <tr>\n",
       "      <td>74000</td>\n",
       "      <td>0.106000</td>\n",
       "      <td>0.084846</td>\n",
       "      <td>0.899458</td>\n",
       "      <td>[0.9837643363284388, 0.9278375919326711, 0.8882890692725983, 0.857268848962179]</td>\n",
       "      <td>0.985082</td>\n",
       "      <td>0.985192</td>\n",
       "      <td>54756</td>\n",
       "      <td>55579</td>\n",
       "      <td>0.979318</td>\n",
       "      <td>0.939585</td>\n",
       "      <td>0.959660</td>\n",
       "      <td>0.959602</td>\n",
       "    </tr>\n",
       "    <tr>\n",
       "      <td>74500</td>\n",
       "      <td>0.106000</td>\n",
       "      <td>0.084705</td>\n",
       "      <td>0.900437</td>\n",
       "      <td>[0.98206612774015, 0.92661174514398, 0.8863797030869531, 0.8548156324094514]</td>\n",
       "      <td>0.988145</td>\n",
       "      <td>0.988215</td>\n",
       "      <td>54924</td>\n",
       "      <td>55579</td>\n",
       "      <td>0.979421</td>\n",
       "      <td>0.941735</td>\n",
       "      <td>0.960412</td>\n",
       "      <td>0.960431</td>\n",
       "    </tr>\n",
       "    <tr>\n",
       "      <td>75000</td>\n",
       "      <td>0.104700</td>\n",
       "      <td>0.084396</td>\n",
       "      <td>0.902652</td>\n",
       "      <td>[0.9842037983929875, 0.9307619408642911, 0.892297084318361, 0.8622436423297785]</td>\n",
       "      <td>0.985155</td>\n",
       "      <td>0.985264</td>\n",
       "      <td>54760</td>\n",
       "      <td>55579</td>\n",
       "      <td>0.979682</td>\n",
       "      <td>0.942814</td>\n",
       "      <td>0.961444</td>\n",
       "      <td>0.961502</td>\n",
       "    </tr>\n",
       "    <tr>\n",
       "      <td>75500</td>\n",
       "      <td>0.104700</td>\n",
       "      <td>0.084852</td>\n",
       "      <td>0.900839</td>\n",
       "      <td>[0.9835599460503773, 0.9276283433586804, 0.8879801832265167, 0.8562190480088405]</td>\n",
       "      <td>0.987089</td>\n",
       "      <td>0.987171</td>\n",
       "      <td>54866</td>\n",
       "      <td>55579</td>\n",
       "      <td>0.979996</td>\n",
       "      <td>0.939859</td>\n",
       "      <td>0.960611</td>\n",
       "      <td>0.960682</td>\n",
       "    </tr>\n",
       "    <tr>\n",
       "      <td>76000</td>\n",
       "      <td>0.104200</td>\n",
       "      <td>0.084642</td>\n",
       "      <td>0.899567</td>\n",
       "      <td>[0.9826784574710548, 0.9268048065096035, 0.8867538597698889, 0.8554202067765381]</td>\n",
       "      <td>0.986706</td>\n",
       "      <td>0.986794</td>\n",
       "      <td>54845</td>\n",
       "      <td>55579</td>\n",
       "      <td>0.979305</td>\n",
       "      <td>0.941642</td>\n",
       "      <td>0.960367</td>\n",
       "      <td>0.960424</td>\n",
       "    </tr>\n",
       "    <tr>\n",
       "      <td>76500</td>\n",
       "      <td>0.104200</td>\n",
       "      <td>0.083957</td>\n",
       "      <td>0.898401</td>\n",
       "      <td>[0.9863888175514547, 0.9310279163651598, 0.8913964445500258, 0.8604732654491487]</td>\n",
       "      <td>0.980653</td>\n",
       "      <td>0.980838</td>\n",
       "      <td>54514</td>\n",
       "      <td>55579</td>\n",
       "      <td>0.979565</td>\n",
       "      <td>0.941240</td>\n",
       "      <td>0.960802</td>\n",
       "      <td>0.960722</td>\n",
       "    </tr>\n",
       "    <tr>\n",
       "      <td>77000</td>\n",
       "      <td>0.102400</td>\n",
       "      <td>0.082844</td>\n",
       "      <td>0.903868</td>\n",
       "      <td>[0.9843992336465651, 0.9315216362086923, 0.8929436079126071, 0.8625140866714476]</td>\n",
       "      <td>0.985976</td>\n",
       "      <td>0.986074</td>\n",
       "      <td>54805</td>\n",
       "      <td>55579</td>\n",
       "      <td>0.980463</td>\n",
       "      <td>0.943867</td>\n",
       "      <td>0.962045</td>\n",
       "      <td>0.962068</td>\n",
       "    </tr>\n",
       "    <tr>\n",
       "      <td>77500</td>\n",
       "      <td>0.102400</td>\n",
       "      <td>0.083893</td>\n",
       "      <td>0.901881</td>\n",
       "      <td>[0.9832786287381473, 0.9293906131718395, 0.8897521636506688, 0.8587428337428338]</td>\n",
       "      <td>0.986615</td>\n",
       "      <td>0.986704</td>\n",
       "      <td>54840</td>\n",
       "      <td>55579</td>\n",
       "      <td>0.979384</td>\n",
       "      <td>0.941388</td>\n",
       "      <td>0.961179</td>\n",
       "      <td>0.961252</td>\n",
       "    </tr>\n",
       "    <tr>\n",
       "      <td>78000</td>\n",
       "      <td>0.100200</td>\n",
       "      <td>0.083047</td>\n",
       "      <td>0.902007</td>\n",
       "      <td>[0.982123006833713, 0.9281702127659575, 0.8896117936117937, 0.8592736572890025]</td>\n",
       "      <td>0.987253</td>\n",
       "      <td>0.987333</td>\n",
       "      <td>54875</td>\n",
       "      <td>55579</td>\n",
       "      <td>0.978919</td>\n",
       "      <td>0.941306</td>\n",
       "      <td>0.960850</td>\n",
       "      <td>0.960816</td>\n",
       "    </tr>\n",
       "    <tr>\n",
       "      <td>78500</td>\n",
       "      <td>0.100200</td>\n",
       "      <td>0.081095</td>\n",
       "      <td>0.904282</td>\n",
       "      <td>[0.9820072480923676, 0.9294853622120164, 0.8918897684193986, 0.8623418045020548]</td>\n",
       "      <td>0.987909</td>\n",
       "      <td>0.987981</td>\n",
       "      <td>54911</td>\n",
       "      <td>55579</td>\n",
       "      <td>0.979522</td>\n",
       "      <td>0.943204</td>\n",
       "      <td>0.961778</td>\n",
       "      <td>0.961764</td>\n",
       "    </tr>\n",
       "    <tr>\n",
       "      <td>79000</td>\n",
       "      <td>0.099900</td>\n",
       "      <td>0.080527</td>\n",
       "      <td>0.904828</td>\n",
       "      <td>[0.9780000724874053, 0.925012222180437, 0.8879293501621663, 0.8588101337887846]</td>\n",
       "      <td>0.992831</td>\n",
       "      <td>0.992857</td>\n",
       "      <td>55182</td>\n",
       "      <td>55579</td>\n",
       "      <td>0.979043</td>\n",
       "      <td>0.941473</td>\n",
       "      <td>0.960314</td>\n",
       "      <td>0.960427</td>\n",
       "    </tr>\n",
       "    <tr>\n",
       "      <td>79500</td>\n",
       "      <td>0.099900</td>\n",
       "      <td>0.082089</td>\n",
       "      <td>0.902615</td>\n",
       "      <td>[0.9855183763027976, 0.9319415448851774, 0.8933320181495364, 0.8633394947627849]</td>\n",
       "      <td>0.983876</td>\n",
       "      <td>0.984005</td>\n",
       "      <td>54690</td>\n",
       "      <td>55579</td>\n",
       "      <td>0.980331</td>\n",
       "      <td>0.940789</td>\n",
       "      <td>0.960600</td>\n",
       "      <td>0.960555</td>\n",
       "    </tr>\n",
       "    <tr>\n",
       "      <td>80000</td>\n",
       "      <td>0.098000</td>\n",
       "      <td>0.081150</td>\n",
       "      <td>0.903069</td>\n",
       "      <td>[0.9829472916286704, 0.9298504637516563, 0.89165846940783, 0.8619291419209503]</td>\n",
       "      <td>0.986432</td>\n",
       "      <td>0.986524</td>\n",
       "      <td>54830</td>\n",
       "      <td>55579</td>\n",
       "      <td>0.979205</td>\n",
       "      <td>0.941582</td>\n",
       "      <td>0.960808</td>\n",
       "      <td>0.960867</td>\n",
       "    </tr>\n",
       "    <tr>\n",
       "      <td>80500</td>\n",
       "      <td>0.098000</td>\n",
       "      <td>0.081167</td>\n",
       "      <td>0.904286</td>\n",
       "      <td>[0.9850103156780048, 0.9316291144757537, 0.8942506549014201, 0.864386623198212]</td>\n",
       "      <td>0.985356</td>\n",
       "      <td>0.985462</td>\n",
       "      <td>54771</td>\n",
       "      <td>55579</td>\n",
       "      <td>0.979964</td>\n",
       "      <td>0.941807</td>\n",
       "      <td>0.961755</td>\n",
       "      <td>0.961703</td>\n",
       "    </tr>\n",
       "  </tbody>\n",
       "</table><p>"
      ],
      "text/plain": [
       "<IPython.core.display.HTML object>"
      ]
     },
     "metadata": {},
     "output_type": "display_data"
    },
    {
     "name": "stderr",
     "output_type": "stream",
     "text": [
      "***** Running Evaluation *****\n",
      "  Num examples = 2000\n",
      "  Batch size = 128\n"
     ]
    },
    {
     "name": "stdout",
     "output_type": "stream",
     "text": [
      " [ [ 2 3, 3 ], [ 2, 4 -1 ] [ 4, 3 ] [ 1 -3, -4 ] [ 3, -2 -1 -2 ] ] \n",
      " [ [ 2 3, 3 ], [ 2, 4 -1 ] [ 4, 3 ] [ 1 -3, -4 ] [ 3, -2 -1 -2 ] ] \n"
     ]
    },
    {
     "name": "stderr",
     "output_type": "stream",
     "text": [
      "Trainer is attempting to log a value of \"[0.9864325765235775, 0.925794446034927, 0.8825478718126798, 0.8489306746564728]\" of type <class 'list'> for key \"eval/precisions\" as a scalar. This invocation of Tensorboard's writer.add_scalar() is incorrect so we dropped this attribute.\n",
      "***** Running Evaluation *****\n",
      "  Num examples = 2000\n",
      "  Batch size = 128\n"
     ]
    },
    {
     "name": "stdout",
     "output_type": "stream",
     "text": [
      " [ [ 2 3, 3 ], [ 2, 4 -1 ] [ 4, 3 ] [ 1 -3, -4 ] [ 3, -2 -1 -2 ] ] \n",
      " [ [ 2 3, 3 ], [ 2, 4 -1 ] [ 4, 3 ] [ 1 -3, -4 ] [ 3, -2 -1 -2 ] ] \n"
     ]
    },
    {
     "name": "stderr",
     "output_type": "stream",
     "text": [
      "Trainer is attempting to log a value of \"[0.982575591185299, 0.9201687058287104, 0.874733391263133, 0.8399745044822765]\" of type <class 'list'> for key \"eval/precisions\" as a scalar. This invocation of Tensorboard's writer.add_scalar() is incorrect so we dropped this attribute.\n",
      "Saving model checkpoint to results/commutator-translation/4-free-group/bert-bert-long/checkpoint-61000\n",
      "Configuration saved in results/commutator-translation/4-free-group/bert-bert-long/checkpoint-61000/config.json\n",
      "Model weights saved in results/commutator-translation/4-free-group/bert-bert-long/checkpoint-61000/pytorch_model.bin\n",
      "/usr/local/lib/python3.8/dist-packages/transformers/models/encoder_decoder/modeling_encoder_decoder.py:533: FutureWarning: Version v4.12.0 introduces a better way to train encoder-decoder models by computing the loss inside the encoder-decoder framework rather than in the decoder itself. You may observe training discrepancies if fine-tuning a model trained with versions anterior to 4.12.0. The decoder_input_ids are now created based on the labels, no need to pass them yourself anymore.\n",
      "  warnings.warn(DEPRECATION_WARNING, FutureWarning)\n",
      "***** Running Evaluation *****\n",
      "  Num examples = 2000\n",
      "  Batch size = 128\n"
     ]
    },
    {
     "name": "stdout",
     "output_type": "stream",
     "text": [
      " [ [ 2 3, 3 ], [ 2, 4 -1 ] [ 4, 3 ] [ 1 -3, -4 ] [ 3, -2 -1 -2 ] ] \n",
      " [ [ 2 3, 3 ], [ 2, 4 -1 ] [ 4, 3 ] [ 1 -3, -4 ] [ 3, -2 -1 -2 ] ] \n"
     ]
    },
    {
     "name": "stderr",
     "output_type": "stream",
     "text": [
      "Trainer is attempting to log a value of \"[0.9800007285709081, 0.9191334921175003, 0.8732073395937291, 0.8380025356836122]\" of type <class 'list'> for key \"eval/precisions\" as a scalar. This invocation of Tensorboard's writer.add_scalar() is incorrect so we dropped this attribute.\n",
      "***** Running Evaluation *****\n",
      "  Num examples = 2000\n",
      "  Batch size = 128\n"
     ]
    },
    {
     "name": "stdout",
     "output_type": "stream",
     "text": [
      " [ [ 2 3, 3 ], [ 2, 4 -1 ] [ 4, 3 ] [ 1 -3, -4 ] [ 3, -2 -1 -2 ] ] \n",
      " [ [ 2 3, 3 ], [ 2, 4 -1 ] [ 4, 3 ] [ 1 -3, -4 ] [ 3, -2 -1 -2 ] ] \n"
     ]
    },
    {
     "name": "stderr",
     "output_type": "stream",
     "text": [
      "Trainer is attempting to log a value of \"[0.9856239429369806, 0.9259867165432476, 0.881181046114771, 0.8460823208529631]\" of type <class 'list'> for key \"eval/precisions\" as a scalar. This invocation of Tensorboard's writer.add_scalar() is incorrect so we dropped this attribute.\n",
      "Saving model checkpoint to results/commutator-translation/4-free-group/bert-bert-long/checkpoint-62000\n",
      "Configuration saved in results/commutator-translation/4-free-group/bert-bert-long/checkpoint-62000/config.json\n",
      "Model weights saved in results/commutator-translation/4-free-group/bert-bert-long/checkpoint-62000/pytorch_model.bin\n",
      "/usr/local/lib/python3.8/dist-packages/transformers/models/encoder_decoder/modeling_encoder_decoder.py:533: FutureWarning: Version v4.12.0 introduces a better way to train encoder-decoder models by computing the loss inside the encoder-decoder framework rather than in the decoder itself. You may observe training discrepancies if fine-tuning a model trained with versions anterior to 4.12.0. The decoder_input_ids are now created based on the labels, no need to pass them yourself anymore.\n",
      "  warnings.warn(DEPRECATION_WARNING, FutureWarning)\n",
      "***** Running Evaluation *****\n",
      "  Num examples = 2000\n",
      "  Batch size = 128\n"
     ]
    },
    {
     "name": "stdout",
     "output_type": "stream",
     "text": [
      " [ [ 2 3, 3 ], [ 2, 4 -1 ] [ 4, 3 ] [ 1 -3, -4 ] [ 3, -2 -1 -2 ] ] \n",
      " [ [ 2 3, 3 ], [ 2, 4 -1 ] [ 4, 3 ] [ 1 -3, -4 ] [ 3, -2 -1 -2 ] ] \n"
     ]
    },
    {
     "name": "stderr",
     "output_type": "stream",
     "text": [
      "Trainer is attempting to log a value of \"[0.9808053373193095, 0.9192758092283244, 0.8741029119723156, 0.8389037843590741]\" of type <class 'list'> for key \"eval/precisions\" as a scalar. This invocation of Tensorboard's writer.add_scalar() is incorrect so we dropped this attribute.\n",
      "***** Running Evaluation *****\n",
      "  Num examples = 2000\n",
      "  Batch size = 128\n"
     ]
    },
    {
     "name": "stdout",
     "output_type": "stream",
     "text": [
      " [ [ 2 3, 3 ], [ 2, 4 -1 ] [ 4, 3 ] [ 1 -3, -4 ] [ 3, -2 -1 -2 ] ] \n",
      " [ [ 2 3, 3 ], [ 2, 4 -1 ] [ 4, 3 ] [ 1 -3, -4 ] [ 3, -2 -1 -2 ] ] \n"
     ]
    },
    {
     "name": "stderr",
     "output_type": "stream",
     "text": [
      "Trainer is attempting to log a value of \"[0.9817620855849277, 0.9219531605275125, 0.8785843705687727, 0.8445752009184845]\" of type <class 'list'> for key \"eval/precisions\" as a scalar. This invocation of Tensorboard's writer.add_scalar() is incorrect so we dropped this attribute.\n",
      "Saving model checkpoint to results/commutator-translation/4-free-group/bert-bert-long/checkpoint-63000\n",
      "Configuration saved in results/commutator-translation/4-free-group/bert-bert-long/checkpoint-63000/config.json\n",
      "Model weights saved in results/commutator-translation/4-free-group/bert-bert-long/checkpoint-63000/pytorch_model.bin\n",
      "/usr/local/lib/python3.8/dist-packages/transformers/models/encoder_decoder/modeling_encoder_decoder.py:533: FutureWarning: Version v4.12.0 introduces a better way to train encoder-decoder models by computing the loss inside the encoder-decoder framework rather than in the decoder itself. You may observe training discrepancies if fine-tuning a model trained with versions anterior to 4.12.0. The decoder_input_ids are now created based on the labels, no need to pass them yourself anymore.\n",
      "  warnings.warn(DEPRECATION_WARNING, FutureWarning)\n",
      "***** Running Evaluation *****\n",
      "  Num examples = 2000\n",
      "  Batch size = 128\n"
     ]
    },
    {
     "name": "stdout",
     "output_type": "stream",
     "text": [
      " [ [ 2 3, 3 ], [ 2, 4 -1 ] [ 4, 3 ] [ 1 -3, -4 ] [ 3, -2 -1 -2 ] ] \n",
      " [ [ 2 3, 3 ], [ 2, 4 -1 ] [ 4, 3 ] [ 1 -3, -4 ] [ 3, -2 -1 -2 ] ] \n"
     ]
    },
    {
     "name": "stderr",
     "output_type": "stream",
     "text": [
      "Trainer is attempting to log a value of \"[0.9815074863676982, 0.9224726969886246, 0.8795860956465288, 0.8460467306944075]\" of type <class 'list'> for key \"eval/precisions\" as a scalar. This invocation of Tensorboard's writer.add_scalar() is incorrect so we dropped this attribute.\n",
      "***** Running Evaluation *****\n",
      "  Num examples = 2000\n",
      "  Batch size = 128\n"
     ]
    },
    {
     "name": "stdout",
     "output_type": "stream",
     "text": [
      " [ [ 2 3, 3 ], [ 2, 4 -1 ] [ 4, 3 ] [ 1 -3, -4 ] [ 3, -2 -1 -2 ] ] \n",
      " [ [ 2 3, 3 ], [ 2, 4 -1 ] [ 4, 3 ] [ 1 -3, -4 ] [ 3, -2 -1 -2 ] ] \n"
     ]
    },
    {
     "name": "stderr",
     "output_type": "stream",
     "text": [
      "Trainer is attempting to log a value of \"[0.9848251594457884, 0.925253024883951, 0.8811802863697492, 0.8474590231447162]\" of type <class 'list'> for key \"eval/precisions\" as a scalar. This invocation of Tensorboard's writer.add_scalar() is incorrect so we dropped this attribute.\n",
      "Saving model checkpoint to results/commutator-translation/4-free-group/bert-bert-long/checkpoint-64000\n",
      "Configuration saved in results/commutator-translation/4-free-group/bert-bert-long/checkpoint-64000/config.json\n",
      "Model weights saved in results/commutator-translation/4-free-group/bert-bert-long/checkpoint-64000/pytorch_model.bin\n",
      "/usr/local/lib/python3.8/dist-packages/transformers/models/encoder_decoder/modeling_encoder_decoder.py:533: FutureWarning: Version v4.12.0 introduces a better way to train encoder-decoder models by computing the loss inside the encoder-decoder framework rather than in the decoder itself. You may observe training discrepancies if fine-tuning a model trained with versions anterior to 4.12.0. The decoder_input_ids are now created based on the labels, no need to pass them yourself anymore.\n",
      "  warnings.warn(DEPRECATION_WARNING, FutureWarning)\n",
      "***** Running Evaluation *****\n",
      "  Num examples = 2000\n",
      "  Batch size = 128\n"
     ]
    },
    {
     "name": "stdout",
     "output_type": "stream",
     "text": [
      " [ [ 2 3, 3 ], [ 2, 4 -1 ] [ 4, 3 ] [ 1 -3, -4 ] [ 3, -2 -1 -2 ] ] \n",
      " [ [ 2 3, 3 ], [ 2, 4 -1 ] [ 4, 3 ] [ 1 -3, -4 ] [ 3, -2 -1 -2 ] ] \n"
     ]
    },
    {
     "name": "stderr",
     "output_type": "stream",
     "text": [
      "Trainer is attempting to log a value of \"[0.9822603876096191, 0.921114874453632, 0.8773427206041416, 0.8431697680607587]\" of type <class 'list'> for key \"eval/precisions\" as a scalar. This invocation of Tensorboard's writer.add_scalar() is incorrect so we dropped this attribute.\n",
      "***** Running Evaluation *****\n",
      "  Num examples = 2000\n",
      "  Batch size = 128\n"
     ]
    },
    {
     "name": "stdout",
     "output_type": "stream",
     "text": [
      " [ [ 2 3, 3 ], [ 2, 4 -1 ] [ 4, 3 ] [ 1 -3, -4 ] [ 3, -2 -1 -2 ] ] \n",
      " [ [ 2 3, 3 ], [ 2, 4 -1 ] [ 4, 3 ] [ 1 -3, -4 ] [ 3, -2 -1 -2 ] ] \n"
     ]
    },
    {
     "name": "stderr",
     "output_type": "stream",
     "text": [
      "Trainer is attempting to log a value of \"[0.9797634212920837, 0.9179981114258735, 0.8733267909715408, 0.83926455566905]\" of type <class 'list'> for key \"eval/precisions\" as a scalar. This invocation of Tensorboard's writer.add_scalar() is incorrect so we dropped this attribute.\n",
      "Saving model checkpoint to results/commutator-translation/4-free-group/bert-bert-long/checkpoint-65000\n",
      "Configuration saved in results/commutator-translation/4-free-group/bert-bert-long/checkpoint-65000/config.json\n",
      "Model weights saved in results/commutator-translation/4-free-group/bert-bert-long/checkpoint-65000/pytorch_model.bin\n",
      "/usr/local/lib/python3.8/dist-packages/transformers/models/encoder_decoder/modeling_encoder_decoder.py:533: FutureWarning: Version v4.12.0 introduces a better way to train encoder-decoder models by computing the loss inside the encoder-decoder framework rather than in the decoder itself. You may observe training discrepancies if fine-tuning a model trained with versions anterior to 4.12.0. The decoder_input_ids are now created based on the labels, no need to pass them yourself anymore.\n",
      "  warnings.warn(DEPRECATION_WARNING, FutureWarning)\n",
      "***** Running Evaluation *****\n",
      "  Num examples = 2000\n",
      "  Batch size = 128\n"
     ]
    },
    {
     "name": "stdout",
     "output_type": "stream",
     "text": [
      " [ [ 2 3, 3 ], [ 2, 4 -1 ] [ 4, 3 ] [ 1 -3, -4 ] [ 3, -2 -1 -2 ] ] \n",
      " [ [ 2 3, 3 ], [ 2, 4 -1 ] [ 4, 3 ] [ 1 -3, -4 ] [ 3, -2 -1 -2 ] ] \n"
     ]
    },
    {
     "name": "stderr",
     "output_type": "stream",
     "text": [
      "Trainer is attempting to log a value of \"[0.9813513021307594, 0.9208278208278208, 0.8785307405224907, 0.8452463708852995]\" of type <class 'list'> for key \"eval/precisions\" as a scalar. This invocation of Tensorboard's writer.add_scalar() is incorrect so we dropped this attribute.\n",
      "***** Running Evaluation *****\n",
      "  Num examples = 2000\n",
      "  Batch size = 128\n"
     ]
    },
    {
     "name": "stdout",
     "output_type": "stream",
     "text": [
      " [ [ 2 3, 3 ], [ 2, 4 -1 ] [ 4, 3 ] [ 1 -3, -4 ] [ 3, -2 -1 -2 ] ] \n",
      " [ [ 2 3, 3 ], [ 2, 4 -1 ] [ 4, 3 ] [ 1 -3, -4 ] [ 3, -2 -1 -2 ] ] \n"
     ]
    },
    {
     "name": "stderr",
     "output_type": "stream",
     "text": [
      "Trainer is attempting to log a value of \"[0.9842065772377065, 0.9259540679672511, 0.8842485634737278, 0.8517977920769689]\" of type <class 'list'> for key \"eval/precisions\" as a scalar. This invocation of Tensorboard's writer.add_scalar() is incorrect so we dropped this attribute.\n",
      "Saving model checkpoint to results/commutator-translation/4-free-group/bert-bert-long/checkpoint-66000\n",
      "Configuration saved in results/commutator-translation/4-free-group/bert-bert-long/checkpoint-66000/config.json\n",
      "Model weights saved in results/commutator-translation/4-free-group/bert-bert-long/checkpoint-66000/pytorch_model.bin\n",
      "/usr/local/lib/python3.8/dist-packages/transformers/models/encoder_decoder/modeling_encoder_decoder.py:533: FutureWarning: Version v4.12.0 introduces a better way to train encoder-decoder models by computing the loss inside the encoder-decoder framework rather than in the decoder itself. You may observe training discrepancies if fine-tuning a model trained with versions anterior to 4.12.0. The decoder_input_ids are now created based on the labels, no need to pass them yourself anymore.\n",
      "  warnings.warn(DEPRECATION_WARNING, FutureWarning)\n",
      "***** Running Evaluation *****\n",
      "  Num examples = 2000\n",
      "  Batch size = 128\n"
     ]
    },
    {
     "name": "stdout",
     "output_type": "stream",
     "text": [
      " [ [ 2 3, 3 ], [ 2, 4 -1 ] [ 4, 3 ] [ 1 -3, -4 ] [ 3, -2 -1 -2 ] ] \n",
      " [ [ 2 3, 3 ], [ 2, 4 -1 ] [ 4, 3 ] [ 1 -3, -4 ] [ 3, -2 -1 -2 ] ] \n"
     ]
    },
    {
     "name": "stderr",
     "output_type": "stream",
     "text": [
      "Trainer is attempting to log a value of \"[0.9818138660142056, 0.921807190099873, 0.8795280398684184, 0.8467816351221112]\" of type <class 'list'> for key \"eval/precisions\" as a scalar. This invocation of Tensorboard's writer.add_scalar() is incorrect so we dropped this attribute.\n",
      "***** Running Evaluation *****\n",
      "  Num examples = 2000\n",
      "  Batch size = 128\n"
     ]
    },
    {
     "name": "stdout",
     "output_type": "stream",
     "text": [
      " [ [ 2 3, 3 ], [ 2, 4 -1 ] [ 4, 3 ] [ 1 -3, -4 ] [ 3, -2 -1 -2 ] ] \n",
      " [ [ 2 3, 3 ], [ 2, 4 -1 ] [ 4, 3 ] [ 1 -3, -4 ] [ 3, -2 -1 -2 ] ] \n"
     ]
    },
    {
     "name": "stderr",
     "output_type": "stream",
     "text": [
      "Trainer is attempting to log a value of \"[0.9817643619353895, 0.922602791685632, 0.8799282447563476, 0.8464743063536365]\" of type <class 'list'> for key \"eval/precisions\" as a scalar. This invocation of Tensorboard's writer.add_scalar() is incorrect so we dropped this attribute.\n",
      "Saving model checkpoint to results/commutator-translation/4-free-group/bert-bert-long/checkpoint-67000\n",
      "Configuration saved in results/commutator-translation/4-free-group/bert-bert-long/checkpoint-67000/config.json\n",
      "Model weights saved in results/commutator-translation/4-free-group/bert-bert-long/checkpoint-67000/pytorch_model.bin\n",
      "/usr/local/lib/python3.8/dist-packages/transformers/models/encoder_decoder/modeling_encoder_decoder.py:533: FutureWarning: Version v4.12.0 introduces a better way to train encoder-decoder models by computing the loss inside the encoder-decoder framework rather than in the decoder itself. You may observe training discrepancies if fine-tuning a model trained with versions anterior to 4.12.0. The decoder_input_ids are now created based on the labels, no need to pass them yourself anymore.\n",
      "  warnings.warn(DEPRECATION_WARNING, FutureWarning)\n",
      "***** Running Evaluation *****\n",
      "  Num examples = 2000\n",
      "  Batch size = 128\n"
     ]
    },
    {
     "name": "stdout",
     "output_type": "stream",
     "text": [
      " [ [ 2 3, 3 ], [ 2, 4 -1 ] [ 4, 3 ] [ 1 -3, -4 ] [ 3, -2 -1 -2 ] ] \n",
      " [ [ 2 3, 3 ], [ 2, 4 -1 ] [ 4, 3 ] [ 1 -3, -4 ] [ 3, -2 -1 -2 ] ] \n"
     ]
    },
    {
     "name": "stderr",
     "output_type": "stream",
     "text": [
      "Trainer is attempting to log a value of \"[0.9827000365363536, 0.924440652256352, 0.8816909735908554, 0.848420188756668]\" of type <class 'list'> for key \"eval/precisions\" as a scalar. This invocation of Tensorboard's writer.add_scalar() is incorrect so we dropped this attribute.\n",
      "***** Running Evaluation *****\n",
      "  Num examples = 2000\n",
      "  Batch size = 128\n"
     ]
    },
    {
     "name": "stdout",
     "output_type": "stream",
     "text": [
      " [ [ 2 3, 3 ], [ 2, 4 -1 ] [ 4, 3 ] [ 1 -3, -4 ] [ 3, -2 -1 -2 ] ] \n",
      " [ [ 2 3, 3 ], [ 2, 4 -1 ] [ 4, 3 ] [ 1 -3, -4 ] [ 3, -2 -1 -2 ] ] \n"
     ]
    },
    {
     "name": "stderr",
     "output_type": "stream",
     "text": [
      "Trainer is attempting to log a value of \"[0.9826676163863167, 0.9265634181942259, 0.8852678659389592, 0.852542407646709]\" of type <class 'list'> for key \"eval/precisions\" as a scalar. This invocation of Tensorboard's writer.add_scalar() is incorrect so we dropped this attribute.\n",
      "Saving model checkpoint to results/commutator-translation/4-free-group/bert-bert-long/checkpoint-68000\n",
      "Configuration saved in results/commutator-translation/4-free-group/bert-bert-long/checkpoint-68000/config.json\n",
      "Model weights saved in results/commutator-translation/4-free-group/bert-bert-long/checkpoint-68000/pytorch_model.bin\n",
      "/usr/local/lib/python3.8/dist-packages/transformers/models/encoder_decoder/modeling_encoder_decoder.py:533: FutureWarning: Version v4.12.0 introduces a better way to train encoder-decoder models by computing the loss inside the encoder-decoder framework rather than in the decoder itself. You may observe training discrepancies if fine-tuning a model trained with versions anterior to 4.12.0. The decoder_input_ids are now created based on the labels, no need to pass them yourself anymore.\n",
      "  warnings.warn(DEPRECATION_WARNING, FutureWarning)\n",
      "***** Running Evaluation *****\n",
      "  Num examples = 2000\n",
      "  Batch size = 128\n"
     ]
    },
    {
     "name": "stdout",
     "output_type": "stream",
     "text": [
      " [ [ 2 3, 3 ], [ 2, 4 -1 ] [ 4, 3 ] [ 1 -3, -4 ] [ 3, -2 -1 -2 ] ] \n",
      " [ [ 2 3, 3 ], [ 2, 4 -1 ] [ 4, 3 ] [ 1 -3, -4 ] [ 3, -2 -1 -2 ] ] \n"
     ]
    },
    {
     "name": "stderr",
     "output_type": "stream",
     "text": [
      "Trainer is attempting to log a value of \"[0.9796308779856797, 0.922722029988466, 0.8796942244581131, 0.8464622496778285]\" of type <class 'list'> for key \"eval/precisions\" as a scalar. This invocation of Tensorboard's writer.add_scalar() is incorrect so we dropped this attribute.\n",
      "***** Running Evaluation *****\n",
      "  Num examples = 2000\n",
      "  Batch size = 128\n"
     ]
    },
    {
     "name": "stdout",
     "output_type": "stream",
     "text": [
      " [ [ 2 3, 3 ], [ 2, 4 -1 ] [ 4, 3 ] [ 1 -3, -4 ] [ 3, -2 -1 -2 ] ] \n",
      " [ [ 2 3, 3 ], [ 2, 4 -1 ] [ 4, 3 ] [ 1 -3, -4 ] [ 3, -2 -1 -2 ] ] \n"
     ]
    },
    {
     "name": "stderr",
     "output_type": "stream",
     "text": [
      "Trainer is attempting to log a value of \"[0.9831296735363851, 0.9249479462426652, 0.8836710603974031, 0.8513004300634855]\" of type <class 'list'> for key \"eval/precisions\" as a scalar. This invocation of Tensorboard's writer.add_scalar() is incorrect so we dropped this attribute.\n",
      "Saving model checkpoint to results/commutator-translation/4-free-group/bert-bert-long/checkpoint-69000\n",
      "Configuration saved in results/commutator-translation/4-free-group/bert-bert-long/checkpoint-69000/config.json\n",
      "Model weights saved in results/commutator-translation/4-free-group/bert-bert-long/checkpoint-69000/pytorch_model.bin\n",
      "/usr/local/lib/python3.8/dist-packages/transformers/models/encoder_decoder/modeling_encoder_decoder.py:533: FutureWarning: Version v4.12.0 introduces a better way to train encoder-decoder models by computing the loss inside the encoder-decoder framework rather than in the decoder itself. You may observe training discrepancies if fine-tuning a model trained with versions anterior to 4.12.0. The decoder_input_ids are now created based on the labels, no need to pass them yourself anymore.\n",
      "  warnings.warn(DEPRECATION_WARNING, FutureWarning)\n",
      "***** Running Evaluation *****\n",
      "  Num examples = 2000\n",
      "  Batch size = 128\n"
     ]
    },
    {
     "name": "stdout",
     "output_type": "stream",
     "text": [
      " [ [ 2 3, 3 ], [ 2, 4 -1 ] [ 4, 3 ] [ 1 -3, -4 ] [ 3, -2 -1 -2 ] ] \n",
      " [ [ 2 3, 3 ], [ 2, 4 -1 ] [ 4, 3 ] [ 1 -3, -4 ] [ 3, -2 -1 -2 ] ] \n"
     ]
    },
    {
     "name": "stderr",
     "output_type": "stream",
     "text": [
      "Trainer is attempting to log a value of \"[0.9827126688572472, 0.9247631678666162, 0.883517132729421, 0.8507380073800738]\" of type <class 'list'> for key \"eval/precisions\" as a scalar. This invocation of Tensorboard's writer.add_scalar() is incorrect so we dropped this attribute.\n",
      "***** Running Evaluation *****\n",
      "  Num examples = 2000\n",
      "  Batch size = 128\n"
     ]
    },
    {
     "name": "stdout",
     "output_type": "stream",
     "text": [
      " [ [ 2 3, 3 ], [ 2, 4 -1 ] [ 4, 3 ] [ 1 -3, -4 ] [ 3, -2 -1 -2 ] ] \n",
      " [ [ 2 3, 3 ], [ 2, 4 -1 ] [ 4, 3 ] [ 1 -3, -4 ] [ 3, -2 -1 -2 ] ] \n"
     ]
    },
    {
     "name": "stderr",
     "output_type": "stream",
     "text": [
      "Trainer is attempting to log a value of \"[0.9820878660325443, 0.9249229372718849, 0.8840975648106292, 0.8518177540457047]\" of type <class 'list'> for key \"eval/precisions\" as a scalar. This invocation of Tensorboard's writer.add_scalar() is incorrect so we dropped this attribute.\n",
      "Saving model checkpoint to results/commutator-translation/4-free-group/bert-bert-long/checkpoint-70000\n",
      "Configuration saved in results/commutator-translation/4-free-group/bert-bert-long/checkpoint-70000/config.json\n",
      "Model weights saved in results/commutator-translation/4-free-group/bert-bert-long/checkpoint-70000/pytorch_model.bin\n",
      "/usr/local/lib/python3.8/dist-packages/transformers/models/encoder_decoder/modeling_encoder_decoder.py:533: FutureWarning: Version v4.12.0 introduces a better way to train encoder-decoder models by computing the loss inside the encoder-decoder framework rather than in the decoder itself. You may observe training discrepancies if fine-tuning a model trained with versions anterior to 4.12.0. The decoder_input_ids are now created based on the labels, no need to pass them yourself anymore.\n",
      "  warnings.warn(DEPRECATION_WARNING, FutureWarning)\n",
      "***** Running Evaluation *****\n",
      "  Num examples = 2000\n",
      "  Batch size = 128\n"
     ]
    },
    {
     "name": "stdout",
     "output_type": "stream",
     "text": [
      " [ [ 2 3, 3 ], [ 2, 4 -1 ] [ 4, 3 ] [ 1 -3, -4 ] [ 3, -2 -1 -2 ] ] \n",
      " [ [ 2 3, 3 ], [ 2, 4 -1 ] [ 4, 3 ] [ 1 -3, -4 ] [ 3, -2 -1 -2 ] ] \n"
     ]
    },
    {
     "name": "stderr",
     "output_type": "stream",
     "text": [
      "Trainer is attempting to log a value of \"[0.9817144315612922, 0.923352001816393, 0.8808896405254464, 0.8486039466142635]\" of type <class 'list'> for key \"eval/precisions\" as a scalar. This invocation of Tensorboard's writer.add_scalar() is incorrect so we dropped this attribute.\n",
      "***** Running Evaluation *****\n",
      "  Num examples = 2000\n",
      "  Batch size = 128\n"
     ]
    },
    {
     "name": "stdout",
     "output_type": "stream",
     "text": [
      " [ [ 2 3, 3 ], [ 2, 4 -1 ] [ 4, 3 ] [ 1 -3, -4 ] [ 3, -2 -1 -2 ] ] \n",
      " [ [ 2 3, 3 ], [ 2, 4 -1 ] [ 4, 3 ] [ 1 -3, -4 ] [ 3, -2 -1 -2 ] ] \n"
     ]
    },
    {
     "name": "stderr",
     "output_type": "stream",
     "text": [
      "Trainer is attempting to log a value of \"[0.983435717419921, 0.9263131926521937, 0.8853952974593656, 0.8534581895843601]\" of type <class 'list'> for key \"eval/precisions\" as a scalar. This invocation of Tensorboard's writer.add_scalar() is incorrect so we dropped this attribute.\n",
      "Saving model checkpoint to results/commutator-translation/4-free-group/bert-bert-long/checkpoint-71000\n",
      "Configuration saved in results/commutator-translation/4-free-group/bert-bert-long/checkpoint-71000/config.json\n",
      "Model weights saved in results/commutator-translation/4-free-group/bert-bert-long/checkpoint-71000/pytorch_model.bin\n",
      "/usr/local/lib/python3.8/dist-packages/transformers/models/encoder_decoder/modeling_encoder_decoder.py:533: FutureWarning: Version v4.12.0 introduces a better way to train encoder-decoder models by computing the loss inside the encoder-decoder framework rather than in the decoder itself. You may observe training discrepancies if fine-tuning a model trained with versions anterior to 4.12.0. The decoder_input_ids are now created based on the labels, no need to pass them yourself anymore.\n",
      "  warnings.warn(DEPRECATION_WARNING, FutureWarning)\n",
      "***** Running Evaluation *****\n",
      "  Num examples = 2000\n",
      "  Batch size = 128\n"
     ]
    },
    {
     "name": "stdout",
     "output_type": "stream",
     "text": [
      " [ [ 2 3, 3 ], [ 2, 4 -1 ] [ 4, 3 ] [ 1 -3, -4 ] [ 3, -2 -1 -2 ] ] \n",
      " [ [ 2 3, 3 ], [ 2, 4 -1 ] [ 4, 3 ] [ 1 -3, -4 ] [ 3, -2 -1 -2 ] ] \n"
     ]
    },
    {
     "name": "stderr",
     "output_type": "stream",
     "text": [
      "Trainer is attempting to log a value of \"[0.9840666569215027, 0.9281406463359126, 0.8881682699889607, 0.8575972746675423]\" of type <class 'list'> for key \"eval/precisions\" as a scalar. This invocation of Tensorboard's writer.add_scalar() is incorrect so we dropped this attribute.\n",
      "***** Running Evaluation *****\n",
      "  Num examples = 2000\n",
      "  Batch size = 128\n"
     ]
    },
    {
     "name": "stdout",
     "output_type": "stream",
     "text": [
      " [ [ 2 3, 3 ], [ 2, 4 -1 ] [ 4, 3 ] [ 1 -3, -4 ] [ 3, -2 -1 -2 ] ] \n",
      " [ [ 2 3, 3 ], [ 2, 4 -1 ] [ 4, 3 ] [ 1 -3, -4 ] [ 3, -2 -1 -2 ] ] \n"
     ]
    },
    {
     "name": "stderr",
     "output_type": "stream",
     "text": [
      "Trainer is attempting to log a value of \"[0.982590427475338, 0.9271141448615852, 0.8868348443042964, 0.8552318424292162]\" of type <class 'list'> for key \"eval/precisions\" as a scalar. This invocation of Tensorboard's writer.add_scalar() is incorrect so we dropped this attribute.\n",
      "Saving model checkpoint to results/commutator-translation/4-free-group/bert-bert-long/checkpoint-72000\n",
      "Configuration saved in results/commutator-translation/4-free-group/bert-bert-long/checkpoint-72000/config.json\n",
      "Model weights saved in results/commutator-translation/4-free-group/bert-bert-long/checkpoint-72000/pytorch_model.bin\n",
      "/usr/local/lib/python3.8/dist-packages/transformers/models/encoder_decoder/modeling_encoder_decoder.py:533: FutureWarning: Version v4.12.0 introduces a better way to train encoder-decoder models by computing the loss inside the encoder-decoder framework rather than in the decoder itself. You may observe training discrepancies if fine-tuning a model trained with versions anterior to 4.12.0. The decoder_input_ids are now created based on the labels, no need to pass them yourself anymore.\n",
      "  warnings.warn(DEPRECATION_WARNING, FutureWarning)\n",
      "***** Running Evaluation *****\n",
      "  Num examples = 2000\n",
      "  Batch size = 128\n"
     ]
    },
    {
     "name": "stdout",
     "output_type": "stream",
     "text": [
      " [ [ 2 3, 3 ], [ 2, 4 -1 ] [ 4, 3 ] [ 1 -3, -4 ] [ 3, -2 -1 -2 ] ] \n",
      " [ [ 2 3, 3 ], [ 2, 4 -1 ] [ 4, 3 ] [ 1 -3, -4 ] [ 3, -2 -1 -2 ] ] \n"
     ]
    },
    {
     "name": "stderr",
     "output_type": "stream",
     "text": [
      "Trainer is attempting to log a value of \"[0.9858618416233244, 0.9301383925176793, 0.8901865465180618, 0.8589210764546128]\" of type <class 'list'> for key \"eval/precisions\" as a scalar. This invocation of Tensorboard's writer.add_scalar() is incorrect so we dropped this attribute.\n",
      "***** Running Evaluation *****\n",
      "  Num examples = 2000\n",
      "  Batch size = 128\n"
     ]
    },
    {
     "name": "stdout",
     "output_type": "stream",
     "text": [
      " [ [ 2 3, 3 ], [ 2, 4 -1 ] [ 4, 3 ] [ 1 -3, -4 ] [ 3, -2 -1 -2 ] ] \n",
      " [ [ 2 3, 3 ], [ 2, 4 -1 ] [ 4, 3 ] [ 1 -3, -4 ] [ 3, -2 -1 -2 ] ] \n"
     ]
    },
    {
     "name": "stderr",
     "output_type": "stream",
     "text": [
      "Trainer is attempting to log a value of \"[0.9833914328995638, 0.9270898448599193, 0.8857868520013388, 0.8539279785206288]\" of type <class 'list'> for key \"eval/precisions\" as a scalar. This invocation of Tensorboard's writer.add_scalar() is incorrect so we dropped this attribute.\n",
      "Saving model checkpoint to results/commutator-translation/4-free-group/bert-bert-long/checkpoint-73000\n",
      "Configuration saved in results/commutator-translation/4-free-group/bert-bert-long/checkpoint-73000/config.json\n",
      "Model weights saved in results/commutator-translation/4-free-group/bert-bert-long/checkpoint-73000/pytorch_model.bin\n",
      "/usr/local/lib/python3.8/dist-packages/transformers/models/encoder_decoder/modeling_encoder_decoder.py:533: FutureWarning: Version v4.12.0 introduces a better way to train encoder-decoder models by computing the loss inside the encoder-decoder framework rather than in the decoder itself. You may observe training discrepancies if fine-tuning a model trained with versions anterior to 4.12.0. The decoder_input_ids are now created based on the labels, no need to pass them yourself anymore.\n",
      "  warnings.warn(DEPRECATION_WARNING, FutureWarning)\n",
      "***** Running Evaluation *****\n",
      "  Num examples = 2000\n",
      "  Batch size = 128\n"
     ]
    },
    {
     "name": "stdout",
     "output_type": "stream",
     "text": [
      " [ [ 2 3, 3 ], [ 2, 4 -1 ] [ 4, 3 ] [ 1 -3, -4 ] [ 3, -2 -1 -2 ] ] \n",
      " [ [ 2 3, 3 ], [ 2, 4 -1 ] [ 4, 3 ] [ 1 -3, -4 ] [ 3, -2 -1 -2 ] ] \n"
     ]
    },
    {
     "name": "stderr",
     "output_type": "stream",
     "text": [
      "Trainer is attempting to log a value of \"[0.9853264051522248, 0.9285741415982984, 0.8877132027795326, 0.8552285432423545]\" of type <class 'list'> for key \"eval/precisions\" as a scalar. This invocation of Tensorboard's writer.add_scalar() is incorrect so we dropped this attribute.\n",
      "***** Running Evaluation *****\n",
      "  Num examples = 2000\n",
      "  Batch size = 128\n"
     ]
    },
    {
     "name": "stdout",
     "output_type": "stream",
     "text": [
      " [ [ 2 3, 3 ], [ 2, 4 -1 ] [ 4, 3 ] [ 1 -3, -4 ] [ 3, -2 -1 -2 ] ] \n",
      " [ [ 2 3, 3 ], [ 2, 4 -1 ] [ 4, 3 ] [ 1 -3, -4 ] [ 3, -2 -1 -2 ] ] \n"
     ]
    },
    {
     "name": "stderr",
     "output_type": "stream",
     "text": [
      "Trainer is attempting to log a value of \"[0.9837643363284388, 0.9278375919326711, 0.8882890692725983, 0.857268848962179]\" of type <class 'list'> for key \"eval/precisions\" as a scalar. This invocation of Tensorboard's writer.add_scalar() is incorrect so we dropped this attribute.\n",
      "Saving model checkpoint to results/commutator-translation/4-free-group/bert-bert-long/checkpoint-74000\n",
      "Configuration saved in results/commutator-translation/4-free-group/bert-bert-long/checkpoint-74000/config.json\n",
      "Model weights saved in results/commutator-translation/4-free-group/bert-bert-long/checkpoint-74000/pytorch_model.bin\n",
      "/usr/local/lib/python3.8/dist-packages/transformers/models/encoder_decoder/modeling_encoder_decoder.py:533: FutureWarning: Version v4.12.0 introduces a better way to train encoder-decoder models by computing the loss inside the encoder-decoder framework rather than in the decoder itself. You may observe training discrepancies if fine-tuning a model trained with versions anterior to 4.12.0. The decoder_input_ids are now created based on the labels, no need to pass them yourself anymore.\n",
      "  warnings.warn(DEPRECATION_WARNING, FutureWarning)\n",
      "***** Running Evaluation *****\n",
      "  Num examples = 2000\n",
      "  Batch size = 128\n"
     ]
    },
    {
     "name": "stdout",
     "output_type": "stream",
     "text": [
      " [ [ 2 3, 3 ], [ 2, 4 -1 ] [ 4, 3 ] [ 1 -3, -4 ] [ 3, -2 -1 -2 ] ] \n",
      " [ [ 2 3, 3 ], [ 2, 4 -1 ] [ 4, 3 ] [ 1 -3, -4 ] [ 3, -2 -1 -2 ] ] \n"
     ]
    },
    {
     "name": "stderr",
     "output_type": "stream",
     "text": [
      "Trainer is attempting to log a value of \"[0.98206612774015, 0.92661174514398, 0.8863797030869531, 0.8548156324094514]\" of type <class 'list'> for key \"eval/precisions\" as a scalar. This invocation of Tensorboard's writer.add_scalar() is incorrect so we dropped this attribute.\n",
      "***** Running Evaluation *****\n",
      "  Num examples = 2000\n",
      "  Batch size = 128\n"
     ]
    },
    {
     "name": "stdout",
     "output_type": "stream",
     "text": [
      " [ [ 2 3, 3 ], [ 2, 4 -1 ] [ 4, 3 ] [ 1 -3, -4 ] [ 3, -2 -1 -2 ] ] \n",
      " [ [ 2 3, 3 ], [ 2, 4 -1 ] [ 4, 3 ] [ 1 -3, -4 ] [ 3, -2 -1 -2 ] ] \n"
     ]
    },
    {
     "name": "stderr",
     "output_type": "stream",
     "text": [
      "Trainer is attempting to log a value of \"[0.9842037983929875, 0.9307619408642911, 0.892297084318361, 0.8622436423297785]\" of type <class 'list'> for key \"eval/precisions\" as a scalar. This invocation of Tensorboard's writer.add_scalar() is incorrect so we dropped this attribute.\n",
      "Saving model checkpoint to results/commutator-translation/4-free-group/bert-bert-long/checkpoint-75000\n",
      "Configuration saved in results/commutator-translation/4-free-group/bert-bert-long/checkpoint-75000/config.json\n",
      "Model weights saved in results/commutator-translation/4-free-group/bert-bert-long/checkpoint-75000/pytorch_model.bin\n",
      "/usr/local/lib/python3.8/dist-packages/transformers/models/encoder_decoder/modeling_encoder_decoder.py:533: FutureWarning: Version v4.12.0 introduces a better way to train encoder-decoder models by computing the loss inside the encoder-decoder framework rather than in the decoder itself. You may observe training discrepancies if fine-tuning a model trained with versions anterior to 4.12.0. The decoder_input_ids are now created based on the labels, no need to pass them yourself anymore.\n",
      "  warnings.warn(DEPRECATION_WARNING, FutureWarning)\n",
      "***** Running Evaluation *****\n",
      "  Num examples = 2000\n",
      "  Batch size = 128\n"
     ]
    },
    {
     "name": "stdout",
     "output_type": "stream",
     "text": [
      " [ [ 2 3, 3 ], [ 2, 4 -1 ] [ 4, 3 ] [ 1 -3, -4 ] [ 3, -2 -1 -2 ] ] \n",
      " [ [ 2 3, 3 ], [ 2, 4 -1 ] [ 4, 3 ] [ 1 -3, -4 ] [ 3, -2 -1 -2 ] ] \n"
     ]
    },
    {
     "name": "stderr",
     "output_type": "stream",
     "text": [
      "Trainer is attempting to log a value of \"[0.9835599460503773, 0.9276283433586804, 0.8879801832265167, 0.8562190480088405]\" of type <class 'list'> for key \"eval/precisions\" as a scalar. This invocation of Tensorboard's writer.add_scalar() is incorrect so we dropped this attribute.\n",
      "***** Running Evaluation *****\n",
      "  Num examples = 2000\n",
      "  Batch size = 128\n"
     ]
    },
    {
     "name": "stdout",
     "output_type": "stream",
     "text": [
      " [ [ 2 3, 3 ], [ 2, 4 -1 ] [ 4, 3 ] [ 1 -3, -4 ] [ 3, -2 -1 -2 ] ] \n",
      " [ [ 2 3, 3 ], [ 2, 4 -1 ] [ 4, 3 ] [ 1 -3, -4 ] [ 3, -2 -1 -2 ] ] \n"
     ]
    },
    {
     "name": "stderr",
     "output_type": "stream",
     "text": [
      "Trainer is attempting to log a value of \"[0.9826784574710548, 0.9268048065096035, 0.8867538597698889, 0.8554202067765381]\" of type <class 'list'> for key \"eval/precisions\" as a scalar. This invocation of Tensorboard's writer.add_scalar() is incorrect so we dropped this attribute.\n",
      "Saving model checkpoint to results/commutator-translation/4-free-group/bert-bert-long/checkpoint-76000\n",
      "Configuration saved in results/commutator-translation/4-free-group/bert-bert-long/checkpoint-76000/config.json\n",
      "Model weights saved in results/commutator-translation/4-free-group/bert-bert-long/checkpoint-76000/pytorch_model.bin\n",
      "/usr/local/lib/python3.8/dist-packages/transformers/models/encoder_decoder/modeling_encoder_decoder.py:533: FutureWarning: Version v4.12.0 introduces a better way to train encoder-decoder models by computing the loss inside the encoder-decoder framework rather than in the decoder itself. You may observe training discrepancies if fine-tuning a model trained with versions anterior to 4.12.0. The decoder_input_ids are now created based on the labels, no need to pass them yourself anymore.\n",
      "  warnings.warn(DEPRECATION_WARNING, FutureWarning)\n",
      "***** Running Evaluation *****\n",
      "  Num examples = 2000\n",
      "  Batch size = 128\n"
     ]
    },
    {
     "name": "stdout",
     "output_type": "stream",
     "text": [
      " [ [ 2 3, 3 ], [ 2, 4 -1 ] [ 4, 3 ] [ 1 -3, -4 ] [ 3, -2 -1 -2 ] ] \n",
      " [ [ 2 3, 3 ], [ 2, 4 -1 ] [ 4, 3 ] [ 1 -3, -4 ] [ 3, -2 -1 -2 ] ] \n"
     ]
    },
    {
     "name": "stderr",
     "output_type": "stream",
     "text": [
      "Trainer is attempting to log a value of \"[0.9863888175514547, 0.9310279163651598, 0.8913964445500258, 0.8604732654491487]\" of type <class 'list'> for key \"eval/precisions\" as a scalar. This invocation of Tensorboard's writer.add_scalar() is incorrect so we dropped this attribute.\n",
      "***** Running Evaluation *****\n",
      "  Num examples = 2000\n",
      "  Batch size = 128\n"
     ]
    },
    {
     "name": "stdout",
     "output_type": "stream",
     "text": [
      " [ [ 2 3, 3 ], [ 2, 4 -1 ] [ 4, 3 ] [ 1 -3, -4 ] [ 3, -2 -1 -2 ] ] \n",
      " [ [ 2 3, 3 ], [ 2, 4 -1 ] [ 4, 3 ] [ 1 -3, -4 ] [ 3, -2 -1 -2 ] ] \n"
     ]
    },
    {
     "name": "stderr",
     "output_type": "stream",
     "text": [
      "Trainer is attempting to log a value of \"[0.9843992336465651, 0.9315216362086923, 0.8929436079126071, 0.8625140866714476]\" of type <class 'list'> for key \"eval/precisions\" as a scalar. This invocation of Tensorboard's writer.add_scalar() is incorrect so we dropped this attribute.\n",
      "Saving model checkpoint to results/commutator-translation/4-free-group/bert-bert-long/checkpoint-77000\n",
      "Configuration saved in results/commutator-translation/4-free-group/bert-bert-long/checkpoint-77000/config.json\n",
      "Model weights saved in results/commutator-translation/4-free-group/bert-bert-long/checkpoint-77000/pytorch_model.bin\n",
      "/usr/local/lib/python3.8/dist-packages/transformers/models/encoder_decoder/modeling_encoder_decoder.py:533: FutureWarning: Version v4.12.0 introduces a better way to train encoder-decoder models by computing the loss inside the encoder-decoder framework rather than in the decoder itself. You may observe training discrepancies if fine-tuning a model trained with versions anterior to 4.12.0. The decoder_input_ids are now created based on the labels, no need to pass them yourself anymore.\n",
      "  warnings.warn(DEPRECATION_WARNING, FutureWarning)\n",
      "***** Running Evaluation *****\n",
      "  Num examples = 2000\n",
      "  Batch size = 128\n"
     ]
    },
    {
     "name": "stdout",
     "output_type": "stream",
     "text": [
      " [ [ 2 3, 3 ], [ 2, 4 -1 ] [ 4, 3 ] [ 1 -3, -4 ] [ 3, -2 -1 -2 ] ] \n",
      " [ [ 2 3, 3 ], [ 2, 4 -1 ] [ 4, 3 ] [ 1 -3, -4 ] [ 3, -2 -1 -2 ] ] \n"
     ]
    },
    {
     "name": "stderr",
     "output_type": "stream",
     "text": [
      "Trainer is attempting to log a value of \"[0.9832786287381473, 0.9293906131718395, 0.8897521636506688, 0.8587428337428338]\" of type <class 'list'> for key \"eval/precisions\" as a scalar. This invocation of Tensorboard's writer.add_scalar() is incorrect so we dropped this attribute.\n",
      "***** Running Evaluation *****\n",
      "  Num examples = 2000\n",
      "  Batch size = 128\n"
     ]
    },
    {
     "name": "stdout",
     "output_type": "stream",
     "text": [
      " [ [ 2 3, 3 ], [ 2, 4 -1 ] [ 4, 3 ] [ 1 -3, -4 ] [ 3, -2 -1 -2 ] ] \n",
      " [ [ 2 3, 3 ], [ 2, 4 -1 ] [ 4, 3 ] [ 1 -3, -4 ] [ 3, -2 -1 -2 ] ] \n"
     ]
    },
    {
     "name": "stderr",
     "output_type": "stream",
     "text": [
      "Trainer is attempting to log a value of \"[0.982123006833713, 0.9281702127659575, 0.8896117936117937, 0.8592736572890025]\" of type <class 'list'> for key \"eval/precisions\" as a scalar. This invocation of Tensorboard's writer.add_scalar() is incorrect so we dropped this attribute.\n",
      "Saving model checkpoint to results/commutator-translation/4-free-group/bert-bert-long/checkpoint-78000\n",
      "Configuration saved in results/commutator-translation/4-free-group/bert-bert-long/checkpoint-78000/config.json\n",
      "Model weights saved in results/commutator-translation/4-free-group/bert-bert-long/checkpoint-78000/pytorch_model.bin\n",
      "/usr/local/lib/python3.8/dist-packages/transformers/models/encoder_decoder/modeling_encoder_decoder.py:533: FutureWarning: Version v4.12.0 introduces a better way to train encoder-decoder models by computing the loss inside the encoder-decoder framework rather than in the decoder itself. You may observe training discrepancies if fine-tuning a model trained with versions anterior to 4.12.0. The decoder_input_ids are now created based on the labels, no need to pass them yourself anymore.\n",
      "  warnings.warn(DEPRECATION_WARNING, FutureWarning)\n",
      "***** Running Evaluation *****\n",
      "  Num examples = 2000\n",
      "  Batch size = 128\n"
     ]
    },
    {
     "name": "stdout",
     "output_type": "stream",
     "text": [
      " [ [ 2 3, 3 ], [ 2, 4 -1 ] [ 4, 3 ] [ 1 -3, -4 ] [ 3, -2 -1 -2 ] ] \n",
      " [ [ 2 3, 3 ], [ 2, 4 -1 ] [ 4, 3 ] [ 1 -3, -4 ] [ 3, -2 -1 -2 ] ] \n"
     ]
    },
    {
     "name": "stderr",
     "output_type": "stream",
     "text": [
      "Trainer is attempting to log a value of \"[0.9820072480923676, 0.9294853622120164, 0.8918897684193986, 0.8623418045020548]\" of type <class 'list'> for key \"eval/precisions\" as a scalar. This invocation of Tensorboard's writer.add_scalar() is incorrect so we dropped this attribute.\n",
      "***** Running Evaluation *****\n",
      "  Num examples = 2000\n",
      "  Batch size = 128\n"
     ]
    },
    {
     "name": "stdout",
     "output_type": "stream",
     "text": [
      " [ [ 2 3, 3 ], [ 2, 4 -1 ] [ 4, 3 ] [ 1 -3, -4 ] [ 3, -2 -1 -2 ] ] \n",
      " [ [ 2 3, 3 ], [ 2, 4 -1 ] [ 4, 3 ] [ 1 -3, -4 ] [ 3, -2 -1 -2 ] ] \n"
     ]
    },
    {
     "name": "stderr",
     "output_type": "stream",
     "text": [
      "Trainer is attempting to log a value of \"[0.9780000724874053, 0.925012222180437, 0.8879293501621663, 0.8588101337887846]\" of type <class 'list'> for key \"eval/precisions\" as a scalar. This invocation of Tensorboard's writer.add_scalar() is incorrect so we dropped this attribute.\n",
      "Saving model checkpoint to results/commutator-translation/4-free-group/bert-bert-long/checkpoint-79000\n",
      "Configuration saved in results/commutator-translation/4-free-group/bert-bert-long/checkpoint-79000/config.json\n",
      "Model weights saved in results/commutator-translation/4-free-group/bert-bert-long/checkpoint-79000/pytorch_model.bin\n",
      "/usr/local/lib/python3.8/dist-packages/transformers/models/encoder_decoder/modeling_encoder_decoder.py:533: FutureWarning: Version v4.12.0 introduces a better way to train encoder-decoder models by computing the loss inside the encoder-decoder framework rather than in the decoder itself. You may observe training discrepancies if fine-tuning a model trained with versions anterior to 4.12.0. The decoder_input_ids are now created based on the labels, no need to pass them yourself anymore.\n",
      "  warnings.warn(DEPRECATION_WARNING, FutureWarning)\n",
      "***** Running Evaluation *****\n",
      "  Num examples = 2000\n",
      "  Batch size = 128\n"
     ]
    },
    {
     "name": "stdout",
     "output_type": "stream",
     "text": [
      " [ [ 2 3, 3 ], [ 2, 4 -1 ] [ 4, 3 ] [ 1 -3, -4 ] [ 3, -2 -1 -2 ] ] \n",
      " [ [ 2 3, 3 ], [ 2, 4 -1 ] [ 4, 3 ] [ 1 -3, -4 ] [ 3, -2 -1 -2 ] ] \n"
     ]
    },
    {
     "name": "stderr",
     "output_type": "stream",
     "text": [
      "Trainer is attempting to log a value of \"[0.9855183763027976, 0.9319415448851774, 0.8933320181495364, 0.8633394947627849]\" of type <class 'list'> for key \"eval/precisions\" as a scalar. This invocation of Tensorboard's writer.add_scalar() is incorrect so we dropped this attribute.\n",
      "***** Running Evaluation *****\n",
      "  Num examples = 2000\n",
      "  Batch size = 128\n"
     ]
    },
    {
     "name": "stdout",
     "output_type": "stream",
     "text": [
      " [ [ 2 3, 3 ], [ 2, 4 -1 ] [ 4, 3 ] [ 1 -3, -4 ] [ 3, -2 -1 -2 ] ] \n",
      " [ [ 2 3, 3 ], [ 2, 4 -1 ] [ 4, 3 ] [ 1 -3, -4 ] [ 3, -2 -1 -2 ] ] \n"
     ]
    },
    {
     "name": "stderr",
     "output_type": "stream",
     "text": [
      "Trainer is attempting to log a value of \"[0.9829472916286704, 0.9298504637516563, 0.89165846940783, 0.8619291419209503]\" of type <class 'list'> for key \"eval/precisions\" as a scalar. This invocation of Tensorboard's writer.add_scalar() is incorrect so we dropped this attribute.\n",
      "Saving model checkpoint to results/commutator-translation/4-free-group/bert-bert-long/checkpoint-80000\n",
      "Configuration saved in results/commutator-translation/4-free-group/bert-bert-long/checkpoint-80000/config.json\n",
      "Model weights saved in results/commutator-translation/4-free-group/bert-bert-long/checkpoint-80000/pytorch_model.bin\n",
      "/usr/local/lib/python3.8/dist-packages/transformers/models/encoder_decoder/modeling_encoder_decoder.py:533: FutureWarning: Version v4.12.0 introduces a better way to train encoder-decoder models by computing the loss inside the encoder-decoder framework rather than in the decoder itself. You may observe training discrepancies if fine-tuning a model trained with versions anterior to 4.12.0. The decoder_input_ids are now created based on the labels, no need to pass them yourself anymore.\n",
      "  warnings.warn(DEPRECATION_WARNING, FutureWarning)\n",
      "***** Running Evaluation *****\n",
      "  Num examples = 2000\n",
      "  Batch size = 128\n"
     ]
    },
    {
     "name": "stdout",
     "output_type": "stream",
     "text": [
      " [ [ 2 3, 3 ], [ 2, 4 -1 ] [ 4, 3 ] [ 1 -3, -4 ] [ 3, -2 -1 -2 ] ] \n",
      " [ [ 2 3, 3 ], [ 2, 4 -1 ] [ 4, 3 ] [ 1 -3, -4 ] [ 3, -2 -1 -2 ] ] \n"
     ]
    },
    {
     "name": "stderr",
     "output_type": "stream",
     "text": [
      "Trainer is attempting to log a value of \"[0.9850103156780048, 0.9316291144757537, 0.8942506549014201, 0.864386623198212]\" of type <class 'list'> for key \"eval/precisions\" as a scalar. This invocation of Tensorboard's writer.add_scalar() is incorrect so we dropped this attribute.\n"
     ]
    },
    {
     "ename": "KeyboardInterrupt",
     "evalue": "",
     "output_type": "error",
     "traceback": [
      "\u001b[0;31m---------------------------------------------------------------------------\u001b[0m",
      "\u001b[0;31mKeyboardInterrupt\u001b[0m                         Traceback (most recent call last)",
      "Cell \u001b[0;32mIn [9], line 35\u001b[0m\n\u001b[1;32m      5\u001b[0m args \u001b[39m=\u001b[39m Seq2SeqTrainingArguments(\n\u001b[1;32m      6\u001b[0m     output_dir                  \u001b[39m=\u001b[39m \u001b[39mstr\u001b[39m(path\u001b[39m/\u001b[39mprefix),\n\u001b[1;32m      7\u001b[0m     overwrite_output_dir        \u001b[39m=\u001b[39m \u001b[39mTrue\u001b[39;00m,\n\u001b[0;32m   (...)\u001b[0m\n\u001b[1;32m     23\u001b[0m     generation_max_length       \u001b[39m=\u001b[39m \u001b[39m128\u001b[39m,\n\u001b[1;32m     24\u001b[0m )\n\u001b[1;32m     26\u001b[0m trainer \u001b[39m=\u001b[39m Seq2SeqTrainer(\n\u001b[1;32m     27\u001b[0m     model           \u001b[39m=\u001b[39m model,\n\u001b[1;32m     28\u001b[0m     args            \u001b[39m=\u001b[39m args,\n\u001b[0;32m   (...)\u001b[0m\n\u001b[1;32m     32\u001b[0m     compute_metrics \u001b[39m=\u001b[39m compute_metrics,\n\u001b[1;32m     33\u001b[0m )\n\u001b[0;32m---> 35\u001b[0m trainer\u001b[39m.\u001b[39;49mtrain(\u001b[39m'\u001b[39;49m\u001b[39m/home/kibrq/sampling-from-normal-closure/results/commutator-translation/4-free-group/bert-bert-long/checkpoint-60000\u001b[39;49m\u001b[39m'\u001b[39;49m)\n",
      "File \u001b[0;32m/usr/local/lib/python3.8/dist-packages/transformers/trainer.py:1498\u001b[0m, in \u001b[0;36mTrainer.train\u001b[0;34m(self, resume_from_checkpoint, trial, ignore_keys_for_eval, **kwargs)\u001b[0m\n\u001b[1;32m   1493\u001b[0m     \u001b[39mself\u001b[39m\u001b[39m.\u001b[39mmodel_wrapped \u001b[39m=\u001b[39m \u001b[39mself\u001b[39m\u001b[39m.\u001b[39mmodel\n\u001b[1;32m   1495\u001b[0m inner_training_loop \u001b[39m=\u001b[39m find_executable_batch_size(\n\u001b[1;32m   1496\u001b[0m     \u001b[39mself\u001b[39m\u001b[39m.\u001b[39m_inner_training_loop, \u001b[39mself\u001b[39m\u001b[39m.\u001b[39m_train_batch_size, args\u001b[39m.\u001b[39mauto_find_batch_size\n\u001b[1;32m   1497\u001b[0m )\n\u001b[0;32m-> 1498\u001b[0m \u001b[39mreturn\u001b[39;00m inner_training_loop(\n\u001b[1;32m   1499\u001b[0m     args\u001b[39m=\u001b[39;49margs,\n\u001b[1;32m   1500\u001b[0m     resume_from_checkpoint\u001b[39m=\u001b[39;49mresume_from_checkpoint,\n\u001b[1;32m   1501\u001b[0m     trial\u001b[39m=\u001b[39;49mtrial,\n\u001b[1;32m   1502\u001b[0m     ignore_keys_for_eval\u001b[39m=\u001b[39;49mignore_keys_for_eval,\n\u001b[1;32m   1503\u001b[0m )\n",
      "File \u001b[0;32m/usr/local/lib/python3.8/dist-packages/transformers/trainer.py:1740\u001b[0m, in \u001b[0;36mTrainer._inner_training_loop\u001b[0;34m(self, batch_size, args, resume_from_checkpoint, trial, ignore_keys_for_eval)\u001b[0m\n\u001b[1;32m   1738\u001b[0m         tr_loss_step \u001b[39m=\u001b[39m \u001b[39mself\u001b[39m\u001b[39m.\u001b[39mtraining_step(model, inputs)\n\u001b[1;32m   1739\u001b[0m \u001b[39melse\u001b[39;00m:\n\u001b[0;32m-> 1740\u001b[0m     tr_loss_step \u001b[39m=\u001b[39m \u001b[39mself\u001b[39;49m\u001b[39m.\u001b[39;49mtraining_step(model, inputs)\n\u001b[1;32m   1742\u001b[0m \u001b[39mif\u001b[39;00m (\n\u001b[1;32m   1743\u001b[0m     args\u001b[39m.\u001b[39mlogging_nan_inf_filter\n\u001b[1;32m   1744\u001b[0m     \u001b[39mand\u001b[39;00m \u001b[39mnot\u001b[39;00m is_torch_tpu_available()\n\u001b[1;32m   1745\u001b[0m     \u001b[39mand\u001b[39;00m (torch\u001b[39m.\u001b[39misnan(tr_loss_step) \u001b[39mor\u001b[39;00m torch\u001b[39m.\u001b[39misinf(tr_loss_step))\n\u001b[1;32m   1746\u001b[0m ):\n\u001b[1;32m   1747\u001b[0m     \u001b[39m# if loss is nan or inf simply add the average of previous logged losses\u001b[39;00m\n\u001b[1;32m   1748\u001b[0m     tr_loss \u001b[39m+\u001b[39m\u001b[39m=\u001b[39m tr_loss \u001b[39m/\u001b[39m (\u001b[39m1\u001b[39m \u001b[39m+\u001b[39m \u001b[39mself\u001b[39m\u001b[39m.\u001b[39mstate\u001b[39m.\u001b[39mglobal_step \u001b[39m-\u001b[39m \u001b[39mself\u001b[39m\u001b[39m.\u001b[39m_globalstep_last_logged)\n",
      "File \u001b[0;32m/usr/local/lib/python3.8/dist-packages/transformers/trainer.py:2488\u001b[0m, in \u001b[0;36mTrainer.training_step\u001b[0;34m(self, model, inputs)\u001b[0m\n\u001b[1;32m   2486\u001b[0m     loss \u001b[39m=\u001b[39m \u001b[39mself\u001b[39m\u001b[39m.\u001b[39mdeepspeed\u001b[39m.\u001b[39mbackward(loss)\n\u001b[1;32m   2487\u001b[0m \u001b[39melse\u001b[39;00m:\n\u001b[0;32m-> 2488\u001b[0m     loss\u001b[39m.\u001b[39;49mbackward()\n\u001b[1;32m   2490\u001b[0m \u001b[39mreturn\u001b[39;00m loss\u001b[39m.\u001b[39mdetach()\n",
      "File \u001b[0;32m/usr/local/lib/python3.8/dist-packages/torch/_tensor.py:363\u001b[0m, in \u001b[0;36mTensor.backward\u001b[0;34m(self, gradient, retain_graph, create_graph, inputs)\u001b[0m\n\u001b[1;32m    354\u001b[0m \u001b[39mif\u001b[39;00m has_torch_function_unary(\u001b[39mself\u001b[39m):\n\u001b[1;32m    355\u001b[0m     \u001b[39mreturn\u001b[39;00m handle_torch_function(\n\u001b[1;32m    356\u001b[0m         Tensor\u001b[39m.\u001b[39mbackward,\n\u001b[1;32m    357\u001b[0m         (\u001b[39mself\u001b[39m,),\n\u001b[0;32m   (...)\u001b[0m\n\u001b[1;32m    361\u001b[0m         create_graph\u001b[39m=\u001b[39mcreate_graph,\n\u001b[1;32m    362\u001b[0m         inputs\u001b[39m=\u001b[39minputs)\n\u001b[0;32m--> 363\u001b[0m torch\u001b[39m.\u001b[39;49mautograd\u001b[39m.\u001b[39;49mbackward(\u001b[39mself\u001b[39;49m, gradient, retain_graph, create_graph, inputs\u001b[39m=\u001b[39;49minputs)\n",
      "File \u001b[0;32m/usr/local/lib/python3.8/dist-packages/torch/autograd/__init__.py:173\u001b[0m, in \u001b[0;36mbackward\u001b[0;34m(tensors, grad_tensors, retain_graph, create_graph, grad_variables, inputs)\u001b[0m\n\u001b[1;32m    168\u001b[0m     retain_graph \u001b[39m=\u001b[39m create_graph\n\u001b[1;32m    170\u001b[0m \u001b[39m# The reason we repeat same the comment below is that\u001b[39;00m\n\u001b[1;32m    171\u001b[0m \u001b[39m# some Python versions print out the first line of a multi-line function\u001b[39;00m\n\u001b[1;32m    172\u001b[0m \u001b[39m# calls in the traceback and some print out the last line\u001b[39;00m\n\u001b[0;32m--> 173\u001b[0m Variable\u001b[39m.\u001b[39;49m_execution_engine\u001b[39m.\u001b[39;49mrun_backward(  \u001b[39m# Calls into the C++ engine to run the backward pass\u001b[39;49;00m\n\u001b[1;32m    174\u001b[0m     tensors, grad_tensors_, retain_graph, create_graph, inputs,\n\u001b[1;32m    175\u001b[0m     allow_unreachable\u001b[39m=\u001b[39;49m\u001b[39mTrue\u001b[39;49;00m, accumulate_grad\u001b[39m=\u001b[39;49m\u001b[39mTrue\u001b[39;49;00m)\n",
      "\u001b[0;31mKeyboardInterrupt\u001b[0m: "
     ]
    }
   ],
   "source": [
    "from transformers import Seq2SeqTrainingArguments, Seq2SeqTrainer, DefaultDataCollator\n",
    "\n",
    "prefix = 'bert-bert-long'\n",
    "\n",
    "args = Seq2SeqTrainingArguments(\n",
    "    output_dir                  = str(path/prefix),\n",
    "    overwrite_output_dir        = True,\n",
    "\n",
    "    predict_with_generate       = True,\n",
    "    evaluation_strategy         = 'steps',\n",
    "    eval_steps                  = 500,\n",
    "\n",
    "    per_device_train_batch_size = 128,\n",
    "    per_device_eval_batch_size  = 128,\n",
    "    \n",
    "    logging_steps               = 1000,\n",
    "    save_steps                  = 1000,\n",
    "    \n",
    "    num_train_epochs            = 200,\n",
    "\n",
    "    learning_rate               = 8e-5,\n",
    "\n",
    "    generation_max_length       = 128,\n",
    ")\n",
    "\n",
    "trainer = Seq2SeqTrainer(\n",
    "    model           = model,\n",
    "    args            = args,\n",
    "    train_dataset   = train_dataset,\n",
    "    eval_dataset    = eval_dataset,\n",
    "    data_collator   = data_collator,\n",
    "    compute_metrics = compute_metrics,\n",
    ")\n",
    "\n",
    "trainer.train('/home/kibrq/sampling-from-normal-closure/results/commutator-translation/4-free-group/bert-bert-long/checkpoint-60000')"
   ]
  },
  {
   "attachments": {},
   "cell_type": "markdown",
   "metadata": {},
   "source": [
    "# INFERENCE"
   ]
  },
  {
   "cell_type": "code",
   "execution_count": 5,
   "metadata": {},
   "outputs": [],
   "source": [
    "from random import randint\n",
    "from transformers import EncoderDecoderModel, PreTrainedTokenizerFast\n",
    "\n",
    "tokenizer = PreTrainedTokenizerFast(tokenizer_file = '/home/kibrq/sampling-from-normal-closure/results/commutator-translation/4-free-group/tokenizer.json')\n",
    "model = EncoderDecoderModel.from_pretrained('/home/kibrq/sampling-from-normal-closure/results/commutator-translation/4-free-group/bert-bert-long/checkpoint-60000').to('cuda')"
   ]
  },
  {
   "cell_type": "code",
   "execution_count": 6,
   "metadata": {},
   "outputs": [],
   "source": [
    "from pickle import load\n",
    "with open('words.pkl', 'rb') as f: words = load(f)"
   ]
  },
  {
   "cell_type": "code",
   "execution_count": 7,
   "metadata": {},
   "outputs": [],
   "source": [
    "from torch import tensor\n",
    "from freegroup import tools, sampling as smp\n",
    "from itertools import repeat\n",
    "from re import finditer\n",
    "from itertools import islice\n",
    "\n",
    "\n",
    "def sampler(word, **generation_kwargs):\n",
    "    def sample():\n",
    "        input_ids = tokenizer(\n",
    "            to_tokenizer(word),\n",
    "        ).input_ids\n",
    "        input_ids = tensor(input_ids, dtype=int, device = model.device)\n",
    "        outputs = model.generate(input_ids.unsqueeze(0), **generation_kwargs)\n",
    "        return tokenizer.batch_decode(outputs)\n",
    "\n",
    "    return sample\n",
    "\n",
    "\n",
    "from re import finditer\n",
    "\n",
    "def trim_eos_tokens(string):\n",
    "    positions = finditer(eos_token, string)\n",
    "    begin = next(positions).end()\n",
    "    \n",
    "    try:                    end = next(positions).start()\n",
    "    except StopIteration:   end = len(string)\n",
    "\n",
    "    return string[begin:end]\n",
    "\n",
    "\n",
    "def translation(\n",
    "    word,\n",
    "    num_tries = None,\n",
    "    **generation_kwargs,\n",
    "):\n",
    "    g = smp.iterable_from_batches(sampler(\n",
    "        word, **generation_kwargs \n",
    "    ), num_tries)\n",
    "    g = map(trim_eos_tokens, g)\n",
    "    g = map(lambda x: try_or(from_tokenizer, [], x), g)\n",
    "    \n",
    "    return filter(lambda x: normalize(to_freegroup(x)) == word, g)\n"
   ]
  },
  {
   "cell_type": "code",
   "execution_count": 8,
   "metadata": {},
   "outputs": [
    {
     "name": "stdout",
     "output_type": "stream",
     "text": [
      "[[[Zyz, p], [Z, YXP]], X]\n",
      "[[[zPZ, Y], [x, yzp]], Z]\n",
      "[1, 2, 3, -2, -1, -4, -3, -4, -3, -2, 3, 4, 4, -3, 2, 3, -4, 3, 4, 1, 2, -3, -2, -1, -3, -2, 3, -4, -4, -3, 2, 3, 4, 1, -4, -3, -2, 3, 4, 4, -3, 2, 3, 1, 2, 3, -2, -1, -4, -3, 4, -3, -2, 3, -4, -4, -3, 2, 3, 4, 3, 4, 1, 2, -3, -2, -1, -4, -1, 4]\n",
      "[[[zPZ, Y], [x, yzp]], XZx]\n",
      "[[Zyz, [P, zpxyZYX]], pYxyP]\n",
      "[[[y, z], [x, yzp]], P]\n",
      "[[[y, z], [P, ZYX]], pXP]\n",
      "[[[xyZYX, Y], [x, yzp]], Xpx]\n",
      "[1, -4, -1, -4, -3, -2, 3, 4, 1, 2, -1, -2, -1, -4, -3, 2, 3, 4, 1, 1, 4, -1, -1, -4, -3, -2, 3, 4, 1, 2, 1, -2, -1, -4, -3, 2, 3, 4, 1, 3, 3, -1, -4, -3, -2, 3, 4, 1, 2, -1, -2, -1, -4, -3, 2, 3, 4, 1, 1, -4, -1, -1, -4, -3, -2, 3, 4, 1, 2, 1, -2, -1, -4, -3, 2, 3, 4, 1, 4, -3, -3, -1]\n",
      "[[[PYp, x], [P, ZYX]], Z[y, z]]\n",
      "[[[xYX, PP], [x, yzp]], z]\n",
      "[-4, -3, -2, -1, 2, 3, 4, 1, 1, 2, -1, -1, -4, -3, -2, 1, 2, 3, 4, 1, -2, -1, 4, 1, 2, -1, -4, -3, -2, -1, 2, 3, 4, 1, 1, -2, -1, -1, -4, -3, -2, 1, 2, 3, -4, -3, 4, -3, -2, -1, 2, 3, 4, 1, 1, 2, -1, -1, -4, -3, -2, 1, 2, 3, 4, 1, -2, -1, -4, 1, 2, -1, -4, -3, -2, -1, 2, 3, 4, 1, 1, -2, -1, -1, -4, -3, -2, 1, 2, 3, 3, 4]\n",
      "[[[P, ZxyZYX], [x, yzp]], y]\n",
      "[[y, [Z, [P, ZYX]]], Yxy]\n"
     ]
    },
    {
     "ename": "KeyboardInterrupt",
     "evalue": "",
     "output_type": "error",
     "traceback": [
      "\u001b[0;31m---------------------------------------------------------------------------\u001b[0m",
      "\u001b[0;31mKeyboardInterrupt\u001b[0m                         Traceback (most recent call last)",
      "Cell \u001b[0;32mIn [8], line 12\u001b[0m\n\u001b[1;32m     10\u001b[0m \u001b[39mfor\u001b[39;00m w \u001b[39min\u001b[39;00m words:\n\u001b[1;32m     11\u001b[0m     \u001b[39mtry\u001b[39;00m: \n\u001b[0;32m---> 12\u001b[0m         c \u001b[39m=\u001b[39m \u001b[39mnext\u001b[39;49m(translation(w, num_tries \u001b[39m=\u001b[39;49m \u001b[39m1\u001b[39;49m, \u001b[39m*\u001b[39;49m\u001b[39m*\u001b[39;49mgeneration_config))\n\u001b[1;32m     13\u001b[0m         \u001b[39mprint\u001b[39m(to_lu(c))\n\u001b[1;32m     14\u001b[0m     \u001b[39mexcept\u001b[39;00m \u001b[39mStopIteration\u001b[39;00m:\n",
      "File \u001b[0;32m/usr/local/lib/python3.8/dist-packages/freegroup/sampling/utils.py:23\u001b[0m, in \u001b[0;36miterable_from_batches\u001b[0;34m(batch_sampler, num_tries)\u001b[0m\n\u001b[1;32m     21\u001b[0m \u001b[39mdef\u001b[39;00m \u001b[39miterable_from_batches\u001b[39m(batch_sampler: Callable[[], List[Word]], num_tries: \u001b[39mint\u001b[39m \u001b[39m=\u001b[39m \u001b[39mNone\u001b[39;00m) \u001b[39m-\u001b[39m\u001b[39m>\u001b[39m Iterable[Word]:\n\u001b[1;32m     22\u001b[0m     \u001b[39mfor\u001b[39;00m _ \u001b[39min\u001b[39;00m repeat(\u001b[39mNone\u001b[39;00m) \u001b[39mif\u001b[39;00m num_tries \u001b[39mis\u001b[39;00m \u001b[39mNone\u001b[39;00m \u001b[39melse\u001b[39;00m repeat(\u001b[39mNone\u001b[39;00m, num_tries):\n\u001b[0;32m---> 23\u001b[0m         \u001b[39mfor\u001b[39;00m word \u001b[39min\u001b[39;00m batch_sampler():\n\u001b[1;32m     24\u001b[0m             \u001b[39myield\u001b[39;00m word\n",
      "Cell \u001b[0;32mIn [7], line 14\u001b[0m, in \u001b[0;36msampler.<locals>.sample\u001b[0;34m()\u001b[0m\n\u001b[1;32m     10\u001b[0m input_ids \u001b[39m=\u001b[39m tokenizer(\n\u001b[1;32m     11\u001b[0m     to_tokenizer(word),\n\u001b[1;32m     12\u001b[0m )\u001b[39m.\u001b[39minput_ids\n\u001b[1;32m     13\u001b[0m input_ids \u001b[39m=\u001b[39m tensor(input_ids, dtype\u001b[39m=\u001b[39m\u001b[39mint\u001b[39m, device \u001b[39m=\u001b[39m model\u001b[39m.\u001b[39mdevice)\n\u001b[0;32m---> 14\u001b[0m outputs \u001b[39m=\u001b[39m model\u001b[39m.\u001b[39;49mgenerate(input_ids\u001b[39m.\u001b[39;49munsqueeze(\u001b[39m0\u001b[39;49m), \u001b[39m*\u001b[39;49m\u001b[39m*\u001b[39;49mgeneration_kwargs)\n\u001b[1;32m     15\u001b[0m \u001b[39mreturn\u001b[39;00m tokenizer\u001b[39m.\u001b[39mbatch_decode(outputs)\n",
      "File \u001b[0;32m/usr/local/lib/python3.8/dist-packages/torch/autograd/grad_mode.py:27\u001b[0m, in \u001b[0;36m_DecoratorContextManager.__call__.<locals>.decorate_context\u001b[0;34m(*args, **kwargs)\u001b[0m\n\u001b[1;32m     24\u001b[0m \u001b[39m@functools\u001b[39m\u001b[39m.\u001b[39mwraps(func)\n\u001b[1;32m     25\u001b[0m \u001b[39mdef\u001b[39;00m \u001b[39mdecorate_context\u001b[39m(\u001b[39m*\u001b[39margs, \u001b[39m*\u001b[39m\u001b[39m*\u001b[39mkwargs):\n\u001b[1;32m     26\u001b[0m     \u001b[39mwith\u001b[39;00m \u001b[39mself\u001b[39m\u001b[39m.\u001b[39mclone():\n\u001b[0;32m---> 27\u001b[0m         \u001b[39mreturn\u001b[39;00m func(\u001b[39m*\u001b[39;49margs, \u001b[39m*\u001b[39;49m\u001b[39m*\u001b[39;49mkwargs)\n",
      "File \u001b[0;32m/usr/local/lib/python3.8/dist-packages/transformers/generation_utils.py:1360\u001b[0m, in \u001b[0;36mGenerationMixin.generate\u001b[0;34m(self, inputs, max_length, min_length, do_sample, early_stopping, num_beams, temperature, top_k, top_p, typical_p, repetition_penalty, bad_words_ids, force_words_ids, bos_token_id, pad_token_id, eos_token_id, length_penalty, no_repeat_ngram_size, encoder_no_repeat_ngram_size, num_return_sequences, max_time, max_new_tokens, decoder_start_token_id, use_cache, num_beam_groups, diversity_penalty, prefix_allowed_tokens_fn, logits_processor, renormalize_logits, stopping_criteria, constraints, output_attentions, output_hidden_states, output_scores, return_dict_in_generate, forced_bos_token_id, forced_eos_token_id, remove_invalid_values, synced_gpus, exponential_decay_length_penalty, **model_kwargs)\u001b[0m\n\u001b[1;32m   1356\u001b[0m     input_ids, model_kwargs \u001b[39m=\u001b[39m \u001b[39mself\u001b[39m\u001b[39m.\u001b[39m_expand_inputs_for_generation(\n\u001b[1;32m   1357\u001b[0m         input_ids, expand_size\u001b[39m=\u001b[39mnum_beams, is_encoder_decoder\u001b[39m=\u001b[39m\u001b[39mself\u001b[39m\u001b[39m.\u001b[39mconfig\u001b[39m.\u001b[39mis_encoder_decoder, \u001b[39m*\u001b[39m\u001b[39m*\u001b[39mmodel_kwargs\n\u001b[1;32m   1358\u001b[0m     )\n\u001b[1;32m   1359\u001b[0m     \u001b[39m# 12. run beam search\u001b[39;00m\n\u001b[0;32m-> 1360\u001b[0m     \u001b[39mreturn\u001b[39;00m \u001b[39mself\u001b[39;49m\u001b[39m.\u001b[39;49mbeam_search(\n\u001b[1;32m   1361\u001b[0m         input_ids,\n\u001b[1;32m   1362\u001b[0m         beam_scorer,\n\u001b[1;32m   1363\u001b[0m         logits_processor\u001b[39m=\u001b[39;49mlogits_processor,\n\u001b[1;32m   1364\u001b[0m         stopping_criteria\u001b[39m=\u001b[39;49mstopping_criteria,\n\u001b[1;32m   1365\u001b[0m         pad_token_id\u001b[39m=\u001b[39;49mpad_token_id,\n\u001b[1;32m   1366\u001b[0m         eos_token_id\u001b[39m=\u001b[39;49meos_token_id,\n\u001b[1;32m   1367\u001b[0m         output_scores\u001b[39m=\u001b[39;49moutput_scores,\n\u001b[1;32m   1368\u001b[0m         return_dict_in_generate\u001b[39m=\u001b[39;49mreturn_dict_in_generate,\n\u001b[1;32m   1369\u001b[0m         synced_gpus\u001b[39m=\u001b[39;49msynced_gpus,\n\u001b[1;32m   1370\u001b[0m         \u001b[39m*\u001b[39;49m\u001b[39m*\u001b[39;49mmodel_kwargs,\n\u001b[1;32m   1371\u001b[0m     )\n\u001b[1;32m   1373\u001b[0m \u001b[39melif\u001b[39;00m is_beam_sample_gen_mode:\n\u001b[1;32m   1374\u001b[0m     \u001b[39m# 10. prepare logits warper\u001b[39;00m\n\u001b[1;32m   1375\u001b[0m     logits_warper \u001b[39m=\u001b[39m \u001b[39mself\u001b[39m\u001b[39m.\u001b[39m_get_logits_warper(\n\u001b[1;32m   1376\u001b[0m         top_k\u001b[39m=\u001b[39mtop_k,\n\u001b[1;32m   1377\u001b[0m         top_p\u001b[39m=\u001b[39mtop_p,\n\u001b[0;32m   (...)\u001b[0m\n\u001b[1;32m   1381\u001b[0m         renormalize_logits\u001b[39m=\u001b[39mrenormalize_logits,\n\u001b[1;32m   1382\u001b[0m     )\n",
      "File \u001b[0;32m/usr/local/lib/python3.8/dist-packages/transformers/generation_utils.py:2263\u001b[0m, in \u001b[0;36mGenerationMixin.beam_search\u001b[0;34m(self, input_ids, beam_scorer, logits_processor, stopping_criteria, max_length, pad_token_id, eos_token_id, output_attentions, output_hidden_states, output_scores, return_dict_in_generate, synced_gpus, **model_kwargs)\u001b[0m\n\u001b[1;32m   2260\u001b[0m next_tokens \u001b[39m=\u001b[39m next_tokens \u001b[39m%\u001b[39m vocab_size\n\u001b[1;32m   2262\u001b[0m \u001b[39m# stateless\u001b[39;00m\n\u001b[0;32m-> 2263\u001b[0m beam_outputs \u001b[39m=\u001b[39m beam_scorer\u001b[39m.\u001b[39;49mprocess(\n\u001b[1;32m   2264\u001b[0m     input_ids,\n\u001b[1;32m   2265\u001b[0m     next_token_scores,\n\u001b[1;32m   2266\u001b[0m     next_tokens,\n\u001b[1;32m   2267\u001b[0m     next_indices,\n\u001b[1;32m   2268\u001b[0m     pad_token_id\u001b[39m=\u001b[39;49mpad_token_id,\n\u001b[1;32m   2269\u001b[0m     eos_token_id\u001b[39m=\u001b[39;49meos_token_id,\n\u001b[1;32m   2270\u001b[0m     beam_indices\u001b[39m=\u001b[39;49mbeam_indices,\n\u001b[1;32m   2271\u001b[0m )\n\u001b[1;32m   2273\u001b[0m beam_scores \u001b[39m=\u001b[39m beam_outputs[\u001b[39m\"\u001b[39m\u001b[39mnext_beam_scores\u001b[39m\u001b[39m\"\u001b[39m]\n\u001b[1;32m   2274\u001b[0m beam_next_tokens \u001b[39m=\u001b[39m beam_outputs[\u001b[39m\"\u001b[39m\u001b[39mnext_beam_tokens\u001b[39m\u001b[39m\"\u001b[39m]\n",
      "File \u001b[0;32m/usr/local/lib/python3.8/dist-packages/transformers/generation_beam_search.py:253\u001b[0m, in \u001b[0;36mBeamSearchScorer.process\u001b[0;34m(self, input_ids, next_scores, next_tokens, next_indices, pad_token_id, eos_token_id, beam_indices)\u001b[0m\n\u001b[1;32m    249\u001b[0m beam_idx \u001b[39m=\u001b[39m \u001b[39m0\u001b[39m\n\u001b[1;32m    250\u001b[0m \u001b[39mfor\u001b[39;00m beam_token_rank, (next_token, next_score, next_index) \u001b[39min\u001b[39;00m \u001b[39menumerate\u001b[39m(\n\u001b[1;32m    251\u001b[0m     \u001b[39mzip\u001b[39m(next_tokens[batch_idx], next_scores[batch_idx], next_indices[batch_idx])\n\u001b[1;32m    252\u001b[0m ):\n\u001b[0;32m--> 253\u001b[0m     batch_beam_idx \u001b[39m=\u001b[39m batch_idx \u001b[39m*\u001b[39;49m \u001b[39mself\u001b[39;49m\u001b[39m.\u001b[39;49mgroup_size \u001b[39m+\u001b[39;49m next_index\n\u001b[1;32m    254\u001b[0m     \u001b[39m# add to generated hypotheses if end of sentence\u001b[39;00m\n\u001b[1;32m    255\u001b[0m     \u001b[39mif\u001b[39;00m (eos_token_id \u001b[39mis\u001b[39;00m \u001b[39mnot\u001b[39;00m \u001b[39mNone\u001b[39;00m) \u001b[39mand\u001b[39;00m (next_token\u001b[39m.\u001b[39mitem() \u001b[39m==\u001b[39m eos_token_id):\n\u001b[1;32m    256\u001b[0m         \u001b[39m# if beam_token does not belong to top num_beams tokens, it should not be added\u001b[39;00m\n",
      "\u001b[0;31mKeyboardInterrupt\u001b[0m: "
     ]
    }
   ],
   "source": [
    "generation_config = dict(\n",
    "    max_length = 40,\n",
    "    num_beams = 100,\n",
    "    num_return_sequences = 50,\n",
    ")\n",
    "\n",
    "\n",
    "failed = []\n",
    "\n",
    "for w in words:\n",
    "    try: \n",
    "        c = next(translation(w, num_tries = 1, **generation_config))\n",
    "        print(to_lu(c))\n",
    "    except StopIteration:\n",
    "        print(w)\n",
    "        failed.append(w)\n"
   ]
  },
  {
   "cell_type": "code",
   "execution_count": 10,
   "metadata": {},
   "outputs": [],
   "source": [
    "word = from_lu('ZYXyzxYXyZYxyzXYxyPZYXyzpxYXyPZYxyzpZYXyzYxyXZYxyzYXyxPZYXyzpYxyXPZYxyzp')"
   ]
  },
  {
   "cell_type": "code",
   "execution_count": 75,
   "metadata": {},
   "outputs": [
    {
     "data": {
      "text/plain": [
       "('PXYxZYXPXpyzpZYzpZYXPxyXpxzXPxyXpxPYZypXPxYXzpZPxYXpxyzPZyzpZYXzPZxyXpxPYzypXPxYXpxZyzPPZYPxpxyzXyxp',\n",
       " 100)"
      ]
     },
     "execution_count": 75,
     "metadata": {},
     "output_type": "execute_result"
    },
    {
     "name": "stderr",
     "output_type": "stream",
     "text": [
      "wandb: Network error (ReadTimeout), entering retry loop.\n"
     ]
    }
   ],
   "source": [
    "word = failed[0]\n",
    "to_lu(word), len(word)"
   ]
  },
  {
   "attachments": {},
   "cell_type": "markdown",
   "metadata": {},
   "source": [
    "PXYxZYXPXpyzpZYzpZYXPxyXpxzXPxyXpxPYZypXPxYXzpZPxYXpxyzPZyzpZYXzPZxyXpxPYzypXPxYXpxZyzPPZYPxpxyzXyxp\n",
    "\n"
   ]
  },
  {
   "cell_type": "code",
   "execution_count": 66,
   "metadata": {},
   "outputs": [],
   "source": [
    "assert normalize(to_freegroup(from_lu('[[[xyZY, [Y, z]] [z, Y], [x, yzp]], Xpx]'))) == normalize(word)"
   ]
  },
  {
   "cell_type": "code",
   "execution_count": 12,
   "metadata": {},
   "outputs": [
    {
     "data": {
      "text/plain": [
       "['<s> [ [ [ 1, 2 ], [ 1, 2 3 ] ], [ [ 1, 2 ], [ 1, 2 3 4 ] ] ] <s> <s> <s> <s> <s> <s> <s>',\n",
       " '<s> [ [ [ 1, 2 ], [ 1, 2 3 ] ], [ [ 1, 2 ], [ 1, 2 3 4 ] ] ] <s> <s> <s> <s> <s> <s> [',\n",
       " '<s> [ [ [ 1, 2 ], [ 1, 2 3 ] ], [ [ 1, 2 ], [ 1, 2 3 4 ] ] ] <s> <s> <s> <s> <s> [ [',\n",
       " '<s> [ [ [ 1, 2 ], [ 1, 2 3 ] ], [ [ 1, 2 ], [ 1, 2 3 4 ] ] ] <s> <s> <s> <s> [ [ [',\n",
       " '<s> [ [ [ 2, 1 ], [ 1, 2 3 ] ], [ [ 1, 2 ], [ 1, 2 3 4 ] ] ] <s> <s> <s> <s> <s> <s> <s>',\n",
       " '<s> [ [ [ 1, 2 ], [ 1, 2 3 ] ], [ [ 2, 1 ], [ 1, 2 3 4 ] ] ] <s> <s> <s> <s> <s> <s> <s>',\n",
       " '<s> [ [ [ 1, 2 ] [ 1, 2 3 ], [ 2, 3 ] ], [ [ 1, 2 ], [ 1, 2 3 4 ] ] ] <s> <s>',\n",
       " '<s> [ [ [ 1, 2 ], [ 1, 2 3 ] ], [ [ 1, 2 3 4 ], [ 1, 2 3 4 ] ] ] <s> <s> <s> <s> <s>',\n",
       " '<s> [ [ [ 1, 2 ], [ 1, 2 3 ] ], [ [ 1, 2 ] [ 1, 2 3 4 ], [ 3, 4 ] ] ] <s> <s>',\n",
       " '<s> [ [ [ 1, 2 ], [ 1, 2 3 ] ], [ [ 1, 2 ], [ 1, 2 3 4 ] ] ] <s> <s> <s> [ [ [ [',\n",
       " '<s> [ [ [ 2, 1 ], [ 1, 2 3 ] ], [ [ 1, 2 ], [ 1, 2 3 4 ] ] ] <s> <s> <s> <s> <s> <s> [',\n",
       " '<s> [ [ [ 2, 1 ], [ 1, 2 3 ] ], [ [ 1, 2 ], [ 1, 2 3 4 ] ] ] <s> <s> <s> <s> <s> [ [',\n",
       " '<s> [ [ [ 1, 2 ], [ 1, 2 3 ] ], [ [ 1, -2 1 2 3 4 ], [ 3, 4 ] ] ] <s> <s> <s> <s> <s>',\n",
       " '<s> [ [ [ 1, 2 ], [ 1, 2 3 ] ], [ [ 1, 2 ] [ 1, 2 3 4 ], [ 2, 3 4 ] ] ] <s>',\n",
       " '<s> [ [ [ -2 1 2, 3 ], [ 2, 3 ] ], [ [ 1, 2 ], [ 1, 2 3 4 ] ] ] <s> <s> <s> <s> <s> <s>',\n",
       " '<s> [ [ [ 1, 2 ], [ 1, 2 3 ] ], [ [ 2, 1 ], [ 1, 2 3 4 ] ] ] <s> <s> <s> <s> <s> <s> [',\n",
       " '<s> [ [ [ 1, 2 ], [ 1, 2 3 ] ], [ [ 1, 2 3 4 ], [ 2 3, 4 ] ] ] <s> <s> <s> <s> <s> <s>',\n",
       " '<s> [ [ [ 1, 2 ] [ 1, 2 3 ], [ 2, 3 ] ], [ [ 1, 2 3 4 ], [ 1, 2 3 4 ] ] ]',\n",
       " '<s> [ [ [ 1, 2 ], [ 1, 2 3 ] ], [ [ 2, 1 ], [ 1, 2 3 4 ] ] ] <s> <s> <s> <s> <s> [ [',\n",
       " '<s> [ [ [ 2, 1 ] [ 1, 2 3 ], [ 2, 3 ] ], [ [ 1, 2 ], [ 1, 2 3 4 ] ] ] <s> <s>',\n",
       " '<s> [ [ [ 1, 2 ] [ 1, 2 3 ], [ 2, 3 ] ], [ [ 1, 2 3 4 ], [ 2 3, 4 ] ] ] <s>',\n",
       " '<s> [ [ [ 1, 2 ], [ 1, 2 3 ] ], [ [ 1, 2 ], [ 1, 2 3 4 ] ] ] <s> <s> [ [ [ [ [',\n",
       " '<s> [ [ [ 1, 2 ], [ 1, 2 3 ] ], [ [ [ 1, 2 ], 3 4 ], [ 3, 4 ] ] ] <s> <s> <s> <s>',\n",
       " '<s> [ [ [ 1, 2 ], [ 1, 2 3 ] ], [ [ 1, 2 ] [ 1, 2 3 4 ], [ 2 3, 4 ] ] ] <s>',\n",
       " '<s> [ [ [ 2, 1 ], [ 1, 2 3 ] ], [ [ 1, 2 ], [ 1, 2 3 4 ] ] ] <s> <s> <s> <s> [ [ [',\n",
       " '<s> [ [ [ 1, 2 ], [ 1, 2 3 ] ], [ [ 1, 2 ], [ 1, 2 3 4 ] ] ] <s> <s> <s> <s> [ [ 2',\n",
       " '<s> [ [ [ 1, 2 ] [ 1, 2 3 ], [ 2, 3 ] ], [ [ 2, 1 ], [ 1, 2 3 4 ] ] ] <s> <s>',\n",
       " '<s> [ [ [ 1, 2 ], [ 1, 2 3 ] ], [ [ -2 1 2, 3 4 ], [ 3, 4 ] ] ] <s> <s> <s> <s> <s> <s>',\n",
       " '<s> [ [ [ 2, 1 ], [ 1, 2 3 ] ], [ [ 2, 1 ], [ 1, 2 3 4 ] ] ] <s> <s> <s> <s> <s> <s> <s>',\n",
       " '<s> [ [ [ 1, 2 ] [ 1, 2 3 ], [ 2, 3 ] ], [ [ 1, 2 3 4 ], [ 2, 3 4 ] ] ] <s>',\n",
       " '<s> [ [ [ 1, 2 ], [ 1, 2 3 ] ], [ [ 1, 2 ], [ 1, 2 3 4 ] ] ] <s> <s> <s> [ [ [ 1',\n",
       " '<s> [ [ [ 1, 2 ] [ 3, 2 ], [ 2, 3 ] ], [ [ 1, 2 ], [ 1, 2 3 4 ] ] ] <s> <s> <s>',\n",
       " '<s> [ [ [ 1, 2 ], [ 1, 2 3 ] ], [ [ 2, 1 ], [ 1, 2 3 4 ] ] ] <s> <s> <s> <s> [ [ [',\n",
       " '<s> [ [ [ 1, 2 ], [ 1, 2 3 ] ], [ [ 1, 2 ], [ 1, 2 3 4 ] ] ] <s> <s> <s> <s> [ [ 3',\n",
       " '<s> [ [ [ [ 1, 2 ], 3 ], [ 2, 3 ] ], [ [ 1, 2 3 4 ], [ 2 3, 4 ] ] ] <s> <s> <s>',\n",
       " '<s> [ [ [ 1, 2 ], [ 1, 2 3 ] ], [ [ 1, 2 ], [ 1, 2 3 4 ] ] ] <s> <s> <s> [ [ 2,',\n",
       " '<s> [ [ [ 1, 2 ], [ 1, 2 3 ] ], [ [ 1, 2 ], [ 1, 2 3 4 ] ] ] <s> <s> <s> <s> [ [ 1',\n",
       " '<s> [ [ [ 1, 2 ], [ 1, 2 3 ] ], [ [ 1, 2 ], [ 1, 2 3 4 ] ] ] <s> <s> <s> [ [ [ 2',\n",
       " '<s> [ [ [ [ 2, 1 ], 3 ], [ 1, 2 3 ] ], [ [ 1, 2 3 4 ], [ 2 3, 4 ] ] ] <s> <s>',\n",
       " '<s> [ [ [ 2, 1 ], [ 1, 2 3 ] ], [ [ 1, 2 3 4 ], [ 1, 2 3 4 ] ] ] <s> <s> <s> <s> <s>',\n",
       " '<s> [ [ [ [ 2, 1 ], 3 ], [ 1, 2 3 ] ], [ [ 1, 2 3 4 ], [ 2, 3 4 ] ] ] <s> <s>',\n",
       " '<s> [ [ [ 1, 2 ], [ 1, 2 3 ] ], [ [ 1, 2 3 4 ], [ 1, 2 3 4 ] ] ] <s> <s> <s> <s> [',\n",
       " '<s> [ [ [ [ 1, 2 ], 3 ], [ 2, 3 ] ], [ [ 1, 2 ], [ 1, 2 3 4 ] ] ] <s> <s> <s> <s>',\n",
       " '<s> [ [ [ 1, -2 ], [ 1, 2 3 ] ], [ [ 1, 2 ], [ 1, 2 3 4 ] ] ] <s> <s> <s> <s> <s> <s> <s>',\n",
       " '<s> [ [ [ 2 1, 3 ], [ 1, 2 3 ] ], [ [ 1, 2 3 4 ], [ 2 3, 4 ] ] ] <s> <s> <s> <s> <s>',\n",
       " '<s> [ [ [ 1, 2 ], [ 1, 2 3 ] ], [ [ 1, 2 ], [ 1, 2 3 4 ] ] ] <s> <s> <s> <s> [ [ 4',\n",
       " '<s> [ [ [ 1, 2 ], [ 1, 2 3 ] ], [ [ 1, 2 ], [ 1, 2 3 4 ] ] ] <s> <s> [ [ [ 1,',\n",
       " '<s> [ [ [ 1, 2 ], [ 1, 2 3 ] ], [ [ 1, 2 ], [ 1, 2 3 4 ] ] ] <s> <s> <s> <s> <s> [ 4',\n",
       " '<s> [ [ [ [ 1, 2 ], 3 ], [ 1, 2 3 ] ], [ [ 1, 2 3 4 ], [ 2 3, 4 ] ] ] <s> <s>',\n",
       " '<s> [ [ [ 1, 2 ], [ 1, 2 3 ] ], [ [ 1, 2 ], [ 1, 2 3 4 ] ] ] <s> <s> <s> <s> [ [ -2']"
      ]
     },
     "execution_count": 12,
     "metadata": {},
     "output_type": "execute_result"
    }
   ],
   "source": [
    "generation_config = dict(\n",
    "    max_length = 40,\n",
    "    num_beams = 100,\n",
    "    num_return_sequences = 50,\n",
    ")\n",
    "\n",
    "# generation_config = dict(\n",
    "#     max_length = 40,\n",
    "#     do_sample = True,\n",
    "#     temperature = 1.5,\n",
    "#     num_return_sequences = 100,\n",
    "# )\n",
    "s = sampler(word, **generation_config)\n",
    "s()"
   ]
  },
  {
   "cell_type": "code",
   "execution_count": null,
   "metadata": {},
   "outputs": [],
   "source": []
  },
  {
   "cell_type": "code",
   "execution_count": 51,
   "metadata": {},
   "outputs": [],
   "source": [
    "assert normalize(to_freegroup(from_tokenizer('[ -1, [ 2 3 4 -3 -4 -2, [ 2, 3 4 1 ] ] ] '))) == word"
   ]
  },
  {
   "cell_type": "code",
   "execution_count": 70,
   "metadata": {},
   "outputs": [],
   "source": [
    "from typing import List\n",
    "from functools import reduce\n",
    "from random import sample\n",
    "\n",
    "Word = List[int]\n",
    "\n",
    "def remove_complementaries(word: Word):\n",
    "    if len(word) >= 2 and word[-1] == -word[-2]:\n",
    "        return word[:-2]\n",
    "    return word\n",
    "\n",
    "def remove_rotations(word: Word, *substrs: Word):\n",
    "    for substr in substrs:\n",
    "        if len(word) < len(substr): continue\n",
    "        doubled = substr * 2\n",
    "        for idx in range(len(doubled)):\n",
    "            if word[-len(substr):] == doubled[idx:idx + len(substr)]:\n",
    "                return word[:-len(substr)]\n",
    "    return word\n",
    "\n",
    "def combine(x, y):\n",
    "    x.append(y)\n",
    "    return x\n",
    "\n",
    "def generate_from_intersection(\n",
    "    prefix: Word,\n",
    "    num_generators: int,\n",
    "    max_iterations: int,\n",
    "):\n",
    "    generated = prefix[::]\n",
    "\n",
    "    stacks = [[] for _ in range(num_generators + 1)]\n",
    "    bases = [[i] for i in range(1, num_generators + 1)] + [list(range(1, num_generators + 1))]\n",
    "    ibases = [[-f for f in base[::-1]] for base in bases]\n",
    "\n",
    "    for i, (base, ibase) in enumerate(zip(bases, ibases)):\n",
    "        stacks[i] = reduce(lambda x, y: remove_complementaries(remove_rotations(combine(x, y), base, ibase)), prefix, [])\n",
    "\n",
    "    iteration = 0\n",
    "    while not all(map(lambda v: len(v) == 0, stacks)) and iteration < max_iterations:\n",
    "        iteration += 1\n",
    "\n",
    "        votes = {}\n",
    "        for stack, base, ibase in zip(stacks, bases, ibases):\n",
    "            if len(stack) == 0: continue\n",
    "\n",
    "            last = stack[-1]\n",
    "            if last == generated[-1]:\n",
    "                if not last in base and not last in ibase:\n",
    "                    for key in [base[0], ibase[0]]:\n",
    "                        votes[key] = votes.get(key, 0) + 1\n",
    "                elif last in base:\n",
    "                    idx = base.index(last)\n",
    "                    key = base[(idx + 1) % len(base)]\n",
    "                    votes[key] = votes.get(key, 0) + 1\n",
    "                elif last in ibase:\n",
    "                    idx = ibase.index(last)\n",
    "                    key = ibase[(idx + 1) % len(ibase)]\n",
    "                    votes[key] = votes.get(key, 0) + 1\n",
    "            else:\n",
    "                votes[-last] = votes.get(-last, 0) + 1\n",
    "\n",
    "        max_val  = max(votes.values())\n",
    "        max_key  = sample([key for key in votes.keys() if votes[key] == max_val], k = 1)[0]\n",
    "\n",
    "        generated.append(max_key)\n",
    "        \n",
    "        for i, (base, ibase) in enumerate(zip(bases, ibases)):\n",
    "            stacks[i] = remove_complementaries(remove_rotations(combine(stacks[i], max_key), base, ibase))\n",
    "    \n",
    "    \n",
    "    if not all(map(lambda v: len(v) == 0, stacks)):\n",
    "        return None\n",
    "    \n",
    "    return generated   "
   ]
  },
  {
   "cell_type": "code",
   "execution_count": 71,
   "metadata": {},
   "outputs": [
    {
     "name": "stderr",
     "output_type": "stream",
     "text": [
      "100%|██████████| 20/20 [00:35<00:00,  1.78s/it]\n"
     ]
    }
   ],
   "source": [
    "from numpy.random import randint\n",
    "from tqdm import trange\n",
    "\n",
    "number_generators = 4\n",
    "max_prefix_length = 20\n",
    "\n",
    "tries = 200\n",
    "max_iterations = 150\n",
    "\n",
    "num_samples = 20\n",
    "\n",
    "unique = set()\n",
    "\n",
    "for _ in trange(num_samples):\n",
    "    \n",
    "    generated = None\n",
    "    while generated is None or tuple(generated) in unique:\n",
    "        prefix = None\n",
    "        while prefix is None or len(prefix) == 0:\n",
    "            prefix = randint(-number_generators, number_generators + 1, size = randint(max_prefix_length)).tolist()\n",
    "            prefix = [f for f in prefix if f != 0]\n",
    "            prefix = reduce(lambda x, y: remove_complementaries(combine(x, y)), prefix, [])\n",
    "        \n",
    "        iteration = 0\n",
    "        while generated is None and iteration < tries:\n",
    "            generated = generate_from_intersection(prefix, number_generators, max_iterations)\n",
    "            iteration += 1\n",
    "    unique.add(tuple(generated))"
   ]
  },
  {
   "cell_type": "code",
   "execution_count": 74,
   "metadata": {},
   "outputs": [
    {
     "name": "stdout",
     "output_type": "stream",
     "text": [
      "[-4, -1, -2, 1, -3, -2, -1, -4, -1, 4, 2, 3, 4, -3, -2, 3, 4, -3, -2, -1, -4, 1, 2, -1, 4, 1, 3, -1, -4, 1, 2, -1, 4, 1, -4, -2, -3, 2, 4, -1, -4, 1, -2, -1, 3, 4, -3, -4, 1, -2, -1, 4, 1, 2, 3, -4, -3, 2, 3, 4, -3, -2, -1, 3, -4, -3, 1, 2, -1, 4, 1, -4, -2, 3, 2, 4, -1, -4, 1, -2, -1, 4, 1, -3, 2, 3, -4, -4, -3, -2, -4, 1, 4, 1, 2, 3, -1, 2, 1, 4]\n",
      "[4, 1, 3, -2, 3, 1, 3, 4, -1, -4, -4, -1, 2, -3, -2, -1, 2, 3, -2, 4, -3, -2, -1, -4, 1, 2, 3, 2, -3, -2, 1, 2, 3, -2, -3, -1, -2, -1, 4, 1, 2, 3, -4, -3, 1, 3, 1, 4, 4, 1, -4, -3, -1, -3, 2, -3, -1, -4]\n",
      "[[[Y, Z], x], [pxy, xP][P, Zx][x, y]]\n",
      "[-1, -4, 1, 2, -1, -4, -3, -2, 3, 4, 4, 1, -4, -3, 4, -1, -4, 1, 3, -1, -4, -3, 2, 3, 4, 1, -2, -3, -1, 4, 1, -4, 3, 4]\n",
      "[1, 2, 3, 4, -3, -2, -1, 2, 3, -2, 1, 2, -4, -2, -1, 2, -3, -2, 3, 1, 4, -1, -3, 1, 3, -4, -3, -1, -4, -3, -2, 3, 4, -3, -1, 3, 1, -4, -1, -3, 2, 3, -2, 1, 2, 4, -2, -1, 2, -3, -2, 1, 2, 3]\n",
      "[[X, [pYP, [P, z]]], [X, z][z, yzp]]\n",
      "[1, 2, 3, -2, -1, -4, -3, 4, -2, -1, 2, 3, -2, -1, -4, -3, 4, 1, 1, 2, -1, -4, 1, -2, -1, 2, 4, -2, -1, -4, 3, 4, 1, 2, -3, -4, -2, 1, 2, -1, 4, 1, -4, 3, 4, 1, 2, -3, -2, -1]\n",
      "[3, -4, -2, 4, 1, 2, -1, -4, -3, 4, 1, -4, -3, 4, 1, -4, -3, -2, -1, 2, 3, 3, 4, -3, -2, 3, -4, -3, 4, 2, -4, -3, -2, 1, 2, 3, 4, -1, -2, -4, 3, 4, -3, 2, 3, -1, -4, 3, 4, 1, -2, -1, -4, 2, 4, -3]\n",
      "[Zx, Y][[p, [Z, Y]], [yzp, X]][Y, Zx]\n",
      "[4, -3, 2, 3, -4, -3, -2, 3, 2, 4, -2, -1, 2, 3, 4, 1, -4, -3, -4, -2, -3, 2, 3, 4, -3, -2, 3, 2, 3, 4, -1, -4, -3, -2, 1, -4]\n",
      "[-2, 1, 2, 3, 4, 2, -4, -3, -1, -4, 1, 2, 3, -2, -1, 2, -3, -2, 4, 1, 4, -1, -4, -3, 4, 1, -4, -3, -2, 3, 4, 1, 2, -1, -1, -4, 3, 4, 1, -4, -1, -3, 1, 4, 1, -2, -1, -4, -3, 2, 3, -1, 3, -4, 2, 3, -2, 1, 2, -3, -2, -1, 4, 1, 3, 4, -2, -4, -3, -2, -1, 2]\n",
      "[4, 3, -4, 1, 1, 1, 2, -1, -4, -3, -2, 3, 4, -1, -1, 4, -3, -4, 1, 4, 3, -4, -3, -1, 3, 1, 1, -4, -3, 2, 3, 4, 1, -2, -1, -1, -1, -3, 1, 3, 4, -3, -4, -1]\n",
      "[2, 4, -2, -1, -4, -3, 4, 1, 2, -4, -2, -1, 3, 1, 2, -1, -4, -3, -2, 3, 4, -3, 1, 4, -1, -4, 3, 4, 1, -4, -1, -4, -3, 2, 3, 4, 1, -2, 4, -1, -4, -3, 4, 1, -4, 2, 4, -2, -1, -4, 3, 4, 1, 2, -4, -2]\n",
      "[-4, 2, 2, 3, -2, -1, 2, 3, 4, 1, -4, -3, -3, -2, -2, 4, 2, 3, -2, -4, 2, 4, -3, -4, 2, 3, 3, 4, -1, -4, -3, -2, 1, 2, -3, -2, 4, 3, -4, -2, 4, 2, -3, -2]\n",
      "[-2, -4, 3, -1, 3, 2, -3, -4, -3, -2, 3, 4, 1, -3, -1, -4, 1, 2, 3, 4, -3, -2, 3, -1, -3, 2, 3, -2, 1, 2, -4, -3, -2, -1, 4, 1, 2, 3, -2, -1, 2, -3, -2, 3, -4, -3, 2, 3, 4, 3, -2, -3, 1, -3, 4, 2]\n",
      "[1, 2, -3, -3, -4, 3, 1, 2, 2, 3, 4, -3, -2, 3, 4, -3, -2, -1, 2, 3, -4, -3, -2, 3, 4, -3, -4, 2, 4, 1, -4, -3, -2, -1, 2, 3, -2, 4, 3, -4, -3, 2, 3, 4, -3, -4, -3, -2, 1, 2, 3, 4, -1, -2, 1, 2, 3, -4, -3, 2, 3, -4, -3, -2, -2, -1, -3, 4, 3, 3, -2, -1]\n",
      "[-4, 2, 3, 2, -4, 2, 2, 4, -2, -4, -1, 4, 1, -2, -1, -4, 1, 4, -3, 4, 1, 2, 3, -2, -1, -4, -4, -1, 4, 1, 2, -1, -4, 1, 4, -2, 4, 1, 2, -3, -2, -1, -4, 3, 2, 2, -4, -2, -2, 4, -2, -3, -2, 4]\n",
      "[1, -2, -1, -1, -2, -2, -2, -1, 2, 3, -2, -1, -4, -3, 4, 1, -4, -3, 2, 3, 4, -3, -2, 3, -1, -4, 3, 4, 1, 2, -3, -2, 1, 2, 3, -2, -1, -4, -3, 4, -3, 2, 3, -4, -3, -2, 3, 3, 4, 1, 2, -3, 2, 2, 1, 1, 2, -1]\n",
      "[[y, z][pzP, y], [pXPZY, Z][Z, YX]]\n",
      "[3, 4, -3, -2, -1, -4, 1, 2, -1, 4, 1, 3, -1, -4, 1, 2, -1, -4, -3, -2, 3, 4, 4, 1, -4, -3, 4, -1, -4, 1, 3, -1, -4, -3, 2, 3, 4, 1, -2, -3, -1, 4, 1, -4, 3, 4, -3, -1, -4, 1, -2, -1, 4, 1, 2, 3, -4, -3]\n"
     ]
    }
   ],
   "source": [
    "generation_config = dict(\n",
    "    max_length = 40,\n",
    "    num_beams = 100,\n",
    "    num_return_sequences = 50,\n",
    ")\n",
    "\n",
    "\n",
    "failed = []\n",
    "\n",
    "for w in unique:\n",
    "    w = list(w)\n",
    "    try: \n",
    "        c = next(translation(w, num_tries = 1, **generation_config))\n",
    "        print(to_lu(c))\n",
    "    except StopIteration:\n",
    "        print(w)\n",
    "        failed.append(w)\n",
    "    "
   ]
  }
 ],
 "metadata": {
  "kernelspec": {
   "display_name": "Python 3",
   "language": "python",
   "name": "python3"
  },
  "language_info": {
   "codemirror_mode": {
    "name": "ipython",
    "version": 3
   },
   "file_extension": ".py",
   "mimetype": "text/x-python",
   "name": "python",
   "nbconvert_exporter": "python",
   "pygments_lexer": "ipython3",
   "version": "3.8.10"
  },
  "orig_nbformat": 4,
  "vscode": {
   "interpreter": {
    "hash": "31f2aee4e71d21fbe5cf8b01ff0e069b9275f58929596ceb00d14d90e3e16cd6"
   }
  }
 },
 "nbformat": 4,
 "nbformat_minor": 2
}
